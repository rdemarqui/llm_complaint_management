{
 "cells": [
  {
   "cell_type": "markdown",
   "metadata": {
    "id": "JdXiJzMm7ewB"
   },
   "source": [
    "# Tagging Customer Feedback with LLM"
   ]
  },
  {
   "cell_type": "markdown",
   "metadata": {
    "id": "1Ex4zf24D1-m"
   },
   "source": [
    "This study aims to explore the advanced LLM tool Mistral 7B to analyze a vast collection of complaints gathered from the website [reclameaqui.com.br](reclameaqui.com.br). Through this analysis, we intend to demonstrate the potential and effectiveness of LLMs in interpreting and handling large-scale user feedback."
   ]
  },
  {
   "cell_type": "markdown",
   "metadata": {
    "id": "e_s1QiOU98Rc"
   },
   "source": [
    "## Complaint Dataset"
   ]
  },
  {
   "cell_type": "markdown",
   "metadata": {
    "id": "kZWO80q3-PsC"
   },
   "source": [
    "### Load"
   ]
  },
  {
   "cell_type": "code",
   "execution_count": 1,
   "metadata": {
    "id": "tSvJsvLbHoQp"
   },
   "outputs": [],
   "source": [
    "import pandas as pd\n",
    "import numpy as np\n",
    "from sklearn.model_selection import train_test_split\n",
    "import matplotlib.pyplot as plt\n",
    "import seaborn as sns\n",
    "import warnings\n",
    "warnings.filterwarnings(\"ignore\", category=UserWarning)\n",
    "\n",
    "sns.set_theme()"
   ]
  },
  {
   "cell_type": "code",
   "execution_count": 2,
   "metadata": {
    "colab": {
     "base_uri": "https://localhost:8080/"
    },
    "id": "cduSRhNh4VB5",
    "outputId": "15baa37b-1324-4967-8834-1ea1e34832e7"
   },
   "outputs": [
    {
     "name": "stdout",
     "output_type": "stream",
     "text": [
      "(202, 2)\n"
     ]
    }
   ],
   "source": [
    "# Loading data\n",
    "data_url = 'https://raw.githubusercontent.com/rdemarqui/sbrc_2024/main/data/df_validation.xlsx'\n",
    "data = pd.read_excel(data_url, usecols=['problem', 'description'])\n",
    "print(data.shape)"
   ]
  },
  {
   "cell_type": "markdown",
   "metadata": {
    "id": "pAx7QfsGBLfN"
   },
   "source": [
    "### Clean"
   ]
  },
  {
   "cell_type": "code",
   "execution_count": 3,
   "metadata": {
    "id": "UmvxMuJuBOy7"
   },
   "outputs": [],
   "source": [
    "# Remove speciac characters, extra space and uncase all words\n",
    "data['description'] = data['description'].astype(str)\n",
    "data['description'] = data['description'].str.replace(r'<', ' ', regex=True)\n",
    "data['description'] = data['description'].str.replace(r'>', ' ', regex=True)\n",
    "data['description'] = data['description'].str.replace(r'#', ' ', regex=True)\n",
    "data['description'] = data['description'].str.replace(r'\\s{2,}', ' ', regex=True)\n",
    "data['description'] = data['description'].str.lower()"
   ]
  },
  {
   "cell_type": "code",
   "execution_count": 4,
   "metadata": {
    "id": "mSHPHLv0JdLR"
   },
   "outputs": [],
   "source": [
    "# Modify mask made by reclame aqui\n",
    "def remove_mask(text):\n",
    "  return text.replace(\"[editado pelo reclame aqui]\", \"[mask]\")\n",
    "\n",
    "data['description'] = data['description'].apply(remove_mask)"
   ]
  },
  {
   "cell_type": "code",
   "execution_count": 5,
   "metadata": {
    "id": "n9DYRkEGdB5L"
   },
   "outputs": [],
   "source": [
    "# Remove description less than 3 characters\n",
    "data = data[data['description'].str.len() > 3].copy()\n",
    "df = data.copy()"
   ]
  },
  {
   "cell_type": "markdown",
   "metadata": {
    "id": "RlSuXm0N-APD"
   },
   "source": [
    "### Analysis"
   ]
  },
  {
   "cell_type": "code",
   "execution_count": 6,
   "metadata": {
    "colab": {
     "base_uri": "https://localhost:8080/",
     "height": 554
    },
    "id": "trUhFZEarsl5",
    "outputId": "dd2545e5-a7a5-484c-e46b-e71c9b4ca4c2"
   },
   "outputs": [
    {
     "data": {
      "text/html": [
       "<div>\n",
       "<style scoped>\n",
       "    .dataframe tbody tr th:only-of-type {\n",
       "        vertical-align: middle;\n",
       "    }\n",
       "\n",
       "    .dataframe tbody tr th {\n",
       "        vertical-align: top;\n",
       "    }\n",
       "\n",
       "    .dataframe thead th {\n",
       "        text-align: right;\n",
       "    }\n",
       "</style>\n",
       "<table border=\"1\" class=\"dataframe\">\n",
       "  <thead>\n",
       "    <tr style=\"text-align: right;\">\n",
       "      <th></th>\n",
       "      <th>count</th>\n",
       "    </tr>\n",
       "    <tr>\n",
       "      <th>problem</th>\n",
       "      <th></th>\n",
       "    </tr>\n",
       "  </thead>\n",
       "  <tbody>\n",
       "    <tr>\n",
       "      <th>Consumo de crédito</th>\n",
       "      <td>15</td>\n",
       "    </tr>\n",
       "    <tr>\n",
       "      <th>Problema com recarga</th>\n",
       "      <td>15</td>\n",
       "    </tr>\n",
       "    <tr>\n",
       "      <th>Portabilidade</th>\n",
       "      <td>15</td>\n",
       "    </tr>\n",
       "    <tr>\n",
       "      <th>Promoções</th>\n",
       "      <td>15</td>\n",
       "    </tr>\n",
       "    <tr>\n",
       "      <th>Cancelamento</th>\n",
       "      <td>15</td>\n",
       "    </tr>\n",
       "    <tr>\n",
       "      <th>Instabilidade do sinal</th>\n",
       "      <td>15</td>\n",
       "    </tr>\n",
       "    <tr>\n",
       "      <th>Planos e tarifas</th>\n",
       "      <td>14</td>\n",
       "    </tr>\n",
       "    <tr>\n",
       "      <th>Qualidade da internet</th>\n",
       "      <td>14</td>\n",
       "    </tr>\n",
       "    <tr>\n",
       "      <th>Demora na execução</th>\n",
       "      <td>14</td>\n",
       "    </tr>\n",
       "    <tr>\n",
       "      <th>Cobrança indevida</th>\n",
       "      <td>14</td>\n",
       "    </tr>\n",
       "    <tr>\n",
       "      <th>Mudança de plano</th>\n",
       "      <td>14</td>\n",
       "    </tr>\n",
       "    <tr>\n",
       "      <th>Problemas com o chip</th>\n",
       "      <td>14</td>\n",
       "    </tr>\n",
       "    <tr>\n",
       "      <th>Corte indevido da linha</th>\n",
       "      <td>14</td>\n",
       "    </tr>\n",
       "    <tr>\n",
       "      <th>Mau atendimento do prestador de serviço</th>\n",
       "      <td>14</td>\n",
       "    </tr>\n",
       "  </tbody>\n",
       "</table>\n",
       "</div><br><label><b>dtype:</b> int64</label>"
      ],
      "text/plain": [
       "problem\n",
       "Consumo de crédito                         15\n",
       "Problema com recarga                       15\n",
       "Portabilidade                              15\n",
       "Promoções                                  15\n",
       "Cancelamento                               15\n",
       "Instabilidade do sinal                     15\n",
       "Planos e tarifas                           14\n",
       "Qualidade da internet                      14\n",
       "Demora na execução                         14\n",
       "Cobrança indevida                          14\n",
       "Mudança de plano                           14\n",
       "Problemas com o chip                       14\n",
       "Corte indevido da linha                    14\n",
       "Mau atendimento do prestador de serviço    14\n",
       "Name: count, dtype: int64"
      ]
     },
     "execution_count": 6,
     "metadata": {},
     "output_type": "execute_result"
    }
   ],
   "source": [
    "# Show each problem category\n",
    "df['problem'].value_counts()"
   ]
  },
  {
   "cell_type": "code",
   "execution_count": 7,
   "metadata": {
    "colab": {
     "base_uri": "https://localhost:8080/",
     "height": 335
    },
    "id": "G0gvCGaxsuBp",
    "outputId": "d63144f1-8b5b-40c3-87a5-2f4fc7e14b5d"
   },
   "outputs": [
    {
     "data": {
      "text/html": [
       "<div>\n",
       "<style scoped>\n",
       "    .dataframe tbody tr th:only-of-type {\n",
       "        vertical-align: middle;\n",
       "    }\n",
       "\n",
       "    .dataframe tbody tr th {\n",
       "        vertical-align: top;\n",
       "    }\n",
       "\n",
       "    .dataframe thead th {\n",
       "        text-align: right;\n",
       "    }\n",
       "</style>\n",
       "<table border=\"1\" class=\"dataframe\">\n",
       "  <thead>\n",
       "    <tr style=\"text-align: right;\">\n",
       "      <th></th>\n",
       "      <th>word_count</th>\n",
       "    </tr>\n",
       "  </thead>\n",
       "  <tbody>\n",
       "    <tr>\n",
       "      <th>count</th>\n",
       "      <td>202.000000</td>\n",
       "    </tr>\n",
       "    <tr>\n",
       "      <th>mean</th>\n",
       "      <td>104.148515</td>\n",
       "    </tr>\n",
       "    <tr>\n",
       "      <th>std</th>\n",
       "      <td>73.674811</td>\n",
       "    </tr>\n",
       "    <tr>\n",
       "      <th>min</th>\n",
       "      <td>4.000000</td>\n",
       "    </tr>\n",
       "    <tr>\n",
       "      <th>25%</th>\n",
       "      <td>48.000000</td>\n",
       "    </tr>\n",
       "    <tr>\n",
       "      <th>50%</th>\n",
       "      <td>89.000000</td>\n",
       "    </tr>\n",
       "    <tr>\n",
       "      <th>75%</th>\n",
       "      <td>147.500000</td>\n",
       "    </tr>\n",
       "    <tr>\n",
       "      <th>max</th>\n",
       "      <td>437.000000</td>\n",
       "    </tr>\n",
       "  </tbody>\n",
       "</table>\n",
       "</div><br><label><b>dtype:</b> float64</label>"
      ],
      "text/plain": [
       "count    202.000000\n",
       "mean     104.148515\n",
       "std       73.674811\n",
       "min        4.000000\n",
       "25%       48.000000\n",
       "50%       89.000000\n",
       "75%      147.500000\n",
       "max      437.000000\n",
       "Name: word_count, dtype: float64"
      ]
     },
     "execution_count": 7,
     "metadata": {},
     "output_type": "execute_result"
    }
   ],
   "source": [
    "# Show words statistics\n",
    "df['word_count'] = df['description'].str.split().str.len()\n",
    "df['text_len'] = df['description'].str.len()\n",
    "df['word_count'].describe()"
   ]
  },
  {
   "cell_type": "code",
   "execution_count": 8,
   "metadata": {
    "colab": {
     "base_uri": "https://localhost:8080/",
     "height": 509
    },
    "id": "KMrNKNN4vdjj",
    "outputId": "b81f6809-41d1-4ffd-ef01-96b8d2be11ae"
   },
   "outputs": [
    {
     "data": {
      "image/png": "[encoded data removed]",
      "text/plain": [
       "<Figure size 500x500 with 3 Axes>"
      ]
     },
     "metadata": {},
     "output_type": "display_data"
    }
   ],
   "source": [
    "# Check correlation between word count and text lenght\n",
    "chart_joint = sns.jointplot(data=df, x=\"text_len\", y=\"word_count\", height=5)\n",
    "chart_joint.fig.suptitle(\"Correlation between word count and text lenght\")\n",
    "chart_joint.fig.tight_layout()\n",
    "chart_joint.fig.subplots_adjust(top=0.92)"
   ]
  },
  {
   "cell_type": "code",
   "execution_count": 9,
   "metadata": {
    "colab": {
     "base_uri": "https://localhost:8080/",
     "height": 554
    },
    "id": "GoZe2yuG9B4u",
    "outputId": "a15c8cfc-1a2b-4fcd-88e6-9cbcdf639068"
   },
   "outputs": [
    {
     "data": {
      "text/html": [
       "<div>\n",
       "<style scoped>\n",
       "    .dataframe tbody tr th:only-of-type {\n",
       "        vertical-align: middle;\n",
       "    }\n",
       "\n",
       "    .dataframe tbody tr th {\n",
       "        vertical-align: top;\n",
       "    }\n",
       "\n",
       "    .dataframe thead th {\n",
       "        text-align: right;\n",
       "    }\n",
       "</style>\n",
       "<table border=\"1\" class=\"dataframe\">\n",
       "  <thead>\n",
       "    <tr style=\"text-align: right;\">\n",
       "      <th></th>\n",
       "      <th>word_count</th>\n",
       "    </tr>\n",
       "    <tr>\n",
       "      <th>problem</th>\n",
       "      <th></th>\n",
       "    </tr>\n",
       "  </thead>\n",
       "  <tbody>\n",
       "    <tr>\n",
       "      <th>Cancelamento</th>\n",
       "      <td>133.0</td>\n",
       "    </tr>\n",
       "    <tr>\n",
       "      <th>Cobrança indevida</th>\n",
       "      <td>157.0</td>\n",
       "    </tr>\n",
       "    <tr>\n",
       "      <th>Consumo de crédito</th>\n",
       "      <td>90.0</td>\n",
       "    </tr>\n",
       "    <tr>\n",
       "      <th>Corte indevido da linha</th>\n",
       "      <td>64.0</td>\n",
       "    </tr>\n",
       "    <tr>\n",
       "      <th>Demora na execução</th>\n",
       "      <td>56.0</td>\n",
       "    </tr>\n",
       "    <tr>\n",
       "      <th>Instabilidade do sinal</th>\n",
       "      <td>53.0</td>\n",
       "    </tr>\n",
       "    <tr>\n",
       "      <th>Mau atendimento do prestador de serviço</th>\n",
       "      <td>110.0</td>\n",
       "    </tr>\n",
       "    <tr>\n",
       "      <th>Mudança de plano</th>\n",
       "      <td>99.0</td>\n",
       "    </tr>\n",
       "    <tr>\n",
       "      <th>Planos e tarifas</th>\n",
       "      <td>97.5</td>\n",
       "    </tr>\n",
       "    <tr>\n",
       "      <th>Portabilidade</th>\n",
       "      <td>100.0</td>\n",
       "    </tr>\n",
       "    <tr>\n",
       "      <th>Problema com recarga</th>\n",
       "      <td>54.0</td>\n",
       "    </tr>\n",
       "    <tr>\n",
       "      <th>Problemas com o chip</th>\n",
       "      <td>109.0</td>\n",
       "    </tr>\n",
       "    <tr>\n",
       "      <th>Promoções</th>\n",
       "      <td>56.0</td>\n",
       "    </tr>\n",
       "    <tr>\n",
       "      <th>Qualidade da internet</th>\n",
       "      <td>60.5</td>\n",
       "    </tr>\n",
       "  </tbody>\n",
       "</table>\n",
       "</div><br><label><b>dtype:</b> float64</label>"
      ],
      "text/plain": [
       "problem\n",
       "Cancelamento                               133.0\n",
       "Cobrança indevida                          157.0\n",
       "Consumo de crédito                          90.0\n",
       "Corte indevido da linha                     64.0\n",
       "Demora na execução                          56.0\n",
       "Instabilidade do sinal                      53.0\n",
       "Mau atendimento do prestador de serviço    110.0\n",
       "Mudança de plano                            99.0\n",
       "Planos e tarifas                            97.5\n",
       "Portabilidade                              100.0\n",
       "Problema com recarga                        54.0\n",
       "Problemas com o chip                       109.0\n",
       "Promoções                                   56.0\n",
       "Qualidade da internet                       60.5\n",
       "Name: word_count, dtype: float64"
      ]
     },
     "execution_count": 9,
     "metadata": {},
     "output_type": "execute_result"
    }
   ],
   "source": [
    "# Check word median per category\n",
    "df.groupby('problem')['word_count'].median()"
   ]
  },
  {
   "cell_type": "markdown",
   "metadata": {
    "id": "0pWtuhOjN6UU"
   },
   "source": [
    "## Text Classification"
   ]
  },
  {
   "cell_type": "markdown",
   "metadata": {
    "id": "ezJirXNkaeVC"
   },
   "source": [
    "### Load Model"
   ]
  },
  {
   "cell_type": "markdown",
   "metadata": {
    "id": "5d_Rtp_pCVpv"
   },
   "source": [
    "There are several 7B models available as open source, such as Mistral, LLama, Falcon, Zephyr, and Openchat. In this study we will use Mistral, but other models can also be tested, just paying attention to adapting the instruction structure."
   ]
  },
  {
   "cell_type": "code",
   "execution_count": 10,
   "metadata": {
    "id": "Bi0-tycumPr4"
   },
   "outputs": [],
   "source": [
    "import time\n",
    "from datetime import timedelta, datetime\n",
    "from google.colab import files\n",
    "from IPython.display import clear_output"
   ]
  },
  {
   "cell_type": "code",
   "execution_count": 11,
   "metadata": {
    "id": "MiKmBM3s4bEr"
   },
   "outputs": [],
   "source": [
    "%%capture\n",
    "# Install vllm dependency\n",
    "!pip install vllm"
   ]
  },
  {
   "cell_type": "code",
   "execution_count": 12,
   "metadata": {
    "colab": {
     "base_uri": "https://localhost:8080/"
    },
    "id": "3hYNAQcn4bH1",
    "outputId": "a6e2965d-59c0-4307-e292-d96b880cd42f"
   },
   "outputs": [
    {
     "name": "stdout",
     "output_type": "stream",
     "text": [
      "INFO 04-23 13:52:57 [__init__.py:239] Automatically detected platform cuda.\n"
     ]
    }
   ],
   "source": [
    "from vllm import LLM, SamplingParams"
   ]
  },
  {
   "cell_type": "markdown",
   "metadata": {
    "id": "LNrC6Je7DLJ_"
   },
   "source": [
    "We will load the pre-trained Mistral 7B model, quantized by the user TheBloke and available at: https://huggingface.co/TheBloke/Mistral-7B-Instruct-v0.2-AWQ"
   ]
  },
  {
   "cell_type": "code",
   "execution_count": null,
   "metadata": {
    "colab": {
     "base_uri": "https://localhost:8080/",
     "height": 448,
     "referenced_widgets": [
      "aab09fa2dbfd490f9caafc4c306b27da",
      "f55cfa8bb6584ee2a0c8d7488c95f46c",
      "c0161aee24854a74ad1531990c12e84b",
      "5ffea07201334e709aeb4f32fa6e6f4b",
      "f19a099fdc274409b7523cbafa37d01d",
      "f8ae546b332e4875b18472dc4f0eeece",
      "ae233b901bca41328ce420bf43685af4",
      "1abe56bccf3e45a9b80221994bc4a174",
      "23bf7a2cbbec4ec29780ba422ca73ad2",
      "f311aa1618624d22a0b15854b7974fa3",
      "d51d4ba536ab455a812413220e4cab86",
      "448c5081c3f14a289ff28acb39b72b37",
      "38b213fbe15f4c6bb9eff9cd095488cc",
      "2ef5c16970cc49378abf877ff8af9968",
      "8b0e626d572a4c95a95d03b2155f120e",
      "23b8ad7dd09b4191bb5c7a73d84036c4",
      "12bdc622628f4941a07d06b58978dab1",
      "6dbe64cdb5fa458cbdc4e470c554e285",
      "23af655d6bfa439497c704c4b41e0d2d",
      "f44441b0020a431682fd83b0063ce52e",
      "041360a82a6b47b6a909ca3e2c99fa63",
      "d3a664f30e6c437cbbfa894045db30d6"
     ]
    },
    "id": "VEZiXigZ4bK2",
    "outputId": "f88b26a1-1ac1-43cf-a959-2babfb1d1dbb"
   },
   "outputs": [],
   "source": [
    "# Load the LLM\n",
    "model_id = \"TheBloke/Mistral-7B-Instruct-v0.2-AWQ\"\n",
    "sampling_params = SamplingParams(temperature=0.0, top_p=1.0, max_tokens=60)\n",
    "model = LLM(\n",
    "    model=model_id,\n",
    "    quantization='awq',\n",
    "    dtype='half',\n",
    "    gpu_memory_utilization=.95,\n",
    "    max_model_len=4096\n",
    ")"
   ]
  },
  {
   "cell_type": "markdown",
   "metadata": {
    "id": "LE5bdD4xai9x"
   },
   "source": [
    "### Prompt Engineering"
   ]
  },
  {
   "cell_type": "markdown",
   "metadata": {
    "id": "xAqjCsmUSkzH"
   },
   "source": [
    "Prompt Guides:\n",
    "* https://docs.mistral.ai/guides/prompting-capabilities/\n",
    "* https://www.promptingguide.ai/models/mistral-7b\n",
    "* https://huggingface.co/docs/transformers/main/tasks/prompting"
   ]
  },
  {
   "cell_type": "code",
   "execution_count": 14,
   "metadata": {
    "id": "9-WCnO807zU_"
   },
   "outputs": [],
   "source": [
    "# Define tags\n",
    "tags = ['sinal/conexão de rede', 'cobrança indevida', 'consumo saldo/crédito',\n",
    "        'plano/benefício', 'cancelamento linha/plano', 'chip/sim card', 'spam',\n",
    "        'portabilidade', 'recarga/pagamento', 'dificuldade de contato']\n",
    "\n",
    "# Transform tag list in one string\n",
    "tags_comma = \", \".join(f\"{tag}\" for tag in tags)"
   ]
  },
  {
   "cell_type": "code",
   "execution_count": 15,
   "metadata": {
    "id": "4gJDFLcbD1VO"
   },
   "outputs": [],
   "source": [
    "# Examples\n",
    "dialog_dict = {\n",
    "    \"conv1_1t\": [\"Esse plano é ruim!\", \"plano/benefício\"],\n",
    "    \"conv2_1t\": [\"Recebo muitas mensagens de propaganda\", \"spam\"]\n",
    "}"
   ]
  },
  {
   "cell_type": "code",
   "execution_count": 16,
   "metadata": {
    "id": "1wHWn3uPULbT"
   },
   "outputs": [],
   "source": [
    "complaint_text = \"\"\"\n",
    "Reclamação: {user_complain}\n",
    "\"\"\"\n",
    "\n",
    "task = \"\"\"\n",
    "Tarefa: Classifique a reclamação. Atenção use apenas as categorias abaixo.\n",
    "{tags}\n",
    "\n",
    "Importante, apenas classifique sem explicar!\n",
    "\"\"\"\n",
    "answer = \"\"\"\n",
    "Rótulos:\"\"\""
   ]
  },
  {
   "cell_type": "markdown",
   "metadata": {
    "id": "S_KS0hO40FsZ"
   },
   "source": [
    "#### Zero-shot"
   ]
  },
  {
   "cell_type": "code",
   "execution_count": 17,
   "metadata": {
    "colab": {
     "base_uri": "https://localhost:8080/"
    },
    "id": "_cY844Br0l3S",
    "outputId": "3aaa0b53-5942-47c8-c630-dff7e1b402ca"
   },
   "outputs": [
    {
     "name": "stdout",
     "output_type": "stream",
     "text": [
      "[INST]\n",
      "Reclamação: {user_complain}\n",
      "\n",
      "Tarefa: Classifique a reclamação. Atenção use apenas as categorias abaixo.\n",
      "sinal/conexão de rede, cobrança indevida, consumo saldo/crédito, plano/benefício, cancelamento linha/plano, chip/sim card, spam, portabilidade, recarga/pagamento, dificuldade de contato\n",
      "\n",
      "Importante, apenas classifique sem explicar!\n",
      "\n",
      "Rótulos:[/INST]\n"
     ]
    }
   ],
   "source": [
    "zero_shot = ('[INST]' + complaint_text\n",
    "             + task.format(tags=tags_comma)\n",
    "             + answer + '[/INST]')\n",
    "print(zero_shot)"
   ]
  },
  {
   "cell_type": "markdown",
   "metadata": {
    "id": "tmSYu0Tc0Q3C"
   },
   "source": [
    "#### Few-shot"
   ]
  },
  {
   "cell_type": "code",
   "execution_count": 18,
   "metadata": {
    "id": "v6t13ucbGI5c"
   },
   "outputs": [],
   "source": [
    "few_examples = \"\"\"\n",
    "###\n",
    "Abaixo alguns exemplos:\n",
    "\n",
    "Reclamação: {ex1}\n",
    "Rótulos: {cat1}\n",
    "Reclamação: {ex2}\n",
    "Rótulos: {cat2}\n",
    "###\n",
    "\"\"\".format(ex1=dialog_dict['conv1_1t'][0], cat1=dialog_dict['conv1_1t'][1],\n",
    "           ex2=dialog_dict['conv2_1t'][0], cat2=dialog_dict['conv2_1t'][1])"
   ]
  },
  {
   "cell_type": "code",
   "execution_count": 19,
   "metadata": {
    "colab": {
     "base_uri": "https://localhost:8080/"
    },
    "id": "CLaiOkHVXutp",
    "outputId": "db1f7749-04ad-40f7-b92a-c851208256b9"
   },
   "outputs": [
    {
     "name": "stdout",
     "output_type": "stream",
     "text": [
      "[INST]\n",
      "Reclamação: {user_complain}\n",
      "\n",
      "Tarefa: Classifique a reclamação. Atenção use apenas as categorias abaixo.\n",
      "sinal/conexão de rede, cobrança indevida, consumo saldo/crédito, plano/benefício, cancelamento linha/plano, chip/sim card, spam, portabilidade, recarga/pagamento, dificuldade de contato\n",
      "\n",
      "Importante, apenas classifique sem explicar!\n",
      "\n",
      "###\n",
      "Abaixo alguns exemplos:\n",
      "\n",
      "Reclamação: Esse plano é ruim!\n",
      "Rótulos: plano/benefício\n",
      "Reclamação: Recebo muitas mensagens de propaganda\n",
      "Rótulos: spam\n",
      "###\n",
      "\n",
      "Rótulos:[/INST]\n"
     ]
    }
   ],
   "source": [
    "few_shot = (\n",
    "    '[INST]'\n",
    "    + complaint_text + task.format(tags=tags_comma)\n",
    "    + few_examples + answer\n",
    "    + '[/INST]')\n",
    "\n",
    "print(few_shot)"
   ]
  },
  {
   "cell_type": "markdown",
   "metadata": {
    "id": "wXHHNdh80fJS"
   },
   "source": [
    "#### Multi-turn conversation"
   ]
  },
  {
   "cell_type": "code",
   "execution_count": 20,
   "metadata": {
    "id": "G3sJFfGaoLeE"
   },
   "outputs": [],
   "source": [
    "conv = \"\"\"<s>[INST]\n",
    "Reclamação: {user_complain}\n",
    "\n",
    "Tarefa: Classifique a reclamação. Atenção use apenas as categorias abaixo.\n",
    "{tags}\n",
    "\n",
    "Importante, apenas classifique sem explicar!\n",
    "\n",
    "Rótulos:[/INST] {answer}\n",
    "</s>\n",
    "\"\"\"\n",
    "conv_1 = conv.format(user_complain=dialog_dict['conv1_1t'][0],\n",
    "                     tags=tags_comma,\n",
    "                     answer=dialog_dict['conv1_1t'][1])\n",
    "conv_2 = conv.format(user_complain=dialog_dict['conv2_1t'][0],\n",
    "                     tags=tags_comma,\n",
    "                     answer=dialog_dict['conv2_1t'][1])"
   ]
  },
  {
   "cell_type": "code",
   "execution_count": 21,
   "metadata": {
    "colab": {
     "base_uri": "https://localhost:8080/"
    },
    "id": "rxd8AMoPpGTi",
    "outputId": "b42d2f67-f77c-4c21-ed2a-7cedab481609"
   },
   "outputs": [
    {
     "name": "stdout",
     "output_type": "stream",
     "text": [
      "<s>[INST]\n",
      "Reclamação: Esse plano é ruim!\n",
      "\n",
      "Tarefa: Classifique a reclamação. Atenção use apenas as categorias abaixo.\n",
      "sinal/conexão de rede, cobrança indevida, consumo saldo/crédito, plano/benefício, cancelamento linha/plano, chip/sim card, spam, portabilidade, recarga/pagamento, dificuldade de contato\n",
      "\n",
      "Importante, apenas classifique sem explicar!\n",
      "\n",
      "Rótulos:[/INST] plano/benefício\n",
      "</s>\n",
      "<s>[INST]\n",
      "Reclamação: Recebo muitas mensagens de propaganda\n",
      "\n",
      "Tarefa: Classifique a reclamação. Atenção use apenas as categorias abaixo.\n",
      "sinal/conexão de rede, cobrança indevida, consumo saldo/crédito, plano/benefício, cancelamento linha/plano, chip/sim card, spam, portabilidade, recarga/pagamento, dificuldade de contato\n",
      "\n",
      "Importante, apenas classifique sem explicar!\n",
      "\n",
      "Rótulos:[/INST] spam\n",
      "</s>\n",
      "[INST]\n",
      "Reclamação: {user_complain}\n",
      "\n",
      "Tarefa: Classifique a reclamação. Atenção use apenas as categorias abaixo.\n",
      "sinal/conexão de rede, cobrança indevida, consumo saldo/crédito, plano/benefício, cancelamento linha/plano, chip/sim card, spam, portabilidade, recarga/pagamento, dificuldade de contato\n",
      "\n",
      "Importante, apenas classifique sem explicar!\n",
      "\n",
      "Rótulos:[/INST]\n"
     ]
    }
   ],
   "source": [
    "multi_turn = (conv_1 + conv_2 + zero_shot)\n",
    "print(multi_turn)"
   ]
  },
  {
   "cell_type": "markdown",
   "metadata": {
    "id": "9H0ViCXtLZds"
   },
   "source": [
    "#### Prompt test"
   ]
  },
  {
   "cell_type": "code",
   "execution_count": 22,
   "metadata": {
    "id": "xSVo4EWqgzL-"
   },
   "outputs": [],
   "source": [
    "# Print each prompt (check)\n",
    "prompt_dict = {'zero_shot': zero_shot, 'few_shot': few_shot, 'multi_turn': multi_turn}"
   ]
  },
  {
   "cell_type": "code",
   "execution_count": 57,
   "metadata": {
    "id": "LUQOjj737e9n"
   },
   "outputs": [],
   "source": [
    "def llm_analysis(prompt, complain):\n",
    "  response = model.generate(prompt.format(user_complain=complain), sampling_params, use_tqdm=False)\n",
    "  llm_classification = response[0].outputs[0].text.replace('.', '').lower().split('\\n')[0]\n",
    "\n",
    "  return llm_classification"
   ]
  },
  {
   "cell_type": "code",
   "execution_count": 55,
   "metadata": {
    "id": "Wr9kWm_8lU-j"
   },
   "outputs": [],
   "source": [
    "def iterate_over_interval(df, column, prompt, limit_char, start_row, end_row, save):\n",
    "  start_time = time.time()\n",
    "\n",
    "  for nloop, index in enumerate(range(start_row, end_row)):\n",
    "    complaint_content = str(df.loc[index, column]).lower()\n",
    "\n",
    "    # Checkpoint\n",
    "    if (nloop + 1) % 100 == 0:\n",
    "      delta_time = str(timedelta(seconds=time.time() - start_time)).split('.')[0]\n",
    "      print(f\"{delta_time} Analysis number {nloop + 1}\")\n",
    "\n",
    "    # Limit text lengh\n",
    "    if len(complaint_content) > limit_char: complaint_content = complaint_content[:limit_char]+'\\n'\n",
    "\n",
    "    #print(prompt.format(user_complain=complaint_content))  # check prompt\n",
    "\n",
    "    # Text analysis\n",
    "    analysis = llm_analysis(prompt, complaint_content)\n",
    "    df.at[index, 'llm_class'] = analysis\n",
    "\n",
    "  # Save final result\n",
    "  delta_time = str(timedelta(seconds=time.time() - start_time)).split('.')[0]\n",
    "  print(f\"{nloop + 1} cases analyzed. Total execution time: {delta_time}\")\n",
    "\n",
    "  if save == True:\n",
    "    current_datetime = datetime.now().strftime(\"%Y%m%d_%H%M%S\")\n",
    "    file_name = 'analise_reclamacao_' + str(start_row) + '_' + str(end_row) + current_datetime + '.xlsx'\n",
    "    df.to_excel(file_name, index=False)\n",
    "\n",
    "  return df, file_name if save == True else df"
   ]
  },
  {
   "cell_type": "code",
   "execution_count": 58,
   "metadata": {
    "colab": {
     "base_uri": "https://localhost:8080/"
    },
    "id": "YZjd_eAWdFVS",
    "outputId": "bfc5a7bd-0fb6-429d-9fe0-c04d0df761c0"
   },
   "outputs": [
    {
     "name": "stdout",
     "output_type": "stream",
     "text": [
      "\n",
      " -  zero_shot\n",
      " sinal/conexão de rede, dificuldade de contato\n",
      " sinal/conexão de rede, dificuldade de contato\n",
      " sinal/conexão de rede, dificuldade de contato\n",
      "\n",
      " -  few_shot\n",
      " sinal/conexão de rede, dificuldade de contato, cobrança indevida\n",
      " sinal/conexão de rede, dificuldade de contato, cobrança indevida\n",
      " sinal/conexão de rede, dificuldade de contato, cobrança indevida\n",
      "\n",
      " -  multi_turn\n",
      " sinal/conexão de rede, dificuldade de contato\n",
      " sinal/conexão de rede, dificuldade de contato\n",
      " sinal/conexão de rede, dificuldade de contato\n"
     ]
    }
   ],
   "source": [
    "# Run the example few times to see model consistency\n",
    "example =\"\"\"como sempre, atendimento vago e sem nenhuma solução. estou a uma semana sem serviço na minha linha,\n",
    "tentando falar na central e só fico presa na ura ou não consigo chegar a lugar algum. detalhe que tudo isso\n",
    "precisa ser feito de outro celular já que não tenho sinal!!!!!!!!!!!!!não é a primeira vez que fico sem sinal\n",
    "esse ano pelo chip virtual e que sou impactada em trabalho e já estou nisso a 1 semana. a resposta da central\n",
    "foi: vá até uma loja física. eu tenho um chip virtual, qual o sentido de ir a uma loja física olhar um chip\n",
    "virtual que o supervisor que consegui falar nem sabia do que se tratava???? fora que minha [ultima ida a loja\n",
    "fisica fui cobrada por um chip dependente indevido que colocaram na minha conta e que nunca recebi reembolso.segue\n",
    "protocolo:*******070quero saber qual o desconto que terei em fatura nesses dias sem serviço e não tenho\n",
    "disponibilidade para ir a loja física por isso adquiri um chip virtual pela facilidade (que não existe do lado\n",
    "de vocês) nesse processo.a qualidade do serviço é cada dia pior e eu ainda me pergunto pq sou cliente de vocës.\n",
    "\"\"\".lower()\n",
    "\n",
    "for prompt in prompt_dict:\n",
    "  print('\\n - ', prompt)\n",
    "  for i in list(range(1, 4)):\n",
    "    analysis = llm_analysis(prompt_dict[prompt], example)\n",
    "    print(analysis)"
   ]
  },
  {
   "cell_type": "markdown",
   "metadata": {
    "id": "JauKAKmspRHH"
   },
   "source": [
    "### Multi-label Evaluation"
   ]
  },
  {
   "cell_type": "markdown",
   "metadata": {
    "id": "p9brvCeTplPg"
   },
   "source": [
    "In this section we will evaluate our prompt. To do that we labaled mannualy the **df_val** dataframe to use as comparision with model output.\n",
    "\n",
    "There are a few metrics to evaluate multi-label classification, in this work we gonna use `classification_report`from `sklearn`, that is a well known package wich give us manny metrics to analyse. If you you want to know more about it, there's a good article made by Aniruddha Karajgi, on https://towardsdatascience.com/evaluating-multi-label-classifiers-a31be83da6ea."
   ]
  },
  {
   "cell_type": "code",
   "execution_count": 59,
   "metadata": {
    "id": "ar_auDgfT9G_"
   },
   "outputs": [],
   "source": [
    "from sklearn.metrics import classification_report"
   ]
  },
  {
   "cell_type": "code",
   "execution_count": 60,
   "metadata": {
    "id": "JNtkFEZ06aJl"
   },
   "outputs": [],
   "source": [
    "# Creates binary classification columns and sum total classifications\n",
    "def binary_cols(dataframe, column, tags):\n",
    "  for tag in tags:\n",
    "      dataframe[tag] = dataframe[column].apply(lambda x: 1 if tag in x else 0)\n",
    "\n",
    "  dataframe[column + '_sum'] = dataframe[tags].sum(axis=1)"
   ]
  },
  {
   "cell_type": "markdown",
   "metadata": {
    "id": "ZERNC0giOUZJ"
   },
   "source": [
    "**Note:** Depending on the amount of data, the classification process can take a few hours. Using the quantized model described above, with zero shot prompt and utilizing the free tier infrastructure of Colab, I noticed that Mistral 7B takes about an hour to classify 2.000 cases.\n",
    "\n",
    "Colab tends to disconnect due to inactivity. To prevent this, open your browser's inspector, go to the console tab, paste the code below, and press enter.\n",
    "\n",
    "`function ClickConnect(){\n",
    "    console.log(\"Working\");\n",
    "    document.querySelector(\"colab-connect-button\").click()\n",
    "}\n",
    "setInterval(ClickConnect,60000)`"
   ]
  },
  {
   "cell_type": "code",
   "execution_count": 61,
   "metadata": {
    "id": "l8ToURtgqPRI"
   },
   "outputs": [],
   "source": [
    "# Open validation dataset tagged manually\n",
    "df_val_url = 'https://raw.githubusercontent.com/rdemarqui/tim_data_academy/main/data/df_validation.xlsx'\n",
    "df_val_labeled = pd.read_excel(df_val_url)"
   ]
  },
  {
   "cell_type": "code",
   "execution_count": 62,
   "metadata": {
    "colab": {
     "base_uri": "https://localhost:8080/"
    },
    "id": "bCR1jNbTJTu4",
    "outputId": "4f800eda-69dd-4248-c145-0e7bef74fad7"
   },
   "outputs": [
    {
     "name": "stdout",
     "output_type": "stream",
     "text": [
      "\n",
      "-  zero_shot\n",
      "0:01:54 Analysis number 100\n",
      "0:03:51 Analysis number 200\n",
      "202 cases analyzed. Total execution time: 0:03:55\n",
      "\n",
      "-  few_shot\n",
      "0:02:39 Analysis number 100\n",
      "0:04:57 Analysis number 200\n",
      "202 cases analyzed. Total execution time: 0:05:01\n",
      "\n",
      "-  multi_turn\n",
      "0:04:04 Analysis number 100\n",
      "0:08:14 Analysis number 200\n",
      "202 cases analyzed. Total execution time: 0:08:21\n"
     ]
    }
   ],
   "source": [
    "# Check each prompt performance\n",
    "y_expected = df_val_labeled[tags]\n",
    "score_dict = {}\n",
    "file_name_dict = {}\n",
    "\n",
    "for prompt in prompt_dict:\n",
    "  print(\"\\n- \", prompt)\n",
    "  temp_df, file_name = iterate_over_interval(df=df, column=\"description\",\n",
    "                                             prompt=prompt_dict[prompt],\n",
    "                                             limit_char=2000, start_row=0,\n",
    "                                             end_row=202, save=True)\n",
    "\n",
    "  binary_cols(dataframe=temp_df, column='llm_class', tags=tags)\n",
    "\n",
    "  y_pred = temp_df[tags]\n",
    "\n",
    "  score_dict[prompt] = classification_report(y_expected, y_pred,\n",
    "                                             output_dict=True,\n",
    "                                             target_names=tags)\n",
    "  file_name_dict[prompt] = file_name"
   ]
  },
  {
   "cell_type": "markdown",
   "metadata": {
    "id": "58JTqQxPrBlt"
   },
   "source": [
    "There's some ways to agregate metrics such as `micro average`, `macro avarage`, `weighted average` and `samples average`. In this study we gonna use `samples avg`, wich was specifically designed for multilabel scenarios. It calculates metrics like precision, recall, and F1-score for each instance individually and averages them, thus effectively evaluating the model's performance on each sample by considering all its labels, making it particularly useful for assessing how well the model predicts the label set for each individual sample."
   ]
  },
  {
   "cell_type": "code",
   "execution_count": 63,
   "metadata": {
    "colab": {
     "base_uri": "https://localhost:8080/",
     "height": 143
    },
    "id": "oxLYxxWZv0ME",
    "outputId": "510f5cc3-7810-40bd-c611-0c2dbd97f0ed"
   },
   "outputs": [
    {
     "data": {
      "application/vnd.google.colaboratory.intrinsic+json": {
       "summary": "{\n  \"name\": \"round(df_score_comparison, 4)\",\n  \"rows\": 3,\n  \"fields\": [\n    {\n      \"column\": \"precision\",\n      \"properties\": {\n        \"dtype\": \"number\",\n        \"std\": 0.03807129277202621,\n        \"min\": 0.6453,\n        \"max\": 0.7195,\n        \"num_unique_values\": 3,\n        \"samples\": [\n          0.6972,\n          0.6453,\n          0.7195\n        ],\n        \"semantic_type\": \"\",\n        \"description\": \"\"\n      }\n    },\n    {\n      \"column\": \"recall\",\n      \"properties\": {\n        \"dtype\": \"number\",\n        \"std\": 0.01492860788330024,\n        \"min\": 0.6563,\n        \"max\": 0.686,\n        \"num_unique_values\": 3,\n        \"samples\": [\n          0.6738,\n          0.6563,\n          0.686\n        ],\n        \"semantic_type\": \"\",\n        \"description\": \"\"\n      }\n    },\n    {\n      \"column\": \"f1-score\",\n      \"properties\": {\n        \"dtype\": \"number\",\n        \"std\": 0.02919594720733232,\n        \"min\": 0.6164,\n        \"max\": 0.674,\n        \"num_unique_values\": 3,\n        \"samples\": [\n          0.6535,\n          0.6164,\n          0.674\n        ],\n        \"semantic_type\": \"\",\n        \"description\": \"\"\n      }\n    },\n    {\n      \"column\": \"support\",\n      \"properties\": {\n        \"dtype\": \"number\",\n        \"std\": 0.0,\n        \"min\": 301.0,\n        \"max\": 301.0,\n        \"num_unique_values\": 1,\n        \"samples\": [\n          301.0\n        ],\n        \"semantic_type\": \"\",\n        \"description\": \"\"\n      }\n    }\n  ]\n}",
       "type": "dataframe"
      },
      "text/html": [
       "\n",
       "  <div id=\"df-c869552d-a91d-4ae8-838a-12cb47a01ec0\" class=\"colab-df-container\">\n",
       "    <div>\n",
       "<style scoped>\n",
       "    .dataframe tbody tr th:only-of-type {\n",
       "        vertical-align: middle;\n",
       "    }\n",
       "\n",
       "    .dataframe tbody tr th {\n",
       "        vertical-align: top;\n",
       "    }\n",
       "\n",
       "    .dataframe thead th {\n",
       "        text-align: right;\n",
       "    }\n",
       "</style>\n",
       "<table border=\"1\" class=\"dataframe\">\n",
       "  <thead>\n",
       "    <tr style=\"text-align: right;\">\n",
       "      <th></th>\n",
       "      <th>precision</th>\n",
       "      <th>recall</th>\n",
       "      <th>f1-score</th>\n",
       "      <th>support</th>\n",
       "    </tr>\n",
       "  </thead>\n",
       "  <tbody>\n",
       "    <tr>\n",
       "      <th>zero_shot</th>\n",
       "      <td>0.6972</td>\n",
       "      <td>0.6738</td>\n",
       "      <td>0.6535</td>\n",
       "      <td>301.0</td>\n",
       "    </tr>\n",
       "    <tr>\n",
       "      <th>few_shot</th>\n",
       "      <td>0.6453</td>\n",
       "      <td>0.6563</td>\n",
       "      <td>0.6164</td>\n",
       "      <td>301.0</td>\n",
       "    </tr>\n",
       "    <tr>\n",
       "      <th>multi_turn</th>\n",
       "      <td>0.7195</td>\n",
       "      <td>0.6860</td>\n",
       "      <td>0.6740</td>\n",
       "      <td>301.0</td>\n",
       "    </tr>\n",
       "  </tbody>\n",
       "</table>\n",
       "</div>\n",
       "    <div class=\"colab-df-buttons\">\n",
       "\n",
       "  <div class=\"colab-df-container\">\n",
       "    <button class=\"colab-df-convert\" onclick=\"convertToInteractive('df-c869552d-a91d-4ae8-838a-12cb47a01ec0')\"\n",
       "            title=\"Convert this dataframe to an interactive table.\"\n",
       "            style=\"display:none;\">\n",
       "\n",
       "  <svg xmlns=\"http://www.w3.org/2000/svg\" height=\"24px\" viewBox=\"0 -960 960 960\">\n",
       "    <path d=\"M120-120v-720h720v720H120Zm60-500h600v-160H180v160Zm220 220h160v-160H400v160Zm0 220h160v-160H400v160ZM180-400h160v-160H180v160Zm440 0h160v-160H620v160ZM180-180h160v-160H180v160Zm440 0h160v-160H620v160Z\"/>\n",
       "  </svg>\n",
       "    </button>\n",
       "\n",
       "  <style>\n",
       "    .colab-df-container {\n",
       "      display:flex;\n",
       "      gap: 12px;\n",
       "    }\n",
       "\n",
       "    .colab-df-convert {\n",
       "      background-color: #E8F0FE;\n",
       "      border: none;\n",
       "      border-radius: 50%;\n",
       "      cursor: pointer;\n",
       "      display: none;\n",
       "      fill: #1967D2;\n",
       "      height: 32px;\n",
       "      padding: 0 0 0 0;\n",
       "      width: 32px;\n",
       "    }\n",
       "\n",
       "    .colab-df-convert:hover {\n",
       "      background-color: #E2EBFA;\n",
       "      box-shadow: 0px 1px 2px rgba(60, 64, 67, 0.3), 0px 1px 3px 1px rgba(60, 64, 67, 0.15);\n",
       "      fill: #174EA6;\n",
       "    }\n",
       "\n",
       "    .colab-df-buttons div {\n",
       "      margin-bottom: 4px;\n",
       "    }\n",
       "\n",
       "    [theme=dark] .colab-df-convert {\n",
       "      background-color: #3B4455;\n",
       "      fill: #D2E3FC;\n",
       "    }\n",
       "\n",
       "    [theme=dark] .colab-df-convert:hover {\n",
       "      background-color: #434B5C;\n",
       "      box-shadow: 0px 1px 3px 1px rgba(0, 0, 0, 0.15);\n",
       "      filter: drop-shadow(0px 1px 2px rgba(0, 0, 0, 0.3));\n",
       "      fill: #FFFFFF;\n",
       "    }\n",
       "  </style>\n",
       "\n",
       "    <script>\n",
       "      const buttonEl =\n",
       "        document.querySelector('#df-c869552d-a91d-4ae8-838a-12cb47a01ec0 button.colab-df-convert');\n",
       "      buttonEl.style.display =\n",
       "        google.colab.kernel.accessAllowed ? 'block' : 'none';\n",
       "\n",
       "      async function convertToInteractive(key) {\n",
       "        const element = document.querySelector('#df-c869552d-a91d-4ae8-838a-12cb47a01ec0');\n",
       "        const dataTable =\n",
       "          await google.colab.kernel.invokeFunction('convertToInteractive',\n",
       "                                                    [key], {});\n",
       "        if (!dataTable) return;\n",
       "\n",
       "        const docLinkHtml = 'Like what you see? Visit the ' +\n",
       "          '<a target=\"_blank\" href=https://colab.research.google.com/notebooks/data_table.ipynb>data table notebook</a>'\n",
       "          + ' to learn more about interactive tables.';\n",
       "        element.innerHTML = '';\n",
       "        dataTable['output_type'] = 'display_data';\n",
       "        await google.colab.output.renderOutput(dataTable, element);\n",
       "        const docLink = document.createElement('div');\n",
       "        docLink.innerHTML = docLinkHtml;\n",
       "        element.appendChild(docLink);\n",
       "      }\n",
       "    </script>\n",
       "  </div>\n",
       "\n",
       "\n",
       "<div id=\"df-35e5b8bf-8e56-4c80-9332-0a0b278fbf78\">\n",
       "  <button class=\"colab-df-quickchart\" onclick=\"quickchart('df-35e5b8bf-8e56-4c80-9332-0a0b278fbf78')\"\n",
       "            title=\"Suggest charts\"\n",
       "            style=\"display:none;\">\n",
       "\n",
       "<svg xmlns=\"http://www.w3.org/2000/svg\" height=\"24px\"viewBox=\"0 0 24 24\"\n",
       "     width=\"24px\">\n",
       "    <g>\n",
       "        <path d=\"M19 3H5c-1.1 0-2 .9-2 2v14c0 1.1.9 2 2 2h14c1.1 0 2-.9 2-2V5c0-1.1-.9-2-2-2zM9 17H7v-7h2v7zm4 0h-2V7h2v10zm4 0h-2v-4h2v4z\"/>\n",
       "    </g>\n",
       "</svg>\n",
       "  </button>\n",
       "\n",
       "<style>\n",
       "  .colab-df-quickchart {\n",
       "      --bg-color: #E8F0FE;\n",
       "      --fill-color: #1967D2;\n",
       "      --hover-bg-color: #E2EBFA;\n",
       "      --hover-fill-color: #174EA6;\n",
       "      --disabled-fill-color: #AAA;\n",
       "      --disabled-bg-color: #DDD;\n",
       "  }\n",
       "\n",
       "  [theme=dark] .colab-df-quickchart {\n",
       "      --bg-color: #3B4455;\n",
       "      --fill-color: #D2E3FC;\n",
       "      --hover-bg-color: #434B5C;\n",
       "      --hover-fill-color: #FFFFFF;\n",
       "      --disabled-bg-color: #3B4455;\n",
       "      --disabled-fill-color: #666;\n",
       "  }\n",
       "\n",
       "  .colab-df-quickchart {\n",
       "    background-color: var(--bg-color);\n",
       "    border: none;\n",
       "    border-radius: 50%;\n",
       "    cursor: pointer;\n",
       "    display: none;\n",
       "    fill: var(--fill-color);\n",
       "    height: 32px;\n",
       "    padding: 0;\n",
       "    width: 32px;\n",
       "  }\n",
       "\n",
       "  .colab-df-quickchart:hover {\n",
       "    background-color: var(--hover-bg-color);\n",
       "    box-shadow: 0 1px 2px rgba(60, 64, 67, 0.3), 0 1px 3px 1px rgba(60, 64, 67, 0.15);\n",
       "    fill: var(--button-hover-fill-color);\n",
       "  }\n",
       "\n",
       "  .colab-df-quickchart-complete:disabled,\n",
       "  .colab-df-quickchart-complete:disabled:hover {\n",
       "    background-color: var(--disabled-bg-color);\n",
       "    fill: var(--disabled-fill-color);\n",
       "    box-shadow: none;\n",
       "  }\n",
       "\n",
       "  .colab-df-spinner {\n",
       "    border: 2px solid var(--fill-color);\n",
       "    border-color: transparent;\n",
       "    border-bottom-color: var(--fill-color);\n",
       "    animation:\n",
       "      spin 1s steps(1) infinite;\n",
       "  }\n",
       "\n",
       "  @keyframes spin {\n",
       "    0% {\n",
       "      border-color: transparent;\n",
       "      border-bottom-color: var(--fill-color);\n",
       "      border-left-color: var(--fill-color);\n",
       "    }\n",
       "    20% {\n",
       "      border-color: transparent;\n",
       "      border-left-color: var(--fill-color);\n",
       "      border-top-color: var(--fill-color);\n",
       "    }\n",
       "    30% {\n",
       "      border-color: transparent;\n",
       "      border-left-color: var(--fill-color);\n",
       "      border-top-color: var(--fill-color);\n",
       "      border-right-color: var(--fill-color);\n",
       "    }\n",
       "    40% {\n",
       "      border-color: transparent;\n",
       "      border-right-color: var(--fill-color);\n",
       "      border-top-color: var(--fill-color);\n",
       "    }\n",
       "    60% {\n",
       "      border-color: transparent;\n",
       "      border-right-color: var(--fill-color);\n",
       "    }\n",
       "    80% {\n",
       "      border-color: transparent;\n",
       "      border-right-color: var(--fill-color);\n",
       "      border-bottom-color: var(--fill-color);\n",
       "    }\n",
       "    90% {\n",
       "      border-color: transparent;\n",
       "      border-bottom-color: var(--fill-color);\n",
       "    }\n",
       "  }\n",
       "</style>\n",
       "\n",
       "  <script>\n",
       "    async function quickchart(key) {\n",
       "      const quickchartButtonEl =\n",
       "        document.querySelector('#' + key + ' button');\n",
       "      quickchartButtonEl.disabled = true;  // To prevent multiple clicks.\n",
       "      quickchartButtonEl.classList.add('colab-df-spinner');\n",
       "      try {\n",
       "        const charts = await google.colab.kernel.invokeFunction(\n",
       "            'suggestCharts', [key], {});\n",
       "      } catch (error) {\n",
       "        console.error('Error during call to suggestCharts:', error);\n",
       "      }\n",
       "      quickchartButtonEl.classList.remove('colab-df-spinner');\n",
       "      quickchartButtonEl.classList.add('colab-df-quickchart-complete');\n",
       "    }\n",
       "    (() => {\n",
       "      let quickchartButtonEl =\n",
       "        document.querySelector('#df-35e5b8bf-8e56-4c80-9332-0a0b278fbf78 button');\n",
       "      quickchartButtonEl.style.display =\n",
       "        google.colab.kernel.accessAllowed ? 'block' : 'none';\n",
       "    })();\n",
       "  </script>\n",
       "</div>\n",
       "\n",
       "    </div>\n",
       "  </div>\n"
      ],
      "text/plain": [
       "            precision  recall  f1-score  support\n",
       "zero_shot      0.6972  0.6738    0.6535    301.0\n",
       "few_shot       0.6453  0.6563    0.6164    301.0\n",
       "multi_turn     0.7195  0.6860    0.6740    301.0"
      ]
     },
     "execution_count": 63,
     "metadata": {},
     "output_type": "execute_result"
    }
   ],
   "source": [
    "# Create score comparison table\n",
    "df_score_comparison = pd.DataFrame()\n",
    "\n",
    "for prompt in prompt_dict:\n",
    "  score_temp = score_dict[prompt]['samples avg']\n",
    "  df_temp = pd.DataFrame(score_temp, index=[prompt])\n",
    "  df_score_comparison = pd.concat([df_score_comparison, df_temp])\n",
    "\n",
    "round(df_score_comparison, 4)"
   ]
  },
  {
   "cell_type": "markdown",
   "metadata": {
    "id": "KBREo3Ex-QTW"
   },
   "source": [
    "Remembering that:\n",
    "\n",
    "* **Precision:** It is the proportion of positive identifications that were actually correct. A low precision indicates that there were **too many False Positives (FP)**, meaning that the model predicted many instances as positive that were actually negative.\n",
    "\n",
    " $\\frac{\\text{True Positive}}{\\text{Total Predicted Positive}} = \\frac{\\text{True Positive (TP)}}{\\text{True Positive (TP)} + \\text{False Positive (FP)}}$\n",
    "\n",
    "* **Recall:** It is the proportion of actual positives that were identified correctly. A low recall indicates that there were **too many False Negatives (FN)**, meaning that the model failed to identify many actual positive instances.\n",
    "\n",
    " $\\frac{\\text{True Positive}}{\\text{Total Actual Positive}} = \\frac{\\text{True Positive (TP)}}{\\text{True Positive (TP)} + \\text{False Negative (FN)}}$\n",
    "\n",
    "* **F1 Score:** Is the harmonic mean of the precision and recall, bringing a good balance between both.\n",
    "\n",
    " ${\\text{F1}} = 2* \\frac{\\text{Precision * Recall}}{\\text{Precision + Recall}}$\n",
    "\n",
    "In this study we will use the prompt that achived the max F1 score, that represents a good balance between precision and recall."
   ]
  },
  {
   "cell_type": "markdown",
   "metadata": {
    "id": "nhuJNcTl-sXZ"
   },
   "source": [
    "## Results"
   ]
  },
  {
   "cell_type": "code",
   "execution_count": 64,
   "metadata": {
    "colab": {
     "base_uri": "https://localhost:8080/"
    },
    "id": "WXmGFR_OmOlW",
    "outputId": "e615d922-4f2a-487e-88cd-0fd5184cec5c"
   },
   "outputs": [
    {
     "name": "stdout",
     "output_type": "stream",
     "text": [
      "The max score obtained was achived by 'multi_turn' prompt.\n"
     ]
    }
   ],
   "source": [
    "max_score_prompt = df_score_comparison['f1-score'].idxmax()\n",
    "print(f\"The max score obtained was achived by '{max_score_prompt}' prompt.\")"
   ]
  },
  {
   "cell_type": "code",
   "execution_count": 65,
   "metadata": {
    "colab": {
     "base_uri": "https://localhost:8080/",
     "height": 488
    },
    "id": "r_dxrDY6_EZ1",
    "outputId": "e527498e-c79b-4393-de83-19867ff8e31f"
   },
   "outputs": [
    {
     "data": {
      "application/vnd.google.colaboratory.intrinsic+json": {
       "summary": "{\n  \"name\": \"round(pd\",\n  \"rows\": 14,\n  \"fields\": [\n    {\n      \"column\": \"precision\",\n      \"properties\": {\n        \"dtype\": \"number\",\n        \"std\": 0.14130064219074337,\n        \"min\": 0.4359,\n        \"max\": 0.9565,\n        \"num_unique_values\": 14,\n        \"samples\": [\n          0.4419,\n          0.6946,\n          0.9565\n        ],\n        \"semantic_type\": \"\",\n        \"description\": \"\"\n      }\n    },\n    {\n      \"column\": \"recall\",\n      \"properties\": {\n        \"dtype\": \"number\",\n        \"std\": 0.14846932861187706,\n        \"min\": 0.425,\n        \"max\": 0.9091,\n        \"num_unique_values\": 13,\n        \"samples\": [\n          0.6657,\n          0.6786,\n          0.6471\n        ],\n        \"semantic_type\": \"\",\n        \"description\": \"\"\n      }\n    },\n    {\n      \"column\": \"f1-score\",\n      \"properties\": {\n        \"dtype\": \"number\",\n        \"std\": 0.1142186983114238,\n        \"min\": 0.4304,\n        \"max\": 0.8333,\n        \"num_unique_values\": 14,\n        \"samples\": [\n          0.5352,\n          0.665,\n          0.7719\n        ],\n        \"semantic_type\": \"\",\n        \"description\": \"\"\n      }\n    },\n    {\n      \"column\": \"support\",\n      \"properties\": {\n        \"dtype\": \"number\",\n        \"std\": 127.35036468190967,\n        \"min\": 10.0,\n        \"max\": 301.0,\n        \"num_unique_values\": 11,\n        \"samples\": [\n          31.0,\n          34.0,\n          28.0\n        ],\n        \"semantic_type\": \"\",\n        \"description\": \"\"\n      }\n    }\n  ]\n}",
       "type": "dataframe"
      },
      "text/html": [
       "\n",
       "  <div id=\"df-513b43d9-3295-4f26-87fb-fc7fb55fc0be\" class=\"colab-df-container\">\n",
       "    <div>\n",
       "<style scoped>\n",
       "    .dataframe tbody tr th:only-of-type {\n",
       "        vertical-align: middle;\n",
       "    }\n",
       "\n",
       "    .dataframe tbody tr th {\n",
       "        vertical-align: top;\n",
       "    }\n",
       "\n",
       "    .dataframe thead th {\n",
       "        text-align: right;\n",
       "    }\n",
       "</style>\n",
       "<table border=\"1\" class=\"dataframe\">\n",
       "  <thead>\n",
       "    <tr style=\"text-align: right;\">\n",
       "      <th></th>\n",
       "      <th>precision</th>\n",
       "      <th>recall</th>\n",
       "      <th>f1-score</th>\n",
       "      <th>support</th>\n",
       "    </tr>\n",
       "  </thead>\n",
       "  <tbody>\n",
       "    <tr>\n",
       "      <th>sinal/conexão de rede</th>\n",
       "      <td>0.9565</td>\n",
       "      <td>0.6471</td>\n",
       "      <td>0.7719</td>\n",
       "      <td>34.0</td>\n",
       "    </tr>\n",
       "    <tr>\n",
       "      <th>cobrança indevida</th>\n",
       "      <td>0.7805</td>\n",
       "      <td>0.7111</td>\n",
       "      <td>0.7442</td>\n",
       "      <td>45.0</td>\n",
       "    </tr>\n",
       "    <tr>\n",
       "      <th>consumo saldo/crédito</th>\n",
       "      <td>0.6429</td>\n",
       "      <td>0.5625</td>\n",
       "      <td>0.6000</td>\n",
       "      <td>16.0</td>\n",
       "    </tr>\n",
       "    <tr>\n",
       "      <th>plano/benefício</th>\n",
       "      <td>0.4359</td>\n",
       "      <td>0.4250</td>\n",
       "      <td>0.4304</td>\n",
       "      <td>40.0</td>\n",
       "    </tr>\n",
       "    <tr>\n",
       "      <th>cancelamento linha/plano</th>\n",
       "      <td>0.6111</td>\n",
       "      <td>0.5238</td>\n",
       "      <td>0.5641</td>\n",
       "      <td>42.0</td>\n",
       "    </tr>\n",
       "    <tr>\n",
       "      <th>chip/sim card</th>\n",
       "      <td>0.8750</td>\n",
       "      <td>0.4516</td>\n",
       "      <td>0.5957</td>\n",
       "      <td>31.0</td>\n",
       "    </tr>\n",
       "    <tr>\n",
       "      <th>spam</th>\n",
       "      <td>0.7500</td>\n",
       "      <td>0.9000</td>\n",
       "      <td>0.8182</td>\n",
       "      <td>10.0</td>\n",
       "    </tr>\n",
       "    <tr>\n",
       "      <th>portabilidade</th>\n",
       "      <td>0.7692</td>\n",
       "      <td>0.9091</td>\n",
       "      <td>0.8333</td>\n",
       "      <td>22.0</td>\n",
       "    </tr>\n",
       "    <tr>\n",
       "      <th>recarga/pagamento</th>\n",
       "      <td>0.6829</td>\n",
       "      <td>0.8485</td>\n",
       "      <td>0.7568</td>\n",
       "      <td>33.0</td>\n",
       "    </tr>\n",
       "    <tr>\n",
       "      <th>dificuldade de contato</th>\n",
       "      <td>0.4419</td>\n",
       "      <td>0.6786</td>\n",
       "      <td>0.5352</td>\n",
       "      <td>28.0</td>\n",
       "    </tr>\n",
       "    <tr>\n",
       "      <th>micro avg</th>\n",
       "      <td>0.6598</td>\n",
       "      <td>0.6379</td>\n",
       "      <td>0.6486</td>\n",
       "      <td>301.0</td>\n",
       "    </tr>\n",
       "    <tr>\n",
       "      <th>macro avg</th>\n",
       "      <td>0.6946</td>\n",
       "      <td>0.6657</td>\n",
       "      <td>0.6650</td>\n",
       "      <td>301.0</td>\n",
       "    </tr>\n",
       "    <tr>\n",
       "      <th>weighted avg</th>\n",
       "      <td>0.6893</td>\n",
       "      <td>0.6379</td>\n",
       "      <td>0.6485</td>\n",
       "      <td>301.0</td>\n",
       "    </tr>\n",
       "    <tr>\n",
       "      <th>samples avg</th>\n",
       "      <td>0.7195</td>\n",
       "      <td>0.6860</td>\n",
       "      <td>0.6740</td>\n",
       "      <td>301.0</td>\n",
       "    </tr>\n",
       "  </tbody>\n",
       "</table>\n",
       "</div>\n",
       "    <div class=\"colab-df-buttons\">\n",
       "\n",
       "  <div class=\"colab-df-container\">\n",
       "    <button class=\"colab-df-convert\" onclick=\"convertToInteractive('df-513b43d9-3295-4f26-87fb-fc7fb55fc0be')\"\n",
       "            title=\"Convert this dataframe to an interactive table.\"\n",
       "            style=\"display:none;\">\n",
       "\n",
       "  <svg xmlns=\"http://www.w3.org/2000/svg\" height=\"24px\" viewBox=\"0 -960 960 960\">\n",
       "    <path d=\"M120-120v-720h720v720H120Zm60-500h600v-160H180v160Zm220 220h160v-160H400v160Zm0 220h160v-160H400v160ZM180-400h160v-160H180v160Zm440 0h160v-160H620v160ZM180-180h160v-160H180v160Zm440 0h160v-160H620v160Z\"/>\n",
       "  </svg>\n",
       "    </button>\n",
       "\n",
       "  <style>\n",
       "    .colab-df-container {\n",
       "      display:flex;\n",
       "      gap: 12px;\n",
       "    }\n",
       "\n",
       "    .colab-df-convert {\n",
       "      background-color: #E8F0FE;\n",
       "      border: none;\n",
       "      border-radius: 50%;\n",
       "      cursor: pointer;\n",
       "      display: none;\n",
       "      fill: #1967D2;\n",
       "      height: 32px;\n",
       "      padding: 0 0 0 0;\n",
       "      width: 32px;\n",
       "    }\n",
       "\n",
       "    .colab-df-convert:hover {\n",
       "      background-color: #E2EBFA;\n",
       "      box-shadow: 0px 1px 2px rgba(60, 64, 67, 0.3), 0px 1px 3px 1px rgba(60, 64, 67, 0.15);\n",
       "      fill: #174EA6;\n",
       "    }\n",
       "\n",
       "    .colab-df-buttons div {\n",
       "      margin-bottom: 4px;\n",
       "    }\n",
       "\n",
       "    [theme=dark] .colab-df-convert {\n",
       "      background-color: #3B4455;\n",
       "      fill: #D2E3FC;\n",
       "    }\n",
       "\n",
       "    [theme=dark] .colab-df-convert:hover {\n",
       "      background-color: #434B5C;\n",
       "      box-shadow: 0px 1px 3px 1px rgba(0, 0, 0, 0.15);\n",
       "      filter: drop-shadow(0px 1px 2px rgba(0, 0, 0, 0.3));\n",
       "      fill: #FFFFFF;\n",
       "    }\n",
       "  </style>\n",
       "\n",
       "    <script>\n",
       "      const buttonEl =\n",
       "        document.querySelector('#df-513b43d9-3295-4f26-87fb-fc7fb55fc0be button.colab-df-convert');\n",
       "      buttonEl.style.display =\n",
       "        google.colab.kernel.accessAllowed ? 'block' : 'none';\n",
       "\n",
       "      async function convertToInteractive(key) {\n",
       "        const element = document.querySelector('#df-513b43d9-3295-4f26-87fb-fc7fb55fc0be');\n",
       "        const dataTable =\n",
       "          await google.colab.kernel.invokeFunction('convertToInteractive',\n",
       "                                                    [key], {});\n",
       "        if (!dataTable) return;\n",
       "\n",
       "        const docLinkHtml = 'Like what you see? Visit the ' +\n",
       "          '<a target=\"_blank\" href=https://colab.research.google.com/notebooks/data_table.ipynb>data table notebook</a>'\n",
       "          + ' to learn more about interactive tables.';\n",
       "        element.innerHTML = '';\n",
       "        dataTable['output_type'] = 'display_data';\n",
       "        await google.colab.output.renderOutput(dataTable, element);\n",
       "        const docLink = document.createElement('div');\n",
       "        docLink.innerHTML = docLinkHtml;\n",
       "        element.appendChild(docLink);\n",
       "      }\n",
       "    </script>\n",
       "  </div>\n",
       "\n",
       "\n",
       "<div id=\"df-269e1492-f218-4a1d-82ca-54e4b76ccacc\">\n",
       "  <button class=\"colab-df-quickchart\" onclick=\"quickchart('df-269e1492-f218-4a1d-82ca-54e4b76ccacc')\"\n",
       "            title=\"Suggest charts\"\n",
       "            style=\"display:none;\">\n",
       "\n",
       "<svg xmlns=\"http://www.w3.org/2000/svg\" height=\"24px\"viewBox=\"0 0 24 24\"\n",
       "     width=\"24px\">\n",
       "    <g>\n",
       "        <path d=\"M19 3H5c-1.1 0-2 .9-2 2v14c0 1.1.9 2 2 2h14c1.1 0 2-.9 2-2V5c0-1.1-.9-2-2-2zM9 17H7v-7h2v7zm4 0h-2V7h2v10zm4 0h-2v-4h2v4z\"/>\n",
       "    </g>\n",
       "</svg>\n",
       "  </button>\n",
       "\n",
       "<style>\n",
       "  .colab-df-quickchart {\n",
       "      --bg-color: #E8F0FE;\n",
       "      --fill-color: #1967D2;\n",
       "      --hover-bg-color: #E2EBFA;\n",
       "      --hover-fill-color: #174EA6;\n",
       "      --disabled-fill-color: #AAA;\n",
       "      --disabled-bg-color: #DDD;\n",
       "  }\n",
       "\n",
       "  [theme=dark] .colab-df-quickchart {\n",
       "      --bg-color: #3B4455;\n",
       "      --fill-color: #D2E3FC;\n",
       "      --hover-bg-color: #434B5C;\n",
       "      --hover-fill-color: #FFFFFF;\n",
       "      --disabled-bg-color: #3B4455;\n",
       "      --disabled-fill-color: #666;\n",
       "  }\n",
       "\n",
       "  .colab-df-quickchart {\n",
       "    background-color: var(--bg-color);\n",
       "    border: none;\n",
       "    border-radius: 50%;\n",
       "    cursor: pointer;\n",
       "    display: none;\n",
       "    fill: var(--fill-color);\n",
       "    height: 32px;\n",
       "    padding: 0;\n",
       "    width: 32px;\n",
       "  }\n",
       "\n",
       "  .colab-df-quickchart:hover {\n",
       "    background-color: var(--hover-bg-color);\n",
       "    box-shadow: 0 1px 2px rgba(60, 64, 67, 0.3), 0 1px 3px 1px rgba(60, 64, 67, 0.15);\n",
       "    fill: var(--button-hover-fill-color);\n",
       "  }\n",
       "\n",
       "  .colab-df-quickchart-complete:disabled,\n",
       "  .colab-df-quickchart-complete:disabled:hover {\n",
       "    background-color: var(--disabled-bg-color);\n",
       "    fill: var(--disabled-fill-color);\n",
       "    box-shadow: none;\n",
       "  }\n",
       "\n",
       "  .colab-df-spinner {\n",
       "    border: 2px solid var(--fill-color);\n",
       "    border-color: transparent;\n",
       "    border-bottom-color: var(--fill-color);\n",
       "    animation:\n",
       "      spin 1s steps(1) infinite;\n",
       "  }\n",
       "\n",
       "  @keyframes spin {\n",
       "    0% {\n",
       "      border-color: transparent;\n",
       "      border-bottom-color: var(--fill-color);\n",
       "      border-left-color: var(--fill-color);\n",
       "    }\n",
       "    20% {\n",
       "      border-color: transparent;\n",
       "      border-left-color: var(--fill-color);\n",
       "      border-top-color: var(--fill-color);\n",
       "    }\n",
       "    30% {\n",
       "      border-color: transparent;\n",
       "      border-left-color: var(--fill-color);\n",
       "      border-top-color: var(--fill-color);\n",
       "      border-right-color: var(--fill-color);\n",
       "    }\n",
       "    40% {\n",
       "      border-color: transparent;\n",
       "      border-right-color: var(--fill-color);\n",
       "      border-top-color: var(--fill-color);\n",
       "    }\n",
       "    60% {\n",
       "      border-color: transparent;\n",
       "      border-right-color: var(--fill-color);\n",
       "    }\n",
       "    80% {\n",
       "      border-color: transparent;\n",
       "      border-right-color: var(--fill-color);\n",
       "      border-bottom-color: var(--fill-color);\n",
       "    }\n",
       "    90% {\n",
       "      border-color: transparent;\n",
       "      border-bottom-color: var(--fill-color);\n",
       "    }\n",
       "  }\n",
       "</style>\n",
       "\n",
       "  <script>\n",
       "    async function quickchart(key) {\n",
       "      const quickchartButtonEl =\n",
       "        document.querySelector('#' + key + ' button');\n",
       "      quickchartButtonEl.disabled = true;  // To prevent multiple clicks.\n",
       "      quickchartButtonEl.classList.add('colab-df-spinner');\n",
       "      try {\n",
       "        const charts = await google.colab.kernel.invokeFunction(\n",
       "            'suggestCharts', [key], {});\n",
       "      } catch (error) {\n",
       "        console.error('Error during call to suggestCharts:', error);\n",
       "      }\n",
       "      quickchartButtonEl.classList.remove('colab-df-spinner');\n",
       "      quickchartButtonEl.classList.add('colab-df-quickchart-complete');\n",
       "    }\n",
       "    (() => {\n",
       "      let quickchartButtonEl =\n",
       "        document.querySelector('#df-269e1492-f218-4a1d-82ca-54e4b76ccacc button');\n",
       "      quickchartButtonEl.style.display =\n",
       "        google.colab.kernel.accessAllowed ? 'block' : 'none';\n",
       "    })();\n",
       "  </script>\n",
       "</div>\n",
       "\n",
       "    </div>\n",
       "  </div>\n"
      ],
      "text/plain": [
       "                          precision  recall  f1-score  support\n",
       "sinal/conexão de rede        0.9565  0.6471    0.7719     34.0\n",
       "cobrança indevida            0.7805  0.7111    0.7442     45.0\n",
       "consumo saldo/crédito        0.6429  0.5625    0.6000     16.0\n",
       "plano/benefício              0.4359  0.4250    0.4304     40.0\n",
       "cancelamento linha/plano     0.6111  0.5238    0.5641     42.0\n",
       "chip/sim card                0.8750  0.4516    0.5957     31.0\n",
       "spam                         0.7500  0.9000    0.8182     10.0\n",
       "portabilidade                0.7692  0.9091    0.8333     22.0\n",
       "recarga/pagamento            0.6829  0.8485    0.7568     33.0\n",
       "dificuldade de contato       0.4419  0.6786    0.5352     28.0\n",
       "micro avg                    0.6598  0.6379    0.6486    301.0\n",
       "macro avg                    0.6946  0.6657    0.6650    301.0\n",
       "weighted avg                 0.6893  0.6379    0.6485    301.0\n",
       "samples avg                  0.7195  0.6860    0.6740    301.0"
      ]
     },
     "execution_count": 65,
     "metadata": {},
     "output_type": "execute_result"
    }
   ],
   "source": [
    "# Check detailed score from choosen prompt\n",
    "round(pd.DataFrame(score_dict[max_score_prompt]).transpose(), 4)"
   ]
  },
  {
   "cell_type": "markdown",
   "metadata": {
    "id": "fUKGKT7JoNDS"
   },
   "source": [
    "---"
   ]
  },
  {
   "cell_type": "code",
   "execution_count": 66,
   "metadata": {
    "colab": {
     "base_uri": "https://localhost:8080/"
    },
    "id": "sigbMhFcYBep",
    "outputId": "cc1a2a8b-72f2-4e69-e8eb-acd45161151c"
   },
   "outputs": [
    {
     "name": "stdout",
     "output_type": "stream",
     "text": [
      "                          precision    recall  f1-score   support\n",
      "\n",
      "   sinal/conexão de rede       0.96      0.65      0.77        34\n",
      "       cobrança indevida       0.78      0.71      0.74        45\n",
      "   consumo saldo/crédito       0.64      0.56      0.60        16\n",
      "         plano/benefício       0.44      0.42      0.43        40\n",
      "cancelamento linha/plano       0.61      0.52      0.56        42\n",
      "           chip/sim card       0.88      0.45      0.60        31\n",
      "                    spam       0.75      0.90      0.82        10\n",
      "           portabilidade       0.77      0.91      0.83        22\n",
      "       recarga/pagamento       0.68      0.85      0.76        33\n",
      "  dificuldade de contato       0.44      0.68      0.54        28\n",
      "\n",
      "               micro avg       0.66      0.64      0.65       301\n",
      "               macro avg       0.69      0.67      0.66       301\n",
      "            weighted avg       0.69      0.64      0.65       301\n",
      "             samples avg       0.72      0.69      0.67       301\n",
      "\n"
     ]
    }
   ],
   "source": [
    "report = classification_report(y_expected, y_pred, target_names=tags)\n",
    "print(report)"
   ]
  }
 ],
 "metadata": {
  "accelerator": "GPU",
  "colab": {
   "gpuType": "T4",
   "provenance": [],
   "toc_visible": true
  },
  "kernelspec": {
   "display_name": "Python 3 (ipykernel)",
   "language": "python",
   "name": "python3"
  },
  "language_info": {
   "codemirror_mode": {
    "name": "ipython",
    "version": 3
   },
   "file_extension": ".py",
   "mimetype": "text/x-python",
   "name": "python",
   "nbconvert_exporter": "python",
   "pygments_lexer": "ipython3",
   "version": "3.12.7"
  },
  "widgets": {
   "application/vnd.jupyter.widget-state+json": {
    "041360a82a6b47b6a909ca3e2c99fa63": {
     "model_module": "@jupyter-widgets/base",
     "model_module_version": "1.2.0",
     "model_name": "LayoutModel",
     "state": {
      "_model_module": "@jupyter-widgets/base",
      "_model_module_version": "1.2.0",
      "_model_name": "LayoutModel",
      "_view_count": null,
      "_view_module": "@jupyter-widgets/base",
      "_view_module_version": "1.2.0",
      "_view_name": "LayoutView",
      "align_content": null,
      "align_items": null,
      "align_self": null,
      "border": null,
      "bottom": null,
      "display": null,
      "flex": null,
      "flex_flow": null,
      "grid_area": null,
      "grid_auto_columns": null,
      "grid_auto_flow": null,
      "grid_auto_rows": null,
      "grid_column": null,
      "grid_gap": null,
      "grid_row": null,
      "grid_template_areas": null,
      "grid_template_columns": null,
      "grid_template_rows": null,
      "height": null,
      "justify_content": null,
      "justify_items": null,
      "left": null,
      "margin": null,
      "max_height": null,
      "max_width": null,
      "min_height": null,
      "min_width": null,
      "object_fit": null,
      "object_position": null,
      "order": null,
      "overflow": null,
      "overflow_x": null,
      "overflow_y": null,
      "padding": null,
      "right": null,
      "top": null,
      "visibility": null,
      "width": null
     }
    },
    "12bdc622628f4941a07d06b58978dab1": {
     "model_module": "@jupyter-widgets/base",
     "model_module_version": "1.2.0",
     "model_name": "LayoutModel",
     "state": {
      "_model_module": "@jupyter-widgets/base",
      "_model_module_version": "1.2.0",
      "_model_name": "LayoutModel",
      "_view_count": null,
      "_view_module": "@jupyter-widgets/base",
      "_view_module_version": "1.2.0",
      "_view_name": "LayoutView",
      "align_content": null,
      "align_items": null,
      "align_self": null,
      "border": null,
      "bottom": null,
      "display": null,
      "flex": null,
      "flex_flow": null,
      "grid_area": null,
      "grid_auto_columns": null,
      "grid_auto_flow": null,
      "grid_auto_rows": null,
      "grid_column": null,
      "grid_gap": null,
      "grid_row": null,
      "grid_template_areas": null,
      "grid_template_columns": null,
      "grid_template_rows": null,
      "height": null,
      "justify_content": null,
      "justify_items": null,
      "left": null,
      "margin": null,
      "max_height": null,
      "max_width": null,
      "min_height": null,
      "min_width": null,
      "object_fit": null,
      "object_position": null,
      "order": null,
      "overflow": null,
      "overflow_x": null,
      "overflow_y": null,
      "padding": null,
      "right": null,
      "top": null,
      "visibility": null,
      "width": null
     }
    },
    "1abe56bccf3e45a9b80221994bc4a174": {
     "model_module": "@jupyter-widgets/base",
     "model_module_version": "1.2.0",
     "model_name": "LayoutModel",
     "state": {
      "_model_module": "@jupyter-widgets/base",
      "_model_module_version": "1.2.0",
      "_model_name": "LayoutModel",
      "_view_count": null,
      "_view_module": "@jupyter-widgets/base",
      "_view_module_version": "1.2.0",
      "_view_name": "LayoutView",
      "align_content": null,
      "align_items": null,
      "align_self": null,
      "border": null,
      "bottom": null,
      "display": null,
      "flex": null,
      "flex_flow": null,
      "grid_area": null,
      "grid_auto_columns": null,
      "grid_auto_flow": null,
      "grid_auto_rows": null,
      "grid_column": null,
      "grid_gap": null,
      "grid_row": null,
      "grid_template_areas": null,
      "grid_template_columns": null,
      "grid_template_rows": null,
      "height": null,
      "justify_content": null,
      "justify_items": null,
      "left": null,
      "margin": null,
      "max_height": null,
      "max_width": null,
      "min_height": null,
      "min_width": null,
      "object_fit": null,
      "object_position": null,
      "order": null,
      "overflow": null,
      "overflow_x": null,
      "overflow_y": null,
      "padding": null,
      "right": null,
      "top": null,
      "visibility": null,
      "width": null
     }
    },
    "23af655d6bfa439497c704c4b41e0d2d": {
     "model_module": "@jupyter-widgets/base",
     "model_module_version": "1.2.0",
     "model_name": "LayoutModel",
     "state": {
      "_model_module": "@jupyter-widgets/base",
      "_model_module_version": "1.2.0",
      "_model_name": "LayoutModel",
      "_view_count": null,
      "_view_module": "@jupyter-widgets/base",
      "_view_module_version": "1.2.0",
      "_view_name": "LayoutView",
      "align_content": null,
      "align_items": null,
      "align_self": null,
      "border": null,
      "bottom": null,
      "display": null,
      "flex": null,
      "flex_flow": null,
      "grid_area": null,
      "grid_auto_columns": null,
      "grid_auto_flow": null,
      "grid_auto_rows": null,
      "grid_column": null,
      "grid_gap": null,
      "grid_row": null,
      "grid_template_areas": null,
      "grid_template_columns": null,
      "grid_template_rows": null,
      "height": null,
      "justify_content": null,
      "justify_items": null,
      "left": null,
      "margin": null,
      "max_height": null,
      "max_width": null,
      "min_height": null,
      "min_width": null,
      "object_fit": null,
      "object_position": null,
      "order": null,
      "overflow": null,
      "overflow_x": null,
      "overflow_y": null,
      "padding": null,
      "right": null,
      "top": null,
      "visibility": null,
      "width": null
     }
    },
    "23b8ad7dd09b4191bb5c7a73d84036c4": {
     "model_module": "@jupyter-widgets/base",
     "model_module_version": "1.2.0",
     "model_name": "LayoutModel",
     "state": {
      "_model_module": "@jupyter-widgets/base",
      "_model_module_version": "1.2.0",
      "_model_name": "LayoutModel",
      "_view_count": null,
      "_view_module": "@jupyter-widgets/base",
      "_view_module_version": "1.2.0",
      "_view_name": "LayoutView",
      "align_content": null,
      "align_items": null,
      "align_self": null,
      "border": null,
      "bottom": null,
      "display": null,
      "flex": null,
      "flex_flow": null,
      "grid_area": null,
      "grid_auto_columns": null,
      "grid_auto_flow": null,
      "grid_auto_rows": null,
      "grid_column": null,
      "grid_gap": null,
      "grid_row": null,
      "grid_template_areas": null,
      "grid_template_columns": null,
      "grid_template_rows": null,
      "height": null,
      "justify_content": null,
      "justify_items": null,
      "left": null,
      "margin": null,
      "max_height": null,
      "max_width": null,
      "min_height": null,
      "min_width": null,
      "object_fit": null,
      "object_position": null,
      "order": null,
      "overflow": null,
      "overflow_x": null,
      "overflow_y": null,
      "padding": null,
      "right": null,
      "top": null,
      "visibility": null,
      "width": null
     }
    },
    "23bf7a2cbbec4ec29780ba422ca73ad2": {
     "model_module": "@jupyter-widgets/controls",
     "model_module_version": "1.5.0",
     "model_name": "ProgressStyleModel",
     "state": {
      "_model_module": "@jupyter-widgets/controls",
      "_model_module_version": "1.5.0",
      "_model_name": "ProgressStyleModel",
      "_view_count": null,
      "_view_module": "@jupyter-widgets/base",
      "_view_module_version": "1.2.0",
      "_view_name": "StyleView",
      "bar_color": null,
      "description_width": ""
     }
    },
    "2ef5c16970cc49378abf877ff8af9968": {
     "model_module": "@jupyter-widgets/controls",
     "model_module_version": "1.5.0",
     "model_name": "FloatProgressModel",
     "state": {
      "_dom_classes": [],
      "_model_module": "@jupyter-widgets/controls",
      "_model_module_version": "1.5.0",
      "_model_name": "FloatProgressModel",
      "_view_count": null,
      "_view_module": "@jupyter-widgets/controls",
      "_view_module_version": "1.5.0",
      "_view_name": "ProgressView",
      "bar_style": "success",
      "description": "",
      "description_tooltip": null,
      "layout": "IPY_MODEL_23af655d6bfa439497c704c4b41e0d2d",
      "max": 35,
      "min": 0,
      "orientation": "horizontal",
      "style": "IPY_MODEL_f44441b0020a431682fd83b0063ce52e",
      "value": 35
     }
    },
    "38b213fbe15f4c6bb9eff9cd095488cc": {
     "model_module": "@jupyter-widgets/controls",
     "model_module_version": "1.5.0",
     "model_name": "HTMLModel",
     "state": {
      "_dom_classes": [],
      "_model_module": "@jupyter-widgets/controls",
      "_model_module_version": "1.5.0",
      "_model_name": "HTMLModel",
      "_view_count": null,
      "_view_module": "@jupyter-widgets/controls",
      "_view_module_version": "1.5.0",
      "_view_name": "HTMLView",
      "description": "",
      "description_tooltip": null,
      "layout": "IPY_MODEL_12bdc622628f4941a07d06b58978dab1",
      "placeholder": "​",
      "style": "IPY_MODEL_6dbe64cdb5fa458cbdc4e470c554e285",
      "value": "Capturing CUDA graph shapes: 100%"
     }
    },
    "448c5081c3f14a289ff28acb39b72b37": {
     "model_module": "@jupyter-widgets/controls",
     "model_module_version": "1.5.0",
     "model_name": "HBoxModel",
     "state": {
      "_dom_classes": [],
      "_model_module": "@jupyter-widgets/controls",
      "_model_module_version": "1.5.0",
      "_model_name": "HBoxModel",
      "_view_count": null,
      "_view_module": "@jupyter-widgets/controls",
      "_view_module_version": "1.5.0",
      "_view_name": "HBoxView",
      "box_style": "",
      "children": [
       "IPY_MODEL_38b213fbe15f4c6bb9eff9cd095488cc",
       "IPY_MODEL_2ef5c16970cc49378abf877ff8af9968",
       "IPY_MODEL_8b0e626d572a4c95a95d03b2155f120e"
      ],
      "layout": "IPY_MODEL_23b8ad7dd09b4191bb5c7a73d84036c4"
     }
    },
    "5ffea07201334e709aeb4f32fa6e6f4b": {
     "model_module": "@jupyter-widgets/controls",
     "model_module_version": "1.5.0",
     "model_name": "HTMLModel",
     "state": {
      "_dom_classes": [],
      "_model_module": "@jupyter-widgets/controls",
      "_model_module_version": "1.5.0",
      "_model_name": "HTMLModel",
      "_view_count": null,
      "_view_module": "@jupyter-widgets/controls",
      "_view_module_version": "1.5.0",
      "_view_name": "HTMLView",
      "description": "",
      "description_tooltip": null,
      "layout": "IPY_MODEL_f311aa1618624d22a0b15854b7974fa3",
      "placeholder": "​",
      "style": "IPY_MODEL_d51d4ba536ab455a812413220e4cab86",
      "value": "Loading safetensors checkpoint shards: 100% Completed | 1/1 [00:10&lt;00:00, 10.54s/it]\n"
     }
    },
    "6dbe64cdb5fa458cbdc4e470c554e285": {
     "model_module": "@jupyter-widgets/controls",
     "model_module_version": "1.5.0",
     "model_name": "DescriptionStyleModel",
     "state": {
      "_model_module": "@jupyter-widgets/controls",
      "_model_module_version": "1.5.0",
      "_model_name": "DescriptionStyleModel",
      "_view_count": null,
      "_view_module": "@jupyter-widgets/base",
      "_view_module_version": "1.2.0",
      "_view_name": "StyleView",
      "description_width": ""
     }
    },
    "8b0e626d572a4c95a95d03b2155f120e": {
     "model_module": "@jupyter-widgets/controls",
     "model_module_version": "1.5.0",
     "model_name": "HTMLModel",
     "state": {
      "_dom_classes": [],
      "_model_module": "@jupyter-widgets/controls",
      "_model_module_version": "1.5.0",
      "_model_name": "HTMLModel",
      "_view_count": null,
      "_view_module": "@jupyter-widgets/controls",
      "_view_module_version": "1.5.0",
      "_view_name": "HTMLView",
      "description": "",
      "description_tooltip": null,
      "layout": "IPY_MODEL_041360a82a6b47b6a909ca3e2c99fa63",
      "placeholder": "​",
      "style": "IPY_MODEL_d3a664f30e6c437cbbfa894045db30d6",
      "value": " 35/35 [00:50&lt;00:00,  1.33s/it]"
     }
    },
    "aab09fa2dbfd490f9caafc4c306b27da": {
     "model_module": "@jupyter-widgets/controls",
     "model_module_version": "1.5.0",
     "model_name": "HBoxModel",
     "state": {
      "_dom_classes": [],
      "_model_module": "@jupyter-widgets/controls",
      "_model_module_version": "1.5.0",
      "_model_name": "HBoxModel",
      "_view_count": null,
      "_view_module": "@jupyter-widgets/controls",
      "_view_module_version": "1.5.0",
      "_view_name": "HBoxView",
      "box_style": "",
      "children": [
       "IPY_MODEL_f55cfa8bb6584ee2a0c8d7488c95f46c",
       "IPY_MODEL_c0161aee24854a74ad1531990c12e84b",
       "IPY_MODEL_5ffea07201334e709aeb4f32fa6e6f4b"
      ],
      "layout": "IPY_MODEL_f19a099fdc274409b7523cbafa37d01d"
     }
    },
    "ae233b901bca41328ce420bf43685af4": {
     "model_module": "@jupyter-widgets/controls",
     "model_module_version": "1.5.0",
     "model_name": "DescriptionStyleModel",
     "state": {
      "_model_module": "@jupyter-widgets/controls",
      "_model_module_version": "1.5.0",
      "_model_name": "DescriptionStyleModel",
      "_view_count": null,
      "_view_module": "@jupyter-widgets/base",
      "_view_module_version": "1.2.0",
      "_view_name": "StyleView",
      "description_width": ""
     }
    },
    "c0161aee24854a74ad1531990c12e84b": {
     "model_module": "@jupyter-widgets/controls",
     "model_module_version": "1.5.0",
     "model_name": "FloatProgressModel",
     "state": {
      "_dom_classes": [],
      "_model_module": "@jupyter-widgets/controls",
      "_model_module_version": "1.5.0",
      "_model_name": "FloatProgressModel",
      "_view_count": null,
      "_view_module": "@jupyter-widgets/controls",
      "_view_module_version": "1.5.0",
      "_view_name": "ProgressView",
      "bar_style": "success",
      "description": "",
      "description_tooltip": null,
      "layout": "IPY_MODEL_1abe56bccf3e45a9b80221994bc4a174",
      "max": 1,
      "min": 0,
      "orientation": "horizontal",
      "style": "IPY_MODEL_23bf7a2cbbec4ec29780ba422ca73ad2",
      "value": 1
     }
    },
    "d3a664f30e6c437cbbfa894045db30d6": {
     "model_module": "@jupyter-widgets/controls",
     "model_module_version": "1.5.0",
     "model_name": "DescriptionStyleModel",
     "state": {
      "_model_module": "@jupyter-widgets/controls",
      "_model_module_version": "1.5.0",
      "_model_name": "DescriptionStyleModel",
      "_view_count": null,
      "_view_module": "@jupyter-widgets/base",
      "_view_module_version": "1.2.0",
      "_view_name": "StyleView",
      "description_width": ""
     }
    },
    "d51d4ba536ab455a812413220e4cab86": {
     "model_module": "@jupyter-widgets/controls",
     "model_module_version": "1.5.0",
     "model_name": "DescriptionStyleModel",
     "state": {
      "_model_module": "@jupyter-widgets/controls",
      "_model_module_version": "1.5.0",
      "_model_name": "DescriptionStyleModel",
      "_view_count": null,
      "_view_module": "@jupyter-widgets/base",
      "_view_module_version": "1.2.0",
      "_view_name": "StyleView",
      "description_width": ""
     }
    },
    "f19a099fdc274409b7523cbafa37d01d": {
     "model_module": "@jupyter-widgets/base",
     "model_module_version": "1.2.0",
     "model_name": "LayoutModel",
     "state": {
      "_model_module": "@jupyter-widgets/base",
      "_model_module_version": "1.2.0",
      "_model_name": "LayoutModel",
      "_view_count": null,
      "_view_module": "@jupyter-widgets/base",
      "_view_module_version": "1.2.0",
      "_view_name": "LayoutView",
      "align_content": null,
      "align_items": null,
      "align_self": null,
      "border": null,
      "bottom": null,
      "display": null,
      "flex": null,
      "flex_flow": null,
      "grid_area": null,
      "grid_auto_columns": null,
      "grid_auto_flow": null,
      "grid_auto_rows": null,
      "grid_column": null,
      "grid_gap": null,
      "grid_row": null,
      "grid_template_areas": null,
      "grid_template_columns": null,
      "grid_template_rows": null,
      "height": null,
      "justify_content": null,
      "justify_items": null,
      "left": null,
      "margin": null,
      "max_height": null,
      "max_width": null,
      "min_height": null,
      "min_width": null,
      "object_fit": null,
      "object_position": null,
      "order": null,
      "overflow": null,
      "overflow_x": null,
      "overflow_y": null,
      "padding": null,
      "right": null,
      "top": null,
      "visibility": null,
      "width": null
     }
    },
    "f311aa1618624d22a0b15854b7974fa3": {
     "model_module": "@jupyter-widgets/base",
     "model_module_version": "1.2.0",
     "model_name": "LayoutModel",
     "state": {
      "_model_module": "@jupyter-widgets/base",
      "_model_module_version": "1.2.0",
      "_model_name": "LayoutModel",
      "_view_count": null,
      "_view_module": "@jupyter-widgets/base",
      "_view_module_version": "1.2.0",
      "_view_name": "LayoutView",
      "align_content": null,
      "align_items": null,
      "align_self": null,
      "border": null,
      "bottom": null,
      "display": null,
      "flex": null,
      "flex_flow": null,
      "grid_area": null,
      "grid_auto_columns": null,
      "grid_auto_flow": null,
      "grid_auto_rows": null,
      "grid_column": null,
      "grid_gap": null,
      "grid_row": null,
      "grid_template_areas": null,
      "grid_template_columns": null,
      "grid_template_rows": null,
      "height": null,
      "justify_content": null,
      "justify_items": null,
      "left": null,
      "margin": null,
      "max_height": null,
      "max_width": null,
      "min_height": null,
      "min_width": null,
      "object_fit": null,
      "object_position": null,
      "order": null,
      "overflow": null,
      "overflow_x": null,
      "overflow_y": null,
      "padding": null,
      "right": null,
      "top": null,
      "visibility": null,
      "width": null
     }
    },
    "f44441b0020a431682fd83b0063ce52e": {
     "model_module": "@jupyter-widgets/controls",
     "model_module_version": "1.5.0",
     "model_name": "ProgressStyleModel",
     "state": {
      "_model_module": "@jupyter-widgets/controls",
      "_model_module_version": "1.5.0",
      "_model_name": "ProgressStyleModel",
      "_view_count": null,
      "_view_module": "@jupyter-widgets/base",
      "_view_module_version": "1.2.0",
      "_view_name": "StyleView",
      "bar_color": null,
      "description_width": ""
     }
    },
    "f55cfa8bb6584ee2a0c8d7488c95f46c": {
     "model_module": "@jupyter-widgets/controls",
     "model_module_version": "1.5.0",
     "model_name": "HTMLModel",
     "state": {
      "_dom_classes": [],
      "_model_module": "@jupyter-widgets/controls",
      "_model_module_version": "1.5.0",
      "_model_name": "HTMLModel",
      "_view_count": null,
      "_view_module": "@jupyter-widgets/controls",
      "_view_module_version": "1.5.0",
      "_view_name": "HTMLView",
      "description": "",
      "description_tooltip": null,
      "layout": "IPY_MODEL_f8ae546b332e4875b18472dc4f0eeece",
      "placeholder": "​",
      "style": "IPY_MODEL_ae233b901bca41328ce420bf43685af4",
      "value": ""
     }
    },
    "f8ae546b332e4875b18472dc4f0eeece": {
     "model_module": "@jupyter-widgets/base",
     "model_module_version": "1.2.0",
     "model_name": "LayoutModel",
     "state": {
      "_model_module": "@jupyter-widgets/base",
      "_model_module_version": "1.2.0",
      "_model_name": "LayoutModel",
      "_view_count": null,
      "_view_module": "@jupyter-widgets/base",
      "_view_module_version": "1.2.0",
      "_view_name": "LayoutView",
      "align_content": null,
      "align_items": null,
      "align_self": null,
      "border": null,
      "bottom": null,
      "display": null,
      "flex": null,
      "flex_flow": null,
      "grid_area": null,
      "grid_auto_columns": null,
      "grid_auto_flow": null,
      "grid_auto_rows": null,
      "grid_column": null,
      "grid_gap": null,
      "grid_row": null,
      "grid_template_areas": null,
      "grid_template_columns": null,
      "grid_template_rows": null,
      "height": null,
      "justify_content": null,
      "justify_items": null,
      "left": null,
      "margin": null,
      "max_height": null,
      "max_width": null,
      "min_height": null,
      "min_width": null,
      "object_fit": null,
      "object_position": null,
      "order": null,
      "overflow": null,
      "overflow_x": null,
      "overflow_y": null,
      "padding": null,
      "right": null,
      "top": null,
      "visibility": null,
      "width": null
     }
    }
   }
  }
 },
 "nbformat": 4,
 "nbformat_minor": 4
}
