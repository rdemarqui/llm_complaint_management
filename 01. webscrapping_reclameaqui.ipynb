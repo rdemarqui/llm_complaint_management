{
 "cells": [
  {
   "cell_type": "code",
   "execution_count": 1,
   "metadata": {},
   "outputs": [],
   "source": [
    "from selenium import webdriver\n",
    "from selenium.webdriver.common.by import By\n",
    "from selenium.webdriver.support.ui import WebDriverWait\n",
    "from selenium.webdriver.support import expected_conditions as EC\n",
    "\n",
    "from bs4 import BeautifulSoup as bs\n",
    "from time import sleep\n",
    "import pandas as pd"
   ]
  },
  {
   "cell_type": "code",
   "execution_count": 96,
   "metadata": {},
   "outputs": [],
   "source": [
    "def list_problem_qtdy(company):\n",
    "    \"\"\"\n",
    "    This function will extract the quantity os claims by problem category.\n",
    "    \"\"\"\n",
    "    # Selenium configurations\n",
    "    options = webdriver.ChromeOptions()\n",
    "    options.add_experimental_option('excludeSwitches', ['enable-logging'])\n",
    "    options.page_load_strategy = 'eager'\n",
    "    driver = webdriver.Chrome(options=options)\n",
    "\n",
    "    # Filtering only mobile services categories\n",
    "    category = '/?pagina=1&categoria=0000000000000067'\n",
    "\n",
    "    base_url = \"https://www.reclameaqui.com.br/empresa/\" + company.lower() + \"/lista-reclamacoes\" + category\n",
    "    driver.get(base_url)\n",
    "\n",
    "    # Expand problem options\n",
    "    button = WebDriverWait(driver, 30).until(EC.visibility_of_element_located((By.XPATH,\n",
    "                                                                               '//*[@id=\"filter-diderot\"]/div[1]/div[4]/button')))\n",
    "    \n",
    "    button.click() \n",
    "\n",
    "    # Get problem label\n",
    "    page_html = bs(driver.page_source, \"html.parser\")\n",
    "    categories_html = page_html.find_all(class_='sc-1h9pg1g-5 hQqRTk')\n",
    "    divs = categories_html[3].find_all('div', class_='sc-1h9pg1g-7 eGIjvG')\n",
    "    \n",
    "    problem_list = []\n",
    "    for div in divs:\n",
    "        problem_list.append([div['title'], div.find('label')['for']])\n",
    "    \n",
    "    return problem_list"
   ]
  },
  {
   "cell_type": "code",
   "execution_count": null,
   "metadata": {},
   "outputs": [],
   "source": [
    "def extract_claim_list(company, problem_item, ini_page, end_page):\n",
    "    \"\"\"\n",
    "    This function will extract list of titles and link.\n",
    "    \"\"\"\n",
    "    # Selenium configurations\n",
    "    options = webdriver.ChromeOptions()\n",
    "    options.add_experimental_option('excludeSwitches', ['enable-logging'])\n",
    "    options.page_load_strategy = 'eager'\n",
    "    driver = webdriver.Chrome(options=options)\n",
    "\n",
    "    base_url = \"https://www.reclameaqui.com.br/empresa/\" + company.lower()\n",
    "    category = '&categoria=0000000000000067'\n",
    "    cat_problem = '&problema=' + str(problem_item[1])\n",
    "    print(f'Problem category: {problem_item[0].split(\" (\")[0]}')\n",
    "    title_link = []\n",
    "\n",
    "    # Extract data\n",
    "    for page_number in range(ini_page, end_page+1):\n",
    "        url = base_url + \"/lista-reclamacoes/?pagina=\" + str(page_number) + category + cat_problem\n",
    "        driver.get(url)\n",
    "        sleep(1.5)\n",
    "        page_html = bs(driver.page_source, \"html.parser\")\n",
    "        claims_html = page_html.find_all(class_='sc-1pe7b5t-0 iQGzPh')\n",
    "\n",
    "        for element in claims_html:\n",
    "            element_title_link = [element.find('h4')['title'], element.find('a')['href']]\n",
    "            title_link.append(element_title_link)\n",
    "    \n",
    "    driver.quit()\n",
    "    return title_link"
   ]
  },
  {
   "cell_type": "code",
   "execution_count": 4,
   "metadata": {},
   "outputs": [],
   "source": [
    "def extract_company(company, problem_list, top_n, ini_page, end_page):\n",
    "    company_df = pd.DataFrame()\n",
    "    for problem in problem_list[:top_n]:\n",
    "        title_link = extract_claim_list(company, problem, ini_page, end_page)\n",
    "        temp = pd.DataFrame(title_link, columns=['title', 'link'])\n",
    "        temp['problem'] = problem[0].split(\" (\")[0]\n",
    "        company_df = pd.concat([company_df, temp]).reset_index(drop=True)\n",
    "\n",
    "        company_df.to_csv(company + '_temp.csv', index=False)\n",
    "\n",
    "    return company_df"
   ]
  },
  {
   "cell_type": "code",
   "execution_count": 9,
   "metadata": {},
   "outputs": [],
   "source": [
    "def add_description(filename, ini_line=0):\n",
    "    \"\"\"\n",
    "    This function vistit every link on file e gets the description\n",
    "    \"\"\"\n",
    "    options = webdriver.ChromeOptions()\n",
    "    options.add_experimental_option('excludeSwitches', ['enable-logging'])\n",
    "    options.page_load_strategy = 'eager'\n",
    "    driver = webdriver.Chrome(options=options)\n",
    "\n",
    "    temp_dataframe = pd.read_csv(filename)\n",
    "    \n",
    "    if 'description' not in temp_dataframe.columns:\n",
    "        temp_dataframe['description'] = \"\"\n",
    "        new_file = True\n",
    "        temp_name = 'full_' + filename\n",
    "    else:\n",
    "        temp_name = filename\n",
    "\n",
    "    index = ini_line\n",
    "    error = 0\n",
    "    for url in temp_dataframe.loc[int(ini_line):, 'link']:\n",
    "        \n",
    "        # Save file each 70 requests\n",
    "        if index%70 == 0 and index!=0:\n",
    "            print(f\"Sample: {index}\")\n",
    "            temp_dataframe.to_csv(temp_name, index=False)\n",
    "            driver.quit()\n",
    "            driver = webdriver.Chrome(options=options)\n",
    "\n",
    "        full_url = \"https://www.reclameaqui.com.br\" + url\n",
    "        try:\n",
    "            driver.get(full_url)\n",
    "        except:\n",
    "            driver.quit()\n",
    "            sleep(120)\n",
    "            driver = webdriver.Chrome(options=options)\n",
    "            driver.get(full_url)\n",
    "\n",
    "        sleep(1.3)\n",
    "        page_html = bs(driver.page_source, \"html.parser\")\n",
    "        try:\n",
    "            description = page_html.find('p', {'data-testid': 'complaint-description'}).get_text()\n",
    "        except:\n",
    "            description = \"\"\n",
    "            error += 1\n",
    "\n",
    "        temp_dataframe.at[index, 'description'] = description\n",
    "        index += 1\n",
    "    \n",
    "    print(f\"Salvando dataframe: {temp_name}, error: {error}\")\n",
    "    temp_dataframe.to_csv(temp_name, index=False)\n",
    "    driver.quit()"
   ]
  },
  {
   "cell_type": "code",
   "execution_count": 8,
   "metadata": {},
   "outputs": [],
   "source": [
    "# Extract problem category for each mobile operator\n",
    "problem_list_claro = list_problem_qtdy('claro')\n",
    "problem_list_tim = list_problem_qtdy('tim-celular')\n",
    "problem_list_vivo = list_problem_qtdy('vivo-celular-fixo-internet-tv')\n",
    "problem_list_oi = list_problem_qtdy('oi-movel-fixo-tv')"
   ]
  },
  {
   "cell_type": "code",
   "execution_count": null,
   "metadata": {},
   "outputs": [],
   "source": [
    "# Check size of lists\n",
    "lists = [problem_list_claro, problem_list_tim,\n",
    "         problem_list_vivo, problem_list_oi]\n",
    "\n",
    "for i in lists:\n",
    "    print(len(i))"
   ]
  },
  {
   "cell_type": "code",
   "execution_count": 18,
   "metadata": {},
   "outputs": [],
   "source": [
    "# Choose parameters\n",
    "top_n = 25   # Top problems \n",
    "ini = 1      # First page problem\n",
    "end = 50     # Last page problem"
   ]
  },
  {
   "cell_type": "code",
   "execution_count": null,
   "metadata": {},
   "outputs": [],
   "source": [
    "# Extract title, link and category from Claro\n",
    "claro_df = extract_company(company='claro', problem_list=problem_list_claro,\n",
    "                           top_n=top_n, ini_page=ini, end_page=end)\n",
    "#claro_df.to_csv('reclame_aqui_main_claro.csv', index=False)"
   ]
  },
  {
   "cell_type": "code",
   "execution_count": null,
   "metadata": {},
   "outputs": [],
   "source": [
    "# Extract title, link and category from Tim\n",
    "tim_df = extract_company(company='tim-celular', problem_list=problem_list_tim,\n",
    "                         top_n=top_n, ini_page=ini, end_page=end)\n",
    "#tim_df.to_csv('reclame_aqui_main_tim.csv', index=False)"
   ]
  },
  {
   "cell_type": "code",
   "execution_count": null,
   "metadata": {},
   "outputs": [],
   "source": [
    "# Extract title, link and category from Vivo\n",
    "vivo_df = extract_company(company='vivo-celular-fixo-internet-tv', problem_list=problem_list_vivo,\n",
    "                          top_n=top_n, ini_page=ini, end_page=end)\n",
    "#vivo_df.to_csv('reclame_aqui_main_vivo.csv', index = False)"
   ]
  },
  {
   "cell_type": "code",
   "execution_count": null,
   "metadata": {},
   "outputs": [],
   "source": [
    "# Extract title, link and category from Oi\n",
    "oi_df = extract_company(company='oi-movel-fixo-tv', problem_list=problem_list_oi,\n",
    "                        top_n=top_n, ini_page=ini, end_page=end)\n",
    "#oi_df.to_csv('reclame_aqui_main_oi.csv', index = False)"
   ]
  },
  {
   "cell_type": "code",
   "execution_count": 10,
   "metadata": {},
   "outputs": [
    {
     "name": "stdout",
     "output_type": "stream",
     "text": [
      "Sample: 1330\n",
      "Sample: 1400\n"
     ]
    }
   ],
   "source": [
    "add_description('full_selected_problems_claro_2.csv', 1300)"
   ]
  },
  {
   "cell_type": "code",
   "execution_count": 3,
   "metadata": {},
   "outputs": [],
   "source": [
    "e = pd.read_csv('full_selected_problems_claro_2.csv')"
   ]
  },
  {
   "cell_type": "code",
   "execution_count": 6,
   "metadata": {},
   "outputs": [
    {
     "name": "stdout",
     "output_type": "stream",
     "text": [
      "<class 'pandas.core.frame.DataFrame'>\n",
      "RangeIndex: 7000 entries, 0 to 6999\n",
      "Data columns (total 4 columns):\n",
      " #   Column       Non-Null Count  Dtype \n",
      "---  ------       --------------  ----- \n",
      " 0   title        7000 non-null   object\n",
      " 1   link         7000 non-null   object\n",
      " 2   problem      7000 non-null   object\n",
      " 3   description  800 non-null    object\n",
      "dtypes: object(4)\n",
      "memory usage: 218.9+ KB\n"
     ]
    }
   ],
   "source": [
    "e.info()"
   ]
  },
  {
   "cell_type": "code",
   "execution_count": null,
   "metadata": {},
   "outputs": [],
   "source": []
  }
 ],
 "metadata": {
  "kernelspec": {
   "display_name": "Python 3",
   "language": "python",
   "name": "python3"
  },
  "language_info": {
   "codemirror_mode": {
    "name": "ipython",
    "version": 3
   },
   "file_extension": ".py",
   "mimetype": "text/x-python",
   "name": "python",
   "nbconvert_exporter": "python",
   "pygments_lexer": "ipython3",
   "version": "3.9.13"
  },
  "orig_nbformat": 4
 },
 "nbformat": 4,
 "nbformat_minor": 2
}
