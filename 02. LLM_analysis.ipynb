{
  "cells": [
    {
      "cell_type": "markdown",
      "metadata": {
        "id": "view-in-github",
        "colab_type": "text"
      },
      "source": [
        "<a href=\"https://colab.research.google.com/github/rdemarqui/llm_complaint_management/blob/main/02.%20LLM_analysis.ipynb\" target=\"_parent\"><img src=\"https://colab.research.google.com/assets/colab-badge.svg\" alt=\"Open In Colab\"/></a>"
      ]
    },
    {
      "cell_type": "markdown",
      "source": [
        "# LLM at Work: Decoding Customer Feedback"
      ],
      "metadata": {
        "id": "JdXiJzMm7ewB"
      }
    },
    {
      "cell_type": "markdown",
      "source": [
        "This study aims to explore these technological advancements, specifically using the advanced LLM tool Mistral 7B, to analyze a vast collection of complaints gathered from the website [reclameaqui.com.br](reclameaqui.com.br). Through this analysis, we intend to demonstrate the potential and effectiveness of LLMs in interpreting and handling large-scale user feedback.\n",
        "\n",
        "For more information, please visit my github page: https://github.com/rdemarqui/llm_complaint_management"
      ],
      "metadata": {
        "id": "1Ex4zf24D1-m"
      }
    },
    {
      "cell_type": "markdown",
      "source": [
        "## Complaint Dataset"
      ],
      "metadata": {
        "id": "e_s1QiOU98Rc"
      }
    },
    {
      "cell_type": "markdown",
      "source": [
        "### Load"
      ],
      "metadata": {
        "id": "kZWO80q3-PsC"
      }
    },
    {
      "cell_type": "code",
      "source": [
        "import pandas as pd\n",
        "import seaborn as sns\n",
        "import warnings\n",
        "warnings.filterwarnings(\"ignore\", category=UserWarning)"
      ],
      "metadata": {
        "id": "tSvJsvLbHoQp"
      },
      "execution_count": 37,
      "outputs": []
    },
    {
      "cell_type": "code",
      "source": [
        "# Loading data\n",
        "data_url = 'https://raw.githubusercontent.com/rdemarqui/llm_complaint_management/main/datasets/full_dataset_claro.xlsx'\n",
        "df = pd.read_excel(data_url, usecols=['problem', 'description'])\n",
        "print(df.shape)"
      ],
      "metadata": {
        "id": "cduSRhNh4VB5",
        "outputId": "7e15ebdf-1f36-42d0-c4ad-6ba0dc4a1afe",
        "colab": {
          "base_uri": "https://localhost:8080/"
        }
      },
      "execution_count": 16,
      "outputs": [
        {
          "output_type": "stream",
          "name": "stdout",
          "text": [
            "(7000, 2)\n"
          ]
        }
      ]
    },
    {
      "cell_type": "markdown",
      "source": [
        "### Clean"
      ],
      "metadata": {
        "id": "pAx7QfsGBLfN"
      }
    },
    {
      "cell_type": "code",
      "source": [
        "# Remove extra space and uncase all words\n",
        "df['description'] = df['description'].astype(str)\n",
        "df['description'] = df['description'].str.replace(r'\\s{2,}', ' ', regex=True)\n",
        "df['description'] = df['description'].str.lower()"
      ],
      "metadata": {
        "id": "UmvxMuJuBOy7",
        "outputId": "185f903f-a08a-4d94-f9b4-fdf831517531",
        "colab": {
          "base_uri": "https://localhost:8080/",
          "height": 206
        }
      },
      "execution_count": 17,
      "outputs": [
        {
          "output_type": "execute_result",
          "data": {
            "text/plain": [
              "             problem                                        description\n",
              "0  Cobrança indevida  recebi um e-mail spam com uma fatura no valor ...\n",
              "1  Cobrança indevida  compra não autoriza na meu cartão, chip de núm...\n",
              "2  Cobrança indevida  no dia 11 de outubro realizei uma recarga pelo...\n",
              "3  Cobrança indevida  segue o número de protocolo do atendimento rea...\n",
              "4  Cobrança indevida  fiz hoje dia 12/10/2023 uma recarga de celular..."
            ],
            "text/html": [
              "\n",
              "  <div id=\"df-69a0dae4-1f81-49f1-ab12-2984d051bffb\" class=\"colab-df-container\">\n",
              "    <div>\n",
              "<style scoped>\n",
              "    .dataframe tbody tr th:only-of-type {\n",
              "        vertical-align: middle;\n",
              "    }\n",
              "\n",
              "    .dataframe tbody tr th {\n",
              "        vertical-align: top;\n",
              "    }\n",
              "\n",
              "    .dataframe thead th {\n",
              "        text-align: right;\n",
              "    }\n",
              "</style>\n",
              "<table border=\"1\" class=\"dataframe\">\n",
              "  <thead>\n",
              "    <tr style=\"text-align: right;\">\n",
              "      <th></th>\n",
              "      <th>problem</th>\n",
              "      <th>description</th>\n",
              "    </tr>\n",
              "  </thead>\n",
              "  <tbody>\n",
              "    <tr>\n",
              "      <th>0</th>\n",
              "      <td>Cobrança indevida</td>\n",
              "      <td>recebi um e-mail spam com uma fatura no valor ...</td>\n",
              "    </tr>\n",
              "    <tr>\n",
              "      <th>1</th>\n",
              "      <td>Cobrança indevida</td>\n",
              "      <td>compra não autoriza na meu cartão, chip de núm...</td>\n",
              "    </tr>\n",
              "    <tr>\n",
              "      <th>2</th>\n",
              "      <td>Cobrança indevida</td>\n",
              "      <td>no dia 11 de outubro realizei uma recarga pelo...</td>\n",
              "    </tr>\n",
              "    <tr>\n",
              "      <th>3</th>\n",
              "      <td>Cobrança indevida</td>\n",
              "      <td>segue o número de protocolo do atendimento rea...</td>\n",
              "    </tr>\n",
              "    <tr>\n",
              "      <th>4</th>\n",
              "      <td>Cobrança indevida</td>\n",
              "      <td>fiz hoje dia 12/10/2023 uma recarga de celular...</td>\n",
              "    </tr>\n",
              "  </tbody>\n",
              "</table>\n",
              "</div>\n",
              "    <div class=\"colab-df-buttons\">\n",
              "\n",
              "  <div class=\"colab-df-container\">\n",
              "    <button class=\"colab-df-convert\" onclick=\"convertToInteractive('df-69a0dae4-1f81-49f1-ab12-2984d051bffb')\"\n",
              "            title=\"Convert this dataframe to an interactive table.\"\n",
              "            style=\"display:none;\">\n",
              "\n",
              "  <svg xmlns=\"http://www.w3.org/2000/svg\" height=\"24px\" viewBox=\"0 -960 960 960\">\n",
              "    <path d=\"M120-120v-720h720v720H120Zm60-500h600v-160H180v160Zm220 220h160v-160H400v160Zm0 220h160v-160H400v160ZM180-400h160v-160H180v160Zm440 0h160v-160H620v160ZM180-180h160v-160H180v160Zm440 0h160v-160H620v160Z\"/>\n",
              "  </svg>\n",
              "    </button>\n",
              "\n",
              "  <style>\n",
              "    .colab-df-container {\n",
              "      display:flex;\n",
              "      gap: 12px;\n",
              "    }\n",
              "\n",
              "    .colab-df-convert {\n",
              "      background-color: #E8F0FE;\n",
              "      border: none;\n",
              "      border-radius: 50%;\n",
              "      cursor: pointer;\n",
              "      display: none;\n",
              "      fill: #1967D2;\n",
              "      height: 32px;\n",
              "      padding: 0 0 0 0;\n",
              "      width: 32px;\n",
              "    }\n",
              "\n",
              "    .colab-df-convert:hover {\n",
              "      background-color: #E2EBFA;\n",
              "      box-shadow: 0px 1px 2px rgba(60, 64, 67, 0.3), 0px 1px 3px 1px rgba(60, 64, 67, 0.15);\n",
              "      fill: #174EA6;\n",
              "    }\n",
              "\n",
              "    .colab-df-buttons div {\n",
              "      margin-bottom: 4px;\n",
              "    }\n",
              "\n",
              "    [theme=dark] .colab-df-convert {\n",
              "      background-color: #3B4455;\n",
              "      fill: #D2E3FC;\n",
              "    }\n",
              "\n",
              "    [theme=dark] .colab-df-convert:hover {\n",
              "      background-color: #434B5C;\n",
              "      box-shadow: 0px 1px 3px 1px rgba(0, 0, 0, 0.15);\n",
              "      filter: drop-shadow(0px 1px 2px rgba(0, 0, 0, 0.3));\n",
              "      fill: #FFFFFF;\n",
              "    }\n",
              "  </style>\n",
              "\n",
              "    <script>\n",
              "      const buttonEl =\n",
              "        document.querySelector('#df-69a0dae4-1f81-49f1-ab12-2984d051bffb button.colab-df-convert');\n",
              "      buttonEl.style.display =\n",
              "        google.colab.kernel.accessAllowed ? 'block' : 'none';\n",
              "\n",
              "      async function convertToInteractive(key) {\n",
              "        const element = document.querySelector('#df-69a0dae4-1f81-49f1-ab12-2984d051bffb');\n",
              "        const dataTable =\n",
              "          await google.colab.kernel.invokeFunction('convertToInteractive',\n",
              "                                                    [key], {});\n",
              "        if (!dataTable) return;\n",
              "\n",
              "        const docLinkHtml = 'Like what you see? Visit the ' +\n",
              "          '<a target=\"_blank\" href=https://colab.research.google.com/notebooks/data_table.ipynb>data table notebook</a>'\n",
              "          + ' to learn more about interactive tables.';\n",
              "        element.innerHTML = '';\n",
              "        dataTable['output_type'] = 'display_data';\n",
              "        await google.colab.output.renderOutput(dataTable, element);\n",
              "        const docLink = document.createElement('div');\n",
              "        docLink.innerHTML = docLinkHtml;\n",
              "        element.appendChild(docLink);\n",
              "      }\n",
              "    </script>\n",
              "  </div>\n",
              "\n",
              "\n",
              "<div id=\"df-0373d4c9-b4f1-4db8-96f8-445caea41d83\">\n",
              "  <button class=\"colab-df-quickchart\" onclick=\"quickchart('df-0373d4c9-b4f1-4db8-96f8-445caea41d83')\"\n",
              "            title=\"Suggest charts\"\n",
              "            style=\"display:none;\">\n",
              "\n",
              "<svg xmlns=\"http://www.w3.org/2000/svg\" height=\"24px\"viewBox=\"0 0 24 24\"\n",
              "     width=\"24px\">\n",
              "    <g>\n",
              "        <path d=\"M19 3H5c-1.1 0-2 .9-2 2v14c0 1.1.9 2 2 2h14c1.1 0 2-.9 2-2V5c0-1.1-.9-2-2-2zM9 17H7v-7h2v7zm4 0h-2V7h2v10zm4 0h-2v-4h2v4z\"/>\n",
              "    </g>\n",
              "</svg>\n",
              "  </button>\n",
              "\n",
              "<style>\n",
              "  .colab-df-quickchart {\n",
              "      --bg-color: #E8F0FE;\n",
              "      --fill-color: #1967D2;\n",
              "      --hover-bg-color: #E2EBFA;\n",
              "      --hover-fill-color: #174EA6;\n",
              "      --disabled-fill-color: #AAA;\n",
              "      --disabled-bg-color: #DDD;\n",
              "  }\n",
              "\n",
              "  [theme=dark] .colab-df-quickchart {\n",
              "      --bg-color: #3B4455;\n",
              "      --fill-color: #D2E3FC;\n",
              "      --hover-bg-color: #434B5C;\n",
              "      --hover-fill-color: #FFFFFF;\n",
              "      --disabled-bg-color: #3B4455;\n",
              "      --disabled-fill-color: #666;\n",
              "  }\n",
              "\n",
              "  .colab-df-quickchart {\n",
              "    background-color: var(--bg-color);\n",
              "    border: none;\n",
              "    border-radius: 50%;\n",
              "    cursor: pointer;\n",
              "    display: none;\n",
              "    fill: var(--fill-color);\n",
              "    height: 32px;\n",
              "    padding: 0;\n",
              "    width: 32px;\n",
              "  }\n",
              "\n",
              "  .colab-df-quickchart:hover {\n",
              "    background-color: var(--hover-bg-color);\n",
              "    box-shadow: 0 1px 2px rgba(60, 64, 67, 0.3), 0 1px 3px 1px rgba(60, 64, 67, 0.15);\n",
              "    fill: var(--button-hover-fill-color);\n",
              "  }\n",
              "\n",
              "  .colab-df-quickchart-complete:disabled,\n",
              "  .colab-df-quickchart-complete:disabled:hover {\n",
              "    background-color: var(--disabled-bg-color);\n",
              "    fill: var(--disabled-fill-color);\n",
              "    box-shadow: none;\n",
              "  }\n",
              "\n",
              "  .colab-df-spinner {\n",
              "    border: 2px solid var(--fill-color);\n",
              "    border-color: transparent;\n",
              "    border-bottom-color: var(--fill-color);\n",
              "    animation:\n",
              "      spin 1s steps(1) infinite;\n",
              "  }\n",
              "\n",
              "  @keyframes spin {\n",
              "    0% {\n",
              "      border-color: transparent;\n",
              "      border-bottom-color: var(--fill-color);\n",
              "      border-left-color: var(--fill-color);\n",
              "    }\n",
              "    20% {\n",
              "      border-color: transparent;\n",
              "      border-left-color: var(--fill-color);\n",
              "      border-top-color: var(--fill-color);\n",
              "    }\n",
              "    30% {\n",
              "      border-color: transparent;\n",
              "      border-left-color: var(--fill-color);\n",
              "      border-top-color: var(--fill-color);\n",
              "      border-right-color: var(--fill-color);\n",
              "    }\n",
              "    40% {\n",
              "      border-color: transparent;\n",
              "      border-right-color: var(--fill-color);\n",
              "      border-top-color: var(--fill-color);\n",
              "    }\n",
              "    60% {\n",
              "      border-color: transparent;\n",
              "      border-right-color: var(--fill-color);\n",
              "    }\n",
              "    80% {\n",
              "      border-color: transparent;\n",
              "      border-right-color: var(--fill-color);\n",
              "      border-bottom-color: var(--fill-color);\n",
              "    }\n",
              "    90% {\n",
              "      border-color: transparent;\n",
              "      border-bottom-color: var(--fill-color);\n",
              "    }\n",
              "  }\n",
              "</style>\n",
              "\n",
              "  <script>\n",
              "    async function quickchart(key) {\n",
              "      const quickchartButtonEl =\n",
              "        document.querySelector('#' + key + ' button');\n",
              "      quickchartButtonEl.disabled = true;  // To prevent multiple clicks.\n",
              "      quickchartButtonEl.classList.add('colab-df-spinner');\n",
              "      try {\n",
              "        const charts = await google.colab.kernel.invokeFunction(\n",
              "            'suggestCharts', [key], {});\n",
              "      } catch (error) {\n",
              "        console.error('Error during call to suggestCharts:', error);\n",
              "      }\n",
              "      quickchartButtonEl.classList.remove('colab-df-spinner');\n",
              "      quickchartButtonEl.classList.add('colab-df-quickchart-complete');\n",
              "    }\n",
              "    (() => {\n",
              "      let quickchartButtonEl =\n",
              "        document.querySelector('#df-0373d4c9-b4f1-4db8-96f8-445caea41d83 button');\n",
              "      quickchartButtonEl.style.display =\n",
              "        google.colab.kernel.accessAllowed ? 'block' : 'none';\n",
              "    })();\n",
              "  </script>\n",
              "</div>\n",
              "\n",
              "    </div>\n",
              "  </div>\n"
            ]
          },
          "metadata": {},
          "execution_count": 17
        }
      ]
    },
    {
      "cell_type": "code",
      "source": [
        "# Modify mask made by reclame aqui\n",
        "def remove_mask(text):\n",
        "  return text.replace(\"[Editado pelo Reclame Aqui]\", \"[mask]\")\n",
        "\n",
        "df['description'] = df['description'].apply(remove_mask)"
      ],
      "metadata": {
        "id": "mSHPHLv0JdLR"
      },
      "execution_count": 19,
      "outputs": []
    },
    {
      "cell_type": "markdown",
      "source": [
        "### Analysis"
      ],
      "metadata": {
        "id": "RlSuXm0N-APD"
      }
    },
    {
      "cell_type": "code",
      "source": [
        "# Show each problem category\n",
        "df['problem'].value_counts()"
      ],
      "metadata": {
        "colab": {
          "base_uri": "https://localhost:8080/"
        },
        "id": "trUhFZEarsl5",
        "outputId": "cd3f8213-7fbe-4ab8-cf24-361b5846e74e"
      },
      "execution_count": 20,
      "outputs": [
        {
          "output_type": "execute_result",
          "data": {
            "text/plain": [
              "Cobrança indevida                          500\n",
              "Planos e tarifas                           500\n",
              "Cancelamento                               500\n",
              "Portabilidade                              500\n",
              "Corte indevido da linha                    500\n",
              "Mudança de plano                           500\n",
              "Mau atendimento do prestador de serviço    500\n",
              "Consumo de crédito                         500\n",
              "Problemas com o chip                       500\n",
              "Promoções                                  500\n",
              "Qualidade da internet                      500\n",
              "Problema com recarga                       500\n",
              "Demora na execução                         500\n",
              "Instabilidade do sinal                     500\n",
              "Name: problem, dtype: int64"
            ]
          },
          "metadata": {},
          "execution_count": 20
        }
      ]
    },
    {
      "cell_type": "code",
      "source": [
        "# Show statistics of words\n",
        "df['word_count'] = df['description'].str.split().str.len()\n",
        "df['text_len'] = df['description'].str.len()\n",
        "df['word_count'].describe()"
      ],
      "metadata": {
        "colab": {
          "base_uri": "https://localhost:8080/"
        },
        "id": "G0gvCGaxsuBp",
        "outputId": "01486cc1-e43a-4e4d-b7db-f0983b4ebd30"
      },
      "execution_count": 21,
      "outputs": [
        {
          "output_type": "execute_result",
          "data": {
            "text/plain": [
              "count    7000.000000\n",
              "mean      114.687857\n",
              "std        93.247534\n",
              "min         1.000000\n",
              "25%        54.000000\n",
              "50%        89.000000\n",
              "75%       146.000000\n",
              "max      1021.000000\n",
              "Name: word_count, dtype: float64"
            ]
          },
          "metadata": {},
          "execution_count": 21
        }
      ]
    },
    {
      "cell_type": "code",
      "source": [
        "# Check correlation between word count and text lenght\n",
        "sns.jointplot(data=df, x=\"text_len\", y=\"word_count\", height=5);"
      ],
      "metadata": {
        "colab": {
          "base_uri": "https://localhost:8080/",
          "height": 506
        },
        "id": "MkntXCdLAprF",
        "outputId": "db173a87-6e5e-4fbc-c306-a9a55ba64997"
      },
      "execution_count": 22,
      "outputs": [
        {
          "output_type": "display_data",
          "data": {
            "text/plain": [
              "<Figure size 500x500 with 3 Axes>"
            ],
            "image/png": "[encoded data removed]"
          },
          "metadata": {}
        }
      ]
    },
    {
      "cell_type": "code",
      "source": [
        "# Check word median per category\n",
        "df.groupby('problem')['word_count'].median()"
      ],
      "metadata": {
        "colab": {
          "base_uri": "https://localhost:8080/"
        },
        "id": "GoZe2yuG9B4u",
        "outputId": "375d5ddf-16a1-4c7d-b10d-3e94bb42b29a"
      },
      "execution_count": 23,
      "outputs": [
        {
          "output_type": "execute_result",
          "data": {
            "text/plain": [
              "problem\n",
              "Cancelamento                                95.0\n",
              "Cobrança indevida                          103.5\n",
              "Consumo de crédito                          86.0\n",
              "Corte indevido da linha                    100.0\n",
              "Demora na execução                          85.0\n",
              "Instabilidade do sinal                      74.5\n",
              "Mau atendimento do prestador de serviço     97.5\n",
              "Mudança de plano                           103.5\n",
              "Planos e tarifas                            99.0\n",
              "Portabilidade                              106.0\n",
              "Problema com recarga                        71.5\n",
              "Problemas com o chip                        93.0\n",
              "Promoções                                   66.0\n",
              "Qualidade da internet                       71.5\n",
              "Name: word_count, dtype: float64"
            ]
          },
          "metadata": {},
          "execution_count": 23
        }
      ]
    },
    {
      "cell_type": "markdown",
      "source": [
        "## Text Classification"
      ],
      "metadata": {
        "id": "0pWtuhOjN6UU"
      }
    },
    {
      "cell_type": "markdown",
      "source": [
        "### Loading Model"
      ],
      "metadata": {
        "id": "ezJirXNkaeVC"
      }
    },
    {
      "cell_type": "markdown",
      "source": [
        "There are several 7B models available as open source, such as Mistral, Falcon, Zephyr, and Openchat. In this study we will use Mistral, but other models can also be tested, just paying attention to adapting the instruction structure."
      ],
      "metadata": {
        "id": "5d_Rtp_pCVpv"
      }
    },
    {
      "cell_type": "code",
      "source": [
        "import time\n",
        "from datetime import timedelta\n",
        "from google.colab import files\n",
        "from IPython.display import clear_output"
      ],
      "metadata": {
        "id": "Bi0-tycumPr4"
      },
      "execution_count": 24,
      "outputs": []
    },
    {
      "cell_type": "code",
      "source": [
        "# Latest HF transformers version for Mistral-like models\n",
        "!pip install git+https://github.com/huggingface/transformers.git\n",
        "\n",
        "# GPTQ Dependencies\n",
        "!pip install optimum\n",
        "!pip3 install auto-gptq --extra-index-url https://huggingface.github.io/autogptq-index/whl/cu118/  # Use cu117 if on CUDA 11.7\n",
        "\n",
        "clear_output()"
      ],
      "metadata": {
        "id": "NLHr_hhG0DyG"
      },
      "execution_count": 25,
      "outputs": []
    },
    {
      "cell_type": "code",
      "source": [
        "from transformers import AutoModelForCausalLM, AutoTokenizer, pipeline"
      ],
      "metadata": {
        "id": "gJCc0MNL0D1A"
      },
      "execution_count": 26,
      "outputs": []
    },
    {
      "cell_type": "markdown",
      "source": [
        "We will use the pre-trained Mistral 7B model, quantized by the user TheBloke and available at https://huggingface.co/TheBloke/Mistral-7B-Instruct-v0.2-GPTQ.\n",
        "\n",
        "For more information on quantization, there is an excellent article written by Maxime Labonne:\n",
        "* https://towardsdatascience.com/introduction-to-weight-quantization-2494701b9c0c"
      ],
      "metadata": {
        "id": "LNrC6Je7DLJ_"
      }
    },
    {
      "cell_type": "code",
      "source": [
        "# Load LLM and Tokenizer\n",
        "model_id = \"TheBloke/Mistral-7B-Instruct-v0.2-GPTQ\"\n",
        "tokenizer = AutoTokenizer.from_pretrained(model_id, use_fast=True)\n",
        "\n",
        "model = AutoModelForCausalLM.from_pretrained(\n",
        "    model_id,\n",
        "    device_map=\"auto\",\n",
        "    trust_remote_code=False,\n",
        "    revision=\"main\"\n",
        ")\n",
        "clear_output()"
      ],
      "metadata": {
        "id": "4HxNvdf90D4I"
      },
      "execution_count": 134,
      "outputs": []
    },
    {
      "cell_type": "code",
      "source": [
        "# Create a pipeline\n",
        "generator = pipeline(model=model,\n",
        "                tokenizer=tokenizer,\n",
        "                task='text-generation',\n",
        "                max_new_tokens=50,\n",
        "                temperature=0.20,\n",
        "                do_sample=True\n",
        "                )\n",
        "clear_output()"
      ],
      "metadata": {
        "id": "aW5V7xEs3Vne"
      },
      "execution_count": 135,
      "outputs": []
    },
    {
      "cell_type": "markdown",
      "source": [
        "### Prompt Engineering"
      ],
      "metadata": {
        "id": "LE5bdD4xai9x"
      }
    },
    {
      "cell_type": "markdown",
      "source": [
        "Prompt Guide:\n",
        "* https://www.promptingguide.ai/models/mistral-7b"
      ],
      "metadata": {
        "id": "xAqjCsmUSkzH"
      }
    },
    {
      "cell_type": "code",
      "source": [
        "few_shot = \"\"\"\n",
        "<s>\n",
        "[INST]\n",
        "Reclamação: A cobertura é ruim. Minha fatura está incorreta!\n",
        "Classifique a reclamação acima.\n",
        "[/INST] sinal/conexão de rede; cobrança indevida\n",
        "[INST]\n",
        "Reclamação: Recebo muitas mensagens de propaganda. Não consigo falar com a atendente.\n",
        "Classifique a reclamação acima.\n",
        "[/INST] spam; atendimento ineficiente\n",
        "</s>\n",
        "\"\"\""
      ],
      "metadata": {
        "id": "qCAt9vT7q_zf"
      },
      "execution_count": 136,
      "outputs": []
    },
    {
      "cell_type": "code",
      "source": [
        "# This is the footprint of your prompt. This will be replicated in all prompts\n",
        "prompt_footprint = \"\"\"[INST]\n",
        "Reclamação: {user_complain}\n",
        "\n",
        "Classifique a reclamação baseado em uma ou mais categorias abaixo:\n",
        "sinal/conexão de rede; cobrança indevida; consumo saldo/crédito; plano/benefício; cancelar linha/plano; recuperar número/linha; chip/sim card; spam; portabilidade; recarga/pagamento; atendimento ineficiente\n",
        "\n",
        "Atenção use somente as categorias, não explique!\n",
        "[/INST]\"\"\""
      ],
      "metadata": {
        "id": "bZbLzNYlURgA"
      },
      "execution_count": 137,
      "outputs": []
    },
    {
      "cell_type": "code",
      "source": [
        "# Build the prompt\n",
        "prompt = few_shot + prompt_footprint\n",
        "print(prompt)"
      ],
      "metadata": {
        "id": "i9X2kR5-SnMz",
        "colab": {
          "base_uri": "https://localhost:8080/"
        },
        "outputId": "cd92cb8f-6ec9-45ad-b68e-3ce763a20805"
      },
      "execution_count": 138,
      "outputs": [
        {
          "output_type": "stream",
          "name": "stdout",
          "text": [
            "\n",
            "<s>\n",
            "[INST]\n",
            "Reclamação: A cobertura é ruim. Minha fatura está incorreta!\n",
            "Classifique a reclamação acima.\n",
            "[/INST] sinal/conexão de rede; cobrança indevida\n",
            "[INST]\n",
            "Reclamação: Recebo muitas mensagens de propaganda. Não consigo falar com a atendente.\n",
            "Classifique a reclamação acima.\n",
            "[/INST] spam; atendimento ineficiente\n",
            "</s>\n",
            "[INST]\n",
            "Reclamação: {user_complain}\n",
            "\n",
            "Classifique a reclamação baseado em uma ou mais categorias abaixo:\n",
            "sinal/conexão de rede; cobrança indevida; consumo saldo/crédito; plano/benefício; cancelar linha/plano; recuperar número/linha; chip/sim card; spam; portabilidade; recarga/pagamento; atendimento ineficiente\n",
            "\n",
            "Atenção use somente as categorias, não explique!\n",
            "[/INST]\n"
          ]
        }
      ]
    },
    {
      "cell_type": "code",
      "source": [
        "def llm_analysis(complain):\n",
        "  response = generator(prompt.format(user_complain=complain))\n",
        "  llm_classification = response[0]['generated_text'].split('[/INST]')[-1][1:].replace('.', '')\n",
        "\n",
        "  return llm_classification"
      ],
      "metadata": {
        "id": "rLWWtjhppGl0"
      },
      "execution_count": 139,
      "outputs": []
    },
    {
      "cell_type": "code",
      "source": [
        "# Example\n",
        "complain =\"\"\"\n",
        "A tempos recebo inúmeras ligações da Claro, para adquirir planos de telefonia pós pago. Atualmente utilizo o serviço pré pago da operadora, o que para mim já é viável e já atendi inúmeras vezes informando que não tenho interesse em fazer plano. Alguns dos números que iniciam em 03037 e outros que não adianta nem adicionar em spam, não têm hora e nem dia, é desagradável a quantidade de ligações e insistência da operadora. Fiz a mudança devido a finalização da operadora Oi e sobre os serviços sinal e etc não há o que reclamar, porém se nao houver jeito vou ter que mudar pra qualquer outra operadora que não me ligue o tempo todo.\n",
        "\"\"\".lower()\n",
        "\n",
        "llm_analysis(complain)"
      ],
      "metadata": {
        "id": "YZjd_eAWdFVS",
        "colab": {
          "base_uri": "https://localhost:8080/",
          "height": 36
        },
        "outputId": "254755a4-6b67-4dba-e465-1d271356b02b"
      },
      "execution_count": 140,
      "outputs": [
        {
          "output_type": "execute_result",
          "data": {
            "text/plain": [
              "'spam; atendimento ineficiente'"
            ],
            "application/vnd.google.colaboratory.intrinsic+json": {
              "type": "string"
            }
          },
          "metadata": {},
          "execution_count": 140
        }
      ]
    },
    {
      "cell_type": "code",
      "source": [],
      "metadata": {
        "id": "OJnXeWbfYsS-"
      },
      "execution_count": null,
      "outputs": []
    },
    {
      "cell_type": "markdown",
      "source": [
        "### Classification"
      ],
      "metadata": {
        "id": "09uTIRku-kRi"
      }
    },
    {
      "cell_type": "markdown",
      "source": [
        "**Note:** Depending on the amount of data, the classification process can take a few hours. Using the model described above and utilizing the free tier infrastructure of Colab, I noticed that Mistral takes about an hour to classify 2,000 cases.\n",
        "\n",
        "Colab tends to disconnect due to inactivity. To prevent this, open your browser's inspector, go to the console tab, paste the code below, and press enter.\n",
        "\n",
        "`function ClickConnect(){\n",
        "    console.log(\"Working\");\n",
        "    document.querySelector(\"colab-connect-button\").click()\n",
        "}\n",
        "setInterval(ClickConnect,60000)`"
      ],
      "metadata": {
        "id": "ZERNC0giOUZJ"
      }
    },
    {
      "cell_type": "code",
      "source": [
        "def iterate_over_interval(df, column, limit_char, start_row, end_row):\n",
        "  for index in range(start_row, end_row + 1):\n",
        "    complaint_content = str(df.loc[index, column]).lower()\n",
        "\n",
        "    # Limit text lengh\n",
        "    if len(complaint_content) > limit_char: complaint_content = complaint_content[:limit_char]+'\\n'\n",
        "\n",
        "    # Text analysis\n",
        "    analysis = llm_analysis(complaint_content)\n",
        "    df.at[index, 'llm_class'] = analysis\n",
        "\n",
        "  # Save final result\n",
        "  file_save = 'analise_reclamacao_' + str(start_row) + '_' + str(end_row) + '.xlsx'\n",
        "  df.to_excel(file_save, index=False)"
      ],
      "metadata": {
        "id": "Wr9kWm_8lU-j"
      },
      "execution_count": 44,
      "outputs": []
    },
    {
      "cell_type": "code",
      "source": [
        "start_time = time.time()\n",
        "\n",
        "iterate_over_interval(df=df, column=\"problem\",\n",
        "                      limit_char=2000,\n",
        "                      start_row=0, end_row=100)\n",
        "\n",
        "end_time = time.time()\n",
        "delta_time = str(timedelta(seconds=end_time - start_time))\n",
        "print(f\"Execution: {delta_time}\")"
      ],
      "metadata": {
        "id": "LqfD3bzLl01G",
        "outputId": "03608d22-a6e8-48f1-e7b4-6b2939544812",
        "colab": {
          "base_uri": "https://localhost:8080/"
        }
      },
      "execution_count": 141,
      "outputs": [
        {
          "output_type": "stream",
          "name": "stdout",
          "text": [
            "Execution: 0:01:20.360061\n"
          ]
        }
      ]
    },
    {
      "cell_type": "markdown",
      "source": [
        "## Results"
      ],
      "metadata": {
        "id": "nhuJNcTl-sXZ"
      }
    },
    {
      "cell_type": "code",
      "source": [
        "df"
      ],
      "metadata": {
        "id": "Xi70Q3EDm77k",
        "colab": {
          "base_uri": "https://localhost:8080/",
          "height": 423
        },
        "outputId": "6e542d20-1a01-4e57-8851-b657933e4784"
      },
      "execution_count": 142,
      "outputs": [
        {
          "output_type": "execute_result",
          "data": {
            "text/plain": [
              "                     problem  \\\n",
              "0          Cobrança indevida   \n",
              "1          Cobrança indevida   \n",
              "2          Cobrança indevida   \n",
              "3          Cobrança indevida   \n",
              "4          Cobrança indevida   \n",
              "...                      ...   \n",
              "6995  Instabilidade do sinal   \n",
              "6996  Instabilidade do sinal   \n",
              "6997  Instabilidade do sinal   \n",
              "6998  Instabilidade do sinal   \n",
              "6999  Instabilidade do sinal   \n",
              "\n",
              "                                            description  word_count  text_len  \\\n",
              "0     recebi um e-mail spam com uma fatura no valor ...          19       105   \n",
              "1     compra não autoriza na meu cartão, chip de núm...           9        57   \n",
              "2     no dia 11 de outubro realizei uma recarga pelo...         158       958   \n",
              "3     segue o número de protocolo do atendimento rea...         221      1230   \n",
              "4     fiz hoje dia 12/10/2023 uma recarga de celular...         176       968   \n",
              "...                                                 ...         ...       ...   \n",
              "6995  boa noite ! informo que nos últimos 4meses ven...         131       801   \n",
              "6996  compramos o plano da claro a 7 meses para os n...          75       416   \n",
              "6997  eu consigo ligar para todos os outros números ...          53       297   \n",
              "6998  foi feito a portabilidade da operadora vivo, p...          95       539   \n",
              "6999  minha esposa teve o número bloqueado ontem, to...          77       444   \n",
              "\n",
              "              llm_class  \n",
              "0     cobrança indevida  \n",
              "1     cobrança indevida  \n",
              "2     cobrança indevida  \n",
              "3     cobrança indevida  \n",
              "4     cobrança indevida  \n",
              "...                 ...  \n",
              "6995                NaN  \n",
              "6996                NaN  \n",
              "6997                NaN  \n",
              "6998                NaN  \n",
              "6999                NaN  \n",
              "\n",
              "[7000 rows x 5 columns]"
            ],
            "text/html": [
              "\n",
              "  <div id=\"df-564965f8-253d-41a3-9ba0-7a0b8a629227\" class=\"colab-df-container\">\n",
              "    <div>\n",
              "<style scoped>\n",
              "    .dataframe tbody tr th:only-of-type {\n",
              "        vertical-align: middle;\n",
              "    }\n",
              "\n",
              "    .dataframe tbody tr th {\n",
              "        vertical-align: top;\n",
              "    }\n",
              "\n",
              "    .dataframe thead th {\n",
              "        text-align: right;\n",
              "    }\n",
              "</style>\n",
              "<table border=\"1\" class=\"dataframe\">\n",
              "  <thead>\n",
              "    <tr style=\"text-align: right;\">\n",
              "      <th></th>\n",
              "      <th>problem</th>\n",
              "      <th>description</th>\n",
              "      <th>word_count</th>\n",
              "      <th>text_len</th>\n",
              "      <th>llm_class</th>\n",
              "    </tr>\n",
              "  </thead>\n",
              "  <tbody>\n",
              "    <tr>\n",
              "      <th>0</th>\n",
              "      <td>Cobrança indevida</td>\n",
              "      <td>recebi um e-mail spam com uma fatura no valor ...</td>\n",
              "      <td>19</td>\n",
              "      <td>105</td>\n",
              "      <td>cobrança indevida</td>\n",
              "    </tr>\n",
              "    <tr>\n",
              "      <th>1</th>\n",
              "      <td>Cobrança indevida</td>\n",
              "      <td>compra não autoriza na meu cartão, chip de núm...</td>\n",
              "      <td>9</td>\n",
              "      <td>57</td>\n",
              "      <td>cobrança indevida</td>\n",
              "    </tr>\n",
              "    <tr>\n",
              "      <th>2</th>\n",
              "      <td>Cobrança indevida</td>\n",
              "      <td>no dia 11 de outubro realizei uma recarga pelo...</td>\n",
              "      <td>158</td>\n",
              "      <td>958</td>\n",
              "      <td>cobrança indevida</td>\n",
              "    </tr>\n",
              "    <tr>\n",
              "      <th>3</th>\n",
              "      <td>Cobrança indevida</td>\n",
              "      <td>segue o número de protocolo do atendimento rea...</td>\n",
              "      <td>221</td>\n",
              "      <td>1230</td>\n",
              "      <td>cobrança indevida</td>\n",
              "    </tr>\n",
              "    <tr>\n",
              "      <th>4</th>\n",
              "      <td>Cobrança indevida</td>\n",
              "      <td>fiz hoje dia 12/10/2023 uma recarga de celular...</td>\n",
              "      <td>176</td>\n",
              "      <td>968</td>\n",
              "      <td>cobrança indevida</td>\n",
              "    </tr>\n",
              "    <tr>\n",
              "      <th>...</th>\n",
              "      <td>...</td>\n",
              "      <td>...</td>\n",
              "      <td>...</td>\n",
              "      <td>...</td>\n",
              "      <td>...</td>\n",
              "    </tr>\n",
              "    <tr>\n",
              "      <th>6995</th>\n",
              "      <td>Instabilidade do sinal</td>\n",
              "      <td>boa noite ! informo que nos últimos 4meses ven...</td>\n",
              "      <td>131</td>\n",
              "      <td>801</td>\n",
              "      <td>NaN</td>\n",
              "    </tr>\n",
              "    <tr>\n",
              "      <th>6996</th>\n",
              "      <td>Instabilidade do sinal</td>\n",
              "      <td>compramos o plano da claro a 7 meses para os n...</td>\n",
              "      <td>75</td>\n",
              "      <td>416</td>\n",
              "      <td>NaN</td>\n",
              "    </tr>\n",
              "    <tr>\n",
              "      <th>6997</th>\n",
              "      <td>Instabilidade do sinal</td>\n",
              "      <td>eu consigo ligar para todos os outros números ...</td>\n",
              "      <td>53</td>\n",
              "      <td>297</td>\n",
              "      <td>NaN</td>\n",
              "    </tr>\n",
              "    <tr>\n",
              "      <th>6998</th>\n",
              "      <td>Instabilidade do sinal</td>\n",
              "      <td>foi feito a portabilidade da operadora vivo, p...</td>\n",
              "      <td>95</td>\n",
              "      <td>539</td>\n",
              "      <td>NaN</td>\n",
              "    </tr>\n",
              "    <tr>\n",
              "      <th>6999</th>\n",
              "      <td>Instabilidade do sinal</td>\n",
              "      <td>minha esposa teve o número bloqueado ontem, to...</td>\n",
              "      <td>77</td>\n",
              "      <td>444</td>\n",
              "      <td>NaN</td>\n",
              "    </tr>\n",
              "  </tbody>\n",
              "</table>\n",
              "<p>7000 rows × 5 columns</p>\n",
              "</div>\n",
              "    <div class=\"colab-df-buttons\">\n",
              "\n",
              "  <div class=\"colab-df-container\">\n",
              "    <button class=\"colab-df-convert\" onclick=\"convertToInteractive('df-564965f8-253d-41a3-9ba0-7a0b8a629227')\"\n",
              "            title=\"Convert this dataframe to an interactive table.\"\n",
              "            style=\"display:none;\">\n",
              "\n",
              "  <svg xmlns=\"http://www.w3.org/2000/svg\" height=\"24px\" viewBox=\"0 -960 960 960\">\n",
              "    <path d=\"M120-120v-720h720v720H120Zm60-500h600v-160H180v160Zm220 220h160v-160H400v160Zm0 220h160v-160H400v160ZM180-400h160v-160H180v160Zm440 0h160v-160H620v160ZM180-180h160v-160H180v160Zm440 0h160v-160H620v160Z\"/>\n",
              "  </svg>\n",
              "    </button>\n",
              "\n",
              "  <style>\n",
              "    .colab-df-container {\n",
              "      display:flex;\n",
              "      gap: 12px;\n",
              "    }\n",
              "\n",
              "    .colab-df-convert {\n",
              "      background-color: #E8F0FE;\n",
              "      border: none;\n",
              "      border-radius: 50%;\n",
              "      cursor: pointer;\n",
              "      display: none;\n",
              "      fill: #1967D2;\n",
              "      height: 32px;\n",
              "      padding: 0 0 0 0;\n",
              "      width: 32px;\n",
              "    }\n",
              "\n",
              "    .colab-df-convert:hover {\n",
              "      background-color: #E2EBFA;\n",
              "      box-shadow: 0px 1px 2px rgba(60, 64, 67, 0.3), 0px 1px 3px 1px rgba(60, 64, 67, 0.15);\n",
              "      fill: #174EA6;\n",
              "    }\n",
              "\n",
              "    .colab-df-buttons div {\n",
              "      margin-bottom: 4px;\n",
              "    }\n",
              "\n",
              "    [theme=dark] .colab-df-convert {\n",
              "      background-color: #3B4455;\n",
              "      fill: #D2E3FC;\n",
              "    }\n",
              "\n",
              "    [theme=dark] .colab-df-convert:hover {\n",
              "      background-color: #434B5C;\n",
              "      box-shadow: 0px 1px 3px 1px rgba(0, 0, 0, 0.15);\n",
              "      filter: drop-shadow(0px 1px 2px rgba(0, 0, 0, 0.3));\n",
              "      fill: #FFFFFF;\n",
              "    }\n",
              "  </style>\n",
              "\n",
              "    <script>\n",
              "      const buttonEl =\n",
              "        document.querySelector('#df-564965f8-253d-41a3-9ba0-7a0b8a629227 button.colab-df-convert');\n",
              "      buttonEl.style.display =\n",
              "        google.colab.kernel.accessAllowed ? 'block' : 'none';\n",
              "\n",
              "      async function convertToInteractive(key) {\n",
              "        const element = document.querySelector('#df-564965f8-253d-41a3-9ba0-7a0b8a629227');\n",
              "        const dataTable =\n",
              "          await google.colab.kernel.invokeFunction('convertToInteractive',\n",
              "                                                    [key], {});\n",
              "        if (!dataTable) return;\n",
              "\n",
              "        const docLinkHtml = 'Like what you see? Visit the ' +\n",
              "          '<a target=\"_blank\" href=https://colab.research.google.com/notebooks/data_table.ipynb>data table notebook</a>'\n",
              "          + ' to learn more about interactive tables.';\n",
              "        element.innerHTML = '';\n",
              "        dataTable['output_type'] = 'display_data';\n",
              "        await google.colab.output.renderOutput(dataTable, element);\n",
              "        const docLink = document.createElement('div');\n",
              "        docLink.innerHTML = docLinkHtml;\n",
              "        element.appendChild(docLink);\n",
              "      }\n",
              "    </script>\n",
              "  </div>\n",
              "\n",
              "\n",
              "<div id=\"df-3567bd02-3db1-4105-9539-fba437709853\">\n",
              "  <button class=\"colab-df-quickchart\" onclick=\"quickchart('df-3567bd02-3db1-4105-9539-fba437709853')\"\n",
              "            title=\"Suggest charts\"\n",
              "            style=\"display:none;\">\n",
              "\n",
              "<svg xmlns=\"http://www.w3.org/2000/svg\" height=\"24px\"viewBox=\"0 0 24 24\"\n",
              "     width=\"24px\">\n",
              "    <g>\n",
              "        <path d=\"M19 3H5c-1.1 0-2 .9-2 2v14c0 1.1.9 2 2 2h14c1.1 0 2-.9 2-2V5c0-1.1-.9-2-2-2zM9 17H7v-7h2v7zm4 0h-2V7h2v10zm4 0h-2v-4h2v4z\"/>\n",
              "    </g>\n",
              "</svg>\n",
              "  </button>\n",
              "\n",
              "<style>\n",
              "  .colab-df-quickchart {\n",
              "      --bg-color: #E8F0FE;\n",
              "      --fill-color: #1967D2;\n",
              "      --hover-bg-color: #E2EBFA;\n",
              "      --hover-fill-color: #174EA6;\n",
              "      --disabled-fill-color: #AAA;\n",
              "      --disabled-bg-color: #DDD;\n",
              "  }\n",
              "\n",
              "  [theme=dark] .colab-df-quickchart {\n",
              "      --bg-color: #3B4455;\n",
              "      --fill-color: #D2E3FC;\n",
              "      --hover-bg-color: #434B5C;\n",
              "      --hover-fill-color: #FFFFFF;\n",
              "      --disabled-bg-color: #3B4455;\n",
              "      --disabled-fill-color: #666;\n",
              "  }\n",
              "\n",
              "  .colab-df-quickchart {\n",
              "    background-color: var(--bg-color);\n",
              "    border: none;\n",
              "    border-radius: 50%;\n",
              "    cursor: pointer;\n",
              "    display: none;\n",
              "    fill: var(--fill-color);\n",
              "    height: 32px;\n",
              "    padding: 0;\n",
              "    width: 32px;\n",
              "  }\n",
              "\n",
              "  .colab-df-quickchart:hover {\n",
              "    background-color: var(--hover-bg-color);\n",
              "    box-shadow: 0 1px 2px rgba(60, 64, 67, 0.3), 0 1px 3px 1px rgba(60, 64, 67, 0.15);\n",
              "    fill: var(--button-hover-fill-color);\n",
              "  }\n",
              "\n",
              "  .colab-df-quickchart-complete:disabled,\n",
              "  .colab-df-quickchart-complete:disabled:hover {\n",
              "    background-color: var(--disabled-bg-color);\n",
              "    fill: var(--disabled-fill-color);\n",
              "    box-shadow: none;\n",
              "  }\n",
              "\n",
              "  .colab-df-spinner {\n",
              "    border: 2px solid var(--fill-color);\n",
              "    border-color: transparent;\n",
              "    border-bottom-color: var(--fill-color);\n",
              "    animation:\n",
              "      spin 1s steps(1) infinite;\n",
              "  }\n",
              "\n",
              "  @keyframes spin {\n",
              "    0% {\n",
              "      border-color: transparent;\n",
              "      border-bottom-color: var(--fill-color);\n",
              "      border-left-color: var(--fill-color);\n",
              "    }\n",
              "    20% {\n",
              "      border-color: transparent;\n",
              "      border-left-color: var(--fill-color);\n",
              "      border-top-color: var(--fill-color);\n",
              "    }\n",
              "    30% {\n",
              "      border-color: transparent;\n",
              "      border-left-color: var(--fill-color);\n",
              "      border-top-color: var(--fill-color);\n",
              "      border-right-color: var(--fill-color);\n",
              "    }\n",
              "    40% {\n",
              "      border-color: transparent;\n",
              "      border-right-color: var(--fill-color);\n",
              "      border-top-color: var(--fill-color);\n",
              "    }\n",
              "    60% {\n",
              "      border-color: transparent;\n",
              "      border-right-color: var(--fill-color);\n",
              "    }\n",
              "    80% {\n",
              "      border-color: transparent;\n",
              "      border-right-color: var(--fill-color);\n",
              "      border-bottom-color: var(--fill-color);\n",
              "    }\n",
              "    90% {\n",
              "      border-color: transparent;\n",
              "      border-bottom-color: var(--fill-color);\n",
              "    }\n",
              "  }\n",
              "</style>\n",
              "\n",
              "  <script>\n",
              "    async function quickchart(key) {\n",
              "      const quickchartButtonEl =\n",
              "        document.querySelector('#' + key + ' button');\n",
              "      quickchartButtonEl.disabled = true;  // To prevent multiple clicks.\n",
              "      quickchartButtonEl.classList.add('colab-df-spinner');\n",
              "      try {\n",
              "        const charts = await google.colab.kernel.invokeFunction(\n",
              "            'suggestCharts', [key], {});\n",
              "      } catch (error) {\n",
              "        console.error('Error during call to suggestCharts:', error);\n",
              "      }\n",
              "      quickchartButtonEl.classList.remove('colab-df-spinner');\n",
              "      quickchartButtonEl.classList.add('colab-df-quickchart-complete');\n",
              "    }\n",
              "    (() => {\n",
              "      let quickchartButtonEl =\n",
              "        document.querySelector('#df-3567bd02-3db1-4105-9539-fba437709853 button');\n",
              "      quickchartButtonEl.style.display =\n",
              "        google.colab.kernel.accessAllowed ? 'block' : 'none';\n",
              "    })();\n",
              "  </script>\n",
              "</div>\n",
              "\n",
              "  <div id=\"id_e15ed3e5-8ab8-412a-b2db-a7b69182f03c\">\n",
              "    <style>\n",
              "      .colab-df-generate {\n",
              "        background-color: #E8F0FE;\n",
              "        border: none;\n",
              "        border-radius: 50%;\n",
              "        cursor: pointer;\n",
              "        display: none;\n",
              "        fill: #1967D2;\n",
              "        height: 32px;\n",
              "        padding: 0 0 0 0;\n",
              "        width: 32px;\n",
              "      }\n",
              "\n",
              "      .colab-df-generate:hover {\n",
              "        background-color: #E2EBFA;\n",
              "        box-shadow: 0px 1px 2px rgba(60, 64, 67, 0.3), 0px 1px 3px 1px rgba(60, 64, 67, 0.15);\n",
              "        fill: #174EA6;\n",
              "      }\n",
              "\n",
              "      [theme=dark] .colab-df-generate {\n",
              "        background-color: #3B4455;\n",
              "        fill: #D2E3FC;\n",
              "      }\n",
              "\n",
              "      [theme=dark] .colab-df-generate:hover {\n",
              "        background-color: #434B5C;\n",
              "        box-shadow: 0px 1px 3px 1px rgba(0, 0, 0, 0.15);\n",
              "        filter: drop-shadow(0px 1px 2px rgba(0, 0, 0, 0.3));\n",
              "        fill: #FFFFFF;\n",
              "      }\n",
              "    </style>\n",
              "    <button class=\"colab-df-generate\" onclick=\"generateWithVariable('df')\"\n",
              "            title=\"Generate code using this dataframe.\"\n",
              "            style=\"display:none;\">\n",
              "\n",
              "  <svg xmlns=\"http://www.w3.org/2000/svg\" height=\"24px\"viewBox=\"0 0 24 24\"\n",
              "       width=\"24px\">\n",
              "    <path d=\"M7,19H8.4L18.45,9,17,7.55,7,17.6ZM5,21V16.75L18.45,3.32a2,2,0,0,1,2.83,0l1.4,1.43a1.91,1.91,0,0,1,.58,1.4,1.91,1.91,0,0,1-.58,1.4L9.25,21ZM18.45,9,17,7.55Zm-12,3A5.31,5.31,0,0,0,4.9,8.1,5.31,5.31,0,0,0,1,6.5,5.31,5.31,0,0,0,4.9,4.9,5.31,5.31,0,0,0,6.5,1,5.31,5.31,0,0,0,8.1,4.9,5.31,5.31,0,0,0,12,6.5,5.46,5.46,0,0,0,6.5,12Z\"/>\n",
              "  </svg>\n",
              "    </button>\n",
              "    <script>\n",
              "      (() => {\n",
              "      const buttonEl =\n",
              "        document.querySelector('#id_e15ed3e5-8ab8-412a-b2db-a7b69182f03c button.colab-df-generate');\n",
              "      buttonEl.style.display =\n",
              "        google.colab.kernel.accessAllowed ? 'block' : 'none';\n",
              "\n",
              "      buttonEl.onclick = () => {\n",
              "        google.colab.notebook.generateWithVariable('df');\n",
              "      }\n",
              "      })();\n",
              "    </script>\n",
              "  </div>\n",
              "\n",
              "    </div>\n",
              "  </div>\n"
            ]
          },
          "metadata": {},
          "execution_count": 142
        }
      ]
    },
    {
      "cell_type": "markdown",
      "source": [
        "---"
      ],
      "metadata": {
        "id": "fUKGKT7JoNDS"
      }
    }
  ],
  "metadata": {
    "language_info": {
      "name": "python"
    },
    "orig_nbformat": 4,
    "colab": {
      "provenance": [],
      "gpuType": "T4",
      "include_colab_link": true
    },
    "kernelspec": {
      "name": "python3",
      "display_name": "Python 3"
    },
    "accelerator": "GPU"
  },
  "nbformat": 4,
  "nbformat_minor": 0
}