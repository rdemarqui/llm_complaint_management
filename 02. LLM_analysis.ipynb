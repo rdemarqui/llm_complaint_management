{
  "cells": [
    {
      "cell_type": "markdown",
      "metadata": {
        "id": "view-in-github",
        "colab_type": "text"
      },
      "source": [
        "<a href=\"https://colab.research.google.com/github/rdemarqui/llm_complaint_management/blob/main/02.%20LLM_analysis.ipynb\" target=\"_parent\"><img src=\"https://colab.research.google.com/assets/colab-badge.svg\" alt=\"Open In Colab\"/></a>"
      ]
    },
    {
      "cell_type": "markdown",
      "source": [
        "# Tagging Customer Feedback with LLM"
      ],
      "metadata": {
        "id": "JdXiJzMm7ewB"
      }
    },
    {
      "cell_type": "markdown",
      "source": [
        "This study aims to explore the advanced LLM tool Mistral 7B to analyze a vast collection of complaints gathered from the website [reclameaqui.com.br](reclameaqui.com.br). Through this analysis, we intend to demonstrate the potential and effectiveness of LLMs in interpreting and handling large-scale user feedback.\n",
        "\n",
        "For more information, please visit github page: https://github.com/rdemarqui/llm_complaint_management"
      ],
      "metadata": {
        "id": "1Ex4zf24D1-m"
      }
    },
    {
      "cell_type": "markdown",
      "source": [
        "## Complaint Dataset"
      ],
      "metadata": {
        "id": "e_s1QiOU98Rc"
      }
    },
    {
      "cell_type": "markdown",
      "source": [
        "### Load"
      ],
      "metadata": {
        "id": "kZWO80q3-PsC"
      }
    },
    {
      "cell_type": "code",
      "source": [
        "import pandas as pd\n",
        "import numpy as np\n",
        "from sklearn.model_selection import train_test_split\n",
        "import matplotlib.pyplot as plt\n",
        "import seaborn as sns\n",
        "import warnings\n",
        "warnings.filterwarnings(\"ignore\", category=UserWarning)\n",
        "\n",
        "sns.set_theme()"
      ],
      "metadata": {
        "id": "tSvJsvLbHoQp"
      },
      "execution_count": 1,
      "outputs": []
    },
    {
      "cell_type": "code",
      "source": [
        "# Loading data\n",
        "data_url = 'https://raw.githubusercontent.com/rdemarqui/llm_complaint_management/main/datasets/full_dataset_claro.xlsx'\n",
        "data = pd.read_excel(data_url, usecols=['problem', 'description'])\n",
        "print(data.shape)"
      ],
      "metadata": {
        "id": "cduSRhNh4VB5",
        "colab": {
          "base_uri": "https://localhost:8080/"
        },
        "outputId": "b354f810-ba72-4523-c0e0-f2035309b562"
      },
      "execution_count": 2,
      "outputs": [
        {
          "output_type": "stream",
          "name": "stdout",
          "text": [
            "(7000, 2)\n"
          ]
        }
      ]
    },
    {
      "cell_type": "markdown",
      "source": [
        "### Clean"
      ],
      "metadata": {
        "id": "pAx7QfsGBLfN"
      }
    },
    {
      "cell_type": "code",
      "source": [
        "# Remove extra space and uncase all words\n",
        "data['description'] = data['description'].astype(str)\n",
        "data['description'] = data['description'].str.replace(r'\\s{2,}', ' ', regex=True)\n",
        "data['description'] = data['description'].str.lower()"
      ],
      "metadata": {
        "id": "UmvxMuJuBOy7"
      },
      "execution_count": 3,
      "outputs": []
    },
    {
      "cell_type": "code",
      "source": [
        "# Modify mask made by reclame aqui\n",
        "def remove_mask(text):\n",
        "  return text.replace(\"[editado pelo reclame aqui]\", \"[mask]\")\n",
        "\n",
        "data['description'] = data['description'].apply(remove_mask)"
      ],
      "metadata": {
        "id": "mSHPHLv0JdLR"
      },
      "execution_count": 4,
      "outputs": []
    },
    {
      "cell_type": "code",
      "source": [
        "# Remove description less than 3 characters\n",
        "data = data[data['description'].str.len() > 3].copy()"
      ],
      "metadata": {
        "id": "n9DYRkEGdB5L"
      },
      "execution_count": 5,
      "outputs": []
    },
    {
      "cell_type": "markdown",
      "source": [
        "### Stratify"
      ],
      "metadata": {
        "id": "m7LKh33Oe5eu"
      }
    },
    {
      "cell_type": "markdown",
      "source": [
        "As this work is intended for study purposes, we will only work with a fraction of the data. With the infrastructure provided by the Colab free tier, we noticed that on average, Mistral 7B analyzes about 2.000 complaints per hour. Therefore, we will use this number of cases in our analysis. To do this, we will perform a stratified sample.\n",
        "\n",
        "We also will use validation data with 202 examples to test some prompt engineering."
      ],
      "metadata": {
        "id": "qPR19OFje_TM"
      }
    },
    {
      "cell_type": "code",
      "source": [
        "# Get stratified data\n",
        "df, data_val = train_test_split(data, train_size=2002, stratify=data['problem'], random_state=42)\n",
        "df_val, _  = train_test_split(data_val, train_size=202, stratify=data_val['problem'], random_state=42)\n",
        "df.reset_index(inplace=True, drop=True)\n",
        "df_val.reset_index(inplace=True, drop=True)\n",
        "print(f\"Validation data: {df_val.shape} \\nTest data: {df.shape}\")"
      ],
      "metadata": {
        "id": "KMLxpZ5hl4tu",
        "colab": {
          "base_uri": "https://localhost:8080/"
        },
        "outputId": "43f0f568-e45d-492a-d6d6-41c6c76166a4"
      },
      "execution_count": 6,
      "outputs": [
        {
          "output_type": "stream",
          "name": "stdout",
          "text": [
            "Validation data: (202, 2) \n",
            "Test data: (2002, 2)\n"
          ]
        }
      ]
    },
    {
      "cell_type": "code",
      "source": [
        "# Export dataset to tag mannualy\n",
        "df_val.to_excel('df_validation.xlsx', index=False)"
      ],
      "metadata": {
        "id": "E8CIQ22yqstY"
      },
      "execution_count": 7,
      "outputs": []
    },
    {
      "cell_type": "code",
      "source": [
        "# Comparing word distributions\n",
        "data['word_count'] = data['description'].str.split().str.len()\n",
        "df['word_count'] = df['description'].str.split().str.len()\n",
        "df_val['word_count'] = df_val['description'].str.split().str.len()\n",
        "\n",
        "fig, ax = plt.subplots(figsize=(8, 4))\n",
        "sns.kdeplot(data=data['word_count'], label='Full dataset 7000 samples', fill=True, ax=ax)\n",
        "sns.kdeplot(data=df_val['word_count'], label='Validation dataset 202 samples', fill=True, ax=ax)\n",
        "sns.kdeplot(data=df['word_count'], label='Test dataset 2002 samples', fill=True, ax=ax)\n",
        "ax.legend()\n",
        "plt.title('Words Quantity Comparison in Stratified Datasets')\n",
        "plt.tight_layout()\n",
        "plt.show()"
      ],
      "metadata": {
        "id": "uuoynKmm5AcB",
        "colab": {
          "base_uri": "https://localhost:8080/",
          "height": 401
        },
        "outputId": "6ae8c13f-704a-4e1f-8ad1-1f88fda4607a"
      },
      "execution_count": 8,
      "outputs": [
        {
          "output_type": "display_data",
          "data": {
            "text/plain": [
              "<Figure size 800x400 with 1 Axes>"
            ],
            "image/png": "[encoded data removed]"
          },
          "metadata": {}
        }
      ]
    },
    {
      "cell_type": "markdown",
      "source": [
        "### Analysis"
      ],
      "metadata": {
        "id": "RlSuXm0N-APD"
      }
    },
    {
      "cell_type": "code",
      "source": [
        "df.head()"
      ],
      "metadata": {
        "id": "kximFpZZpSed",
        "colab": {
          "base_uri": "https://localhost:8080/",
          "height": 206
        },
        "outputId": "0fcbbce7-c8f3-4cd6-fae8-253a72c40a19"
      },
      "execution_count": 9,
      "outputs": [
        {
          "output_type": "execute_result",
          "data": {
            "text/plain": [
              "                   problem                                        description  \\\n",
              "0     Problemas com o chip  boa noite!!!fiz uma portabilidade da vivo para...   \n",
              "1     Problemas com o chip  perdi meu celular e ao tentar solicitar um nov...   \n",
              "2  Corte indevido da linha  é a segunda reclamação que estou fazendo e a c...   \n",
              "3             Cancelamento  solicitei portabilidade da vivo para a claro p...   \n",
              "4     Problemas com o chip  contratei este prezao celular, paguei 20,00 re...   \n",
              "\n",
              "   word_count  \n",
              "0         203  \n",
              "1          66  \n",
              "2          32  \n",
              "3         136  \n",
              "4          13  "
            ],
            "text/html": [
              "\n",
              "  <div id=\"df-3057f279-c3dc-4171-928b-eff5b2ae2849\" class=\"colab-df-container\">\n",
              "    <div>\n",
              "<style scoped>\n",
              "    .dataframe tbody tr th:only-of-type {\n",
              "        vertical-align: middle;\n",
              "    }\n",
              "\n",
              "    .dataframe tbody tr th {\n",
              "        vertical-align: top;\n",
              "    }\n",
              "\n",
              "    .dataframe thead th {\n",
              "        text-align: right;\n",
              "    }\n",
              "</style>\n",
              "<table border=\"1\" class=\"dataframe\">\n",
              "  <thead>\n",
              "    <tr style=\"text-align: right;\">\n",
              "      <th></th>\n",
              "      <th>problem</th>\n",
              "      <th>description</th>\n",
              "      <th>word_count</th>\n",
              "    </tr>\n",
              "  </thead>\n",
              "  <tbody>\n",
              "    <tr>\n",
              "      <th>0</th>\n",
              "      <td>Problemas com o chip</td>\n",
              "      <td>boa noite!!!fiz uma portabilidade da vivo para...</td>\n",
              "      <td>203</td>\n",
              "    </tr>\n",
              "    <tr>\n",
              "      <th>1</th>\n",
              "      <td>Problemas com o chip</td>\n",
              "      <td>perdi meu celular e ao tentar solicitar um nov...</td>\n",
              "      <td>66</td>\n",
              "    </tr>\n",
              "    <tr>\n",
              "      <th>2</th>\n",
              "      <td>Corte indevido da linha</td>\n",
              "      <td>é a segunda reclamação que estou fazendo e a c...</td>\n",
              "      <td>32</td>\n",
              "    </tr>\n",
              "    <tr>\n",
              "      <th>3</th>\n",
              "      <td>Cancelamento</td>\n",
              "      <td>solicitei portabilidade da vivo para a claro p...</td>\n",
              "      <td>136</td>\n",
              "    </tr>\n",
              "    <tr>\n",
              "      <th>4</th>\n",
              "      <td>Problemas com o chip</td>\n",
              "      <td>contratei este prezao celular, paguei 20,00 re...</td>\n",
              "      <td>13</td>\n",
              "    </tr>\n",
              "  </tbody>\n",
              "</table>\n",
              "</div>\n",
              "    <div class=\"colab-df-buttons\">\n",
              "\n",
              "  <div class=\"colab-df-container\">\n",
              "    <button class=\"colab-df-convert\" onclick=\"convertToInteractive('df-3057f279-c3dc-4171-928b-eff5b2ae2849')\"\n",
              "            title=\"Convert this dataframe to an interactive table.\"\n",
              "            style=\"display:none;\">\n",
              "\n",
              "  <svg xmlns=\"http://www.w3.org/2000/svg\" height=\"24px\" viewBox=\"0 -960 960 960\">\n",
              "    <path d=\"M120-120v-720h720v720H120Zm60-500h600v-160H180v160Zm220 220h160v-160H400v160Zm0 220h160v-160H400v160ZM180-400h160v-160H180v160Zm440 0h160v-160H620v160ZM180-180h160v-160H180v160Zm440 0h160v-160H620v160Z\"/>\n",
              "  </svg>\n",
              "    </button>\n",
              "\n",
              "  <style>\n",
              "    .colab-df-container {\n",
              "      display:flex;\n",
              "      gap: 12px;\n",
              "    }\n",
              "\n",
              "    .colab-df-convert {\n",
              "      background-color: #E8F0FE;\n",
              "      border: none;\n",
              "      border-radius: 50%;\n",
              "      cursor: pointer;\n",
              "      display: none;\n",
              "      fill: #1967D2;\n",
              "      height: 32px;\n",
              "      padding: 0 0 0 0;\n",
              "      width: 32px;\n",
              "    }\n",
              "\n",
              "    .colab-df-convert:hover {\n",
              "      background-color: #E2EBFA;\n",
              "      box-shadow: 0px 1px 2px rgba(60, 64, 67, 0.3), 0px 1px 3px 1px rgba(60, 64, 67, 0.15);\n",
              "      fill: #174EA6;\n",
              "    }\n",
              "\n",
              "    .colab-df-buttons div {\n",
              "      margin-bottom: 4px;\n",
              "    }\n",
              "\n",
              "    [theme=dark] .colab-df-convert {\n",
              "      background-color: #3B4455;\n",
              "      fill: #D2E3FC;\n",
              "    }\n",
              "\n",
              "    [theme=dark] .colab-df-convert:hover {\n",
              "      background-color: #434B5C;\n",
              "      box-shadow: 0px 1px 3px 1px rgba(0, 0, 0, 0.15);\n",
              "      filter: drop-shadow(0px 1px 2px rgba(0, 0, 0, 0.3));\n",
              "      fill: #FFFFFF;\n",
              "    }\n",
              "  </style>\n",
              "\n",
              "    <script>\n",
              "      const buttonEl =\n",
              "        document.querySelector('#df-3057f279-c3dc-4171-928b-eff5b2ae2849 button.colab-df-convert');\n",
              "      buttonEl.style.display =\n",
              "        google.colab.kernel.accessAllowed ? 'block' : 'none';\n",
              "\n",
              "      async function convertToInteractive(key) {\n",
              "        const element = document.querySelector('#df-3057f279-c3dc-4171-928b-eff5b2ae2849');\n",
              "        const dataTable =\n",
              "          await google.colab.kernel.invokeFunction('convertToInteractive',\n",
              "                                                    [key], {});\n",
              "        if (!dataTable) return;\n",
              "\n",
              "        const docLinkHtml = 'Like what you see? Visit the ' +\n",
              "          '<a target=\"_blank\" href=https://colab.research.google.com/notebooks/data_table.ipynb>data table notebook</a>'\n",
              "          + ' to learn more about interactive tables.';\n",
              "        element.innerHTML = '';\n",
              "        dataTable['output_type'] = 'display_data';\n",
              "        await google.colab.output.renderOutput(dataTable, element);\n",
              "        const docLink = document.createElement('div');\n",
              "        docLink.innerHTML = docLinkHtml;\n",
              "        element.appendChild(docLink);\n",
              "      }\n",
              "    </script>\n",
              "  </div>\n",
              "\n",
              "\n",
              "<div id=\"df-0a04ac87-1eb3-4fb5-80e0-6aa4d4163ae8\">\n",
              "  <button class=\"colab-df-quickchart\" onclick=\"quickchart('df-0a04ac87-1eb3-4fb5-80e0-6aa4d4163ae8')\"\n",
              "            title=\"Suggest charts\"\n",
              "            style=\"display:none;\">\n",
              "\n",
              "<svg xmlns=\"http://www.w3.org/2000/svg\" height=\"24px\"viewBox=\"0 0 24 24\"\n",
              "     width=\"24px\">\n",
              "    <g>\n",
              "        <path d=\"M19 3H5c-1.1 0-2 .9-2 2v14c0 1.1.9 2 2 2h14c1.1 0 2-.9 2-2V5c0-1.1-.9-2-2-2zM9 17H7v-7h2v7zm4 0h-2V7h2v10zm4 0h-2v-4h2v4z\"/>\n",
              "    </g>\n",
              "</svg>\n",
              "  </button>\n",
              "\n",
              "<style>\n",
              "  .colab-df-quickchart {\n",
              "      --bg-color: #E8F0FE;\n",
              "      --fill-color: #1967D2;\n",
              "      --hover-bg-color: #E2EBFA;\n",
              "      --hover-fill-color: #174EA6;\n",
              "      --disabled-fill-color: #AAA;\n",
              "      --disabled-bg-color: #DDD;\n",
              "  }\n",
              "\n",
              "  [theme=dark] .colab-df-quickchart {\n",
              "      --bg-color: #3B4455;\n",
              "      --fill-color: #D2E3FC;\n",
              "      --hover-bg-color: #434B5C;\n",
              "      --hover-fill-color: #FFFFFF;\n",
              "      --disabled-bg-color: #3B4455;\n",
              "      --disabled-fill-color: #666;\n",
              "  }\n",
              "\n",
              "  .colab-df-quickchart {\n",
              "    background-color: var(--bg-color);\n",
              "    border: none;\n",
              "    border-radius: 50%;\n",
              "    cursor: pointer;\n",
              "    display: none;\n",
              "    fill: var(--fill-color);\n",
              "    height: 32px;\n",
              "    padding: 0;\n",
              "    width: 32px;\n",
              "  }\n",
              "\n",
              "  .colab-df-quickchart:hover {\n",
              "    background-color: var(--hover-bg-color);\n",
              "    box-shadow: 0 1px 2px rgba(60, 64, 67, 0.3), 0 1px 3px 1px rgba(60, 64, 67, 0.15);\n",
              "    fill: var(--button-hover-fill-color);\n",
              "  }\n",
              "\n",
              "  .colab-df-quickchart-complete:disabled,\n",
              "  .colab-df-quickchart-complete:disabled:hover {\n",
              "    background-color: var(--disabled-bg-color);\n",
              "    fill: var(--disabled-fill-color);\n",
              "    box-shadow: none;\n",
              "  }\n",
              "\n",
              "  .colab-df-spinner {\n",
              "    border: 2px solid var(--fill-color);\n",
              "    border-color: transparent;\n",
              "    border-bottom-color: var(--fill-color);\n",
              "    animation:\n",
              "      spin 1s steps(1) infinite;\n",
              "  }\n",
              "\n",
              "  @keyframes spin {\n",
              "    0% {\n",
              "      border-color: transparent;\n",
              "      border-bottom-color: var(--fill-color);\n",
              "      border-left-color: var(--fill-color);\n",
              "    }\n",
              "    20% {\n",
              "      border-color: transparent;\n",
              "      border-left-color: var(--fill-color);\n",
              "      border-top-color: var(--fill-color);\n",
              "    }\n",
              "    30% {\n",
              "      border-color: transparent;\n",
              "      border-left-color: var(--fill-color);\n",
              "      border-top-color: var(--fill-color);\n",
              "      border-right-color: var(--fill-color);\n",
              "    }\n",
              "    40% {\n",
              "      border-color: transparent;\n",
              "      border-right-color: var(--fill-color);\n",
              "      border-top-color: var(--fill-color);\n",
              "    }\n",
              "    60% {\n",
              "      border-color: transparent;\n",
              "      border-right-color: var(--fill-color);\n",
              "    }\n",
              "    80% {\n",
              "      border-color: transparent;\n",
              "      border-right-color: var(--fill-color);\n",
              "      border-bottom-color: var(--fill-color);\n",
              "    }\n",
              "    90% {\n",
              "      border-color: transparent;\n",
              "      border-bottom-color: var(--fill-color);\n",
              "    }\n",
              "  }\n",
              "</style>\n",
              "\n",
              "  <script>\n",
              "    async function quickchart(key) {\n",
              "      const quickchartButtonEl =\n",
              "        document.querySelector('#' + key + ' button');\n",
              "      quickchartButtonEl.disabled = true;  // To prevent multiple clicks.\n",
              "      quickchartButtonEl.classList.add('colab-df-spinner');\n",
              "      try {\n",
              "        const charts = await google.colab.kernel.invokeFunction(\n",
              "            'suggestCharts', [key], {});\n",
              "      } catch (error) {\n",
              "        console.error('Error during call to suggestCharts:', error);\n",
              "      }\n",
              "      quickchartButtonEl.classList.remove('colab-df-spinner');\n",
              "      quickchartButtonEl.classList.add('colab-df-quickchart-complete');\n",
              "    }\n",
              "    (() => {\n",
              "      let quickchartButtonEl =\n",
              "        document.querySelector('#df-0a04ac87-1eb3-4fb5-80e0-6aa4d4163ae8 button');\n",
              "      quickchartButtonEl.style.display =\n",
              "        google.colab.kernel.accessAllowed ? 'block' : 'none';\n",
              "    })();\n",
              "  </script>\n",
              "</div>\n",
              "\n",
              "    </div>\n",
              "  </div>\n"
            ]
          },
          "metadata": {},
          "execution_count": 9
        }
      ]
    },
    {
      "cell_type": "code",
      "source": [
        "# Show each problem category\n",
        "df['problem'].value_counts()"
      ],
      "metadata": {
        "id": "trUhFZEarsl5",
        "colab": {
          "base_uri": "https://localhost:8080/"
        },
        "outputId": "db71faee-8bd5-46da-834a-2ba5faf8c13c"
      },
      "execution_count": 10,
      "outputs": [
        {
          "output_type": "execute_result",
          "data": {
            "text/plain": [
              "Problemas com o chip                       143\n",
              "Corte indevido da linha                    143\n",
              "Cancelamento                               143\n",
              "Problema com recarga                       143\n",
              "Planos e tarifas                           143\n",
              "Mudança de plano                           143\n",
              "Promoções                                  143\n",
              "Qualidade da internet                      143\n",
              "Consumo de crédito                         143\n",
              "Instabilidade do sinal                     143\n",
              "Demora na execução                         143\n",
              "Cobrança indevida                          143\n",
              "Portabilidade                              143\n",
              "Mau atendimento do prestador de serviço    143\n",
              "Name: problem, dtype: int64"
            ]
          },
          "metadata": {},
          "execution_count": 10
        }
      ]
    },
    {
      "cell_type": "code",
      "source": [
        "# Show words statistics\n",
        "df['word_count'] = df['description'].str.split().str.len()\n",
        "df['text_len'] = df['description'].str.len()\n",
        "df['word_count'].describe()"
      ],
      "metadata": {
        "id": "G0gvCGaxsuBp",
        "colab": {
          "base_uri": "https://localhost:8080/"
        },
        "outputId": "99eb4bac-fd3b-4077-ff8b-6f61f6186e1d"
      },
      "execution_count": 11,
      "outputs": [
        {
          "output_type": "execute_result",
          "data": {
            "text/plain": [
              "count    2002.000000\n",
              "mean      110.619381\n",
              "std        86.131142\n",
              "min         2.000000\n",
              "25%        53.000000\n",
              "50%        87.000000\n",
              "75%       143.000000\n",
              "max       747.000000\n",
              "Name: word_count, dtype: float64"
            ]
          },
          "metadata": {},
          "execution_count": 11
        }
      ]
    },
    {
      "cell_type": "code",
      "source": [
        "# Check correlation between word count and text lenght\n",
        "chart_joint = sns.jointplot(data=df, x=\"text_len\", y=\"word_count\", height=5)\n",
        "chart_joint.fig.suptitle(\"Correlation between word count and text lenght\")\n",
        "chart_joint.fig.tight_layout()\n",
        "chart_joint.fig.subplots_adjust(top=0.92)"
      ],
      "metadata": {
        "id": "KMrNKNN4vdjj",
        "colab": {
          "base_uri": "https://localhost:8080/",
          "height": 509
        },
        "outputId": "f8ff7648-722b-48a5-d270-511ea9d76172"
      },
      "execution_count": 12,
      "outputs": [
        {
          "output_type": "display_data",
          "data": {
            "text/plain": [
              "<Figure size 500x500 with 3 Axes>"
            ],
            "image/png": "[encoded data removed]"
          },
          "metadata": {}
        }
      ]
    },
    {
      "cell_type": "code",
      "source": [
        "# Check word median per category\n",
        "df.groupby('problem')['word_count'].median()"
      ],
      "metadata": {
        "id": "GoZe2yuG9B4u",
        "colab": {
          "base_uri": "https://localhost:8080/"
        },
        "outputId": "c6f46d9e-aea1-4239-fdec-aaeb07ba6238"
      },
      "execution_count": 13,
      "outputs": [
        {
          "output_type": "execute_result",
          "data": {
            "text/plain": [
              "problem\n",
              "Cancelamento                                95.0\n",
              "Cobrança indevida                          113.0\n",
              "Consumo de crédito                          83.0\n",
              "Corte indevido da linha                    106.0\n",
              "Demora na execução                          82.0\n",
              "Instabilidade do sinal                      67.0\n",
              "Mau atendimento do prestador de serviço     92.0\n",
              "Mudança de plano                           100.0\n",
              "Planos e tarifas                            98.0\n",
              "Portabilidade                               99.0\n",
              "Problema com recarga                        73.0\n",
              "Problemas com o chip                        90.0\n",
              "Promoções                                   63.0\n",
              "Qualidade da internet                       74.0\n",
              "Name: word_count, dtype: float64"
            ]
          },
          "metadata": {},
          "execution_count": 13
        }
      ]
    },
    {
      "cell_type": "markdown",
      "source": [
        "## Text Classification"
      ],
      "metadata": {
        "id": "0pWtuhOjN6UU"
      }
    },
    {
      "cell_type": "markdown",
      "source": [
        "### Loading Model"
      ],
      "metadata": {
        "id": "ezJirXNkaeVC"
      }
    },
    {
      "cell_type": "markdown",
      "source": [
        "There are several 7B models available as open source, such as Mistral, Falcon, Zephyr, and Openchat. In this study we will use Mistral, but other models can also be tested, just paying attention to adapting the instruction structure."
      ],
      "metadata": {
        "id": "5d_Rtp_pCVpv"
      }
    },
    {
      "cell_type": "code",
      "source": [
        "import time\n",
        "from datetime import timedelta, datetime\n",
        "from google.colab import files\n",
        "from IPython.display import clear_output"
      ],
      "metadata": {
        "id": "Bi0-tycumPr4"
      },
      "execution_count": null,
      "outputs": []
    },
    {
      "cell_type": "code",
      "source": [
        "# Latest HF transformers version for Mistral-like models\n",
        "!pip install git+https://github.com/huggingface/transformers.git\n",
        "\n",
        "# GPTQ Dependencies\n",
        "!pip install optimum\n",
        "!pip3 install auto-gptq --extra-index-url https://huggingface.github.io/autogptq-index/whl/cu118/  # Use cu117 if on CUDA 11.7\n",
        "\n",
        "clear_output()"
      ],
      "metadata": {
        "id": "NLHr_hhG0DyG"
      },
      "execution_count": null,
      "outputs": []
    },
    {
      "cell_type": "code",
      "source": [
        "from transformers import AutoModelForCausalLM, AutoTokenizer, pipeline"
      ],
      "metadata": {
        "id": "gJCc0MNL0D1A"
      },
      "execution_count": null,
      "outputs": []
    },
    {
      "cell_type": "markdown",
      "source": [
        "We will load the pre-trained Mistral 7B model, quantized by the user TheBloke and available at https://huggingface.co/TheBloke/Mistral-7B-Instruct-v0.2-GPTQ.\n",
        "\n",
        "For more information on quantization, there is an excellent article written by Maxime Labonne:\n",
        "* https://towardsdatascience.com/introduction-to-weight-quantization-2494701b9c0c"
      ],
      "metadata": {
        "id": "LNrC6Je7DLJ_"
      }
    },
    {
      "cell_type": "code",
      "source": [
        "# Load LLM and Tokenizer\n",
        "model_id = \"TheBloke/Mistral-7B-Instruct-v0.2-GPTQ\"\n",
        "tokenizer = AutoTokenizer.from_pretrained(model_id, use_fast=True)\n",
        "\n",
        "model = AutoModelForCausalLM.from_pretrained(\n",
        "    model_id,\n",
        "    device_map=\"auto\",\n",
        "    trust_remote_code=False,\n",
        "    revision=\"main\"\n",
        ")\n",
        "clear_output()"
      ],
      "metadata": {
        "id": "4HxNvdf90D4I"
      },
      "execution_count": null,
      "outputs": []
    },
    {
      "cell_type": "code",
      "source": [
        "# Create a pipeline\n",
        "generator = pipeline(model=model,\n",
        "                tokenizer=tokenizer,\n",
        "                task='text-generation',\n",
        "                max_new_tokens=60,\n",
        "                temperature=0.1,\n",
        "                do_sample=True,\n",
        "                return_full_text = False\n",
        "                )\n",
        "clear_output()"
      ],
      "metadata": {
        "id": "aW5V7xEs3Vne"
      },
      "execution_count": null,
      "outputs": []
    },
    {
      "cell_type": "markdown",
      "source": [
        "### Prompt Engineering"
      ],
      "metadata": {
        "id": "LE5bdD4xai9x"
      }
    },
    {
      "cell_type": "code",
      "source": [
        "def llm_analysis(prompt, complain):\n",
        "  response = generator(prompt.format(user_complain=complain))\n",
        "  llm_classification = response[0]['generated_text'].replace('.', '').lower()\n",
        "\n",
        "  return llm_classification"
      ],
      "metadata": {
        "id": "rLWWtjhppGl0"
      },
      "execution_count": null,
      "outputs": []
    },
    {
      "cell_type": "code",
      "source": [
        "def iterate_over_interval(df, column, prompt, limit_char, start_row, end_row, save):\n",
        "  start_time = time.time()\n",
        "\n",
        "  for nloop, index in enumerate(range(start_row, end_row)):\n",
        "    complaint_content = str(df.loc[index, column]).lower()\n",
        "\n",
        "    # Checkpoint\n",
        "    if (nloop + 1) % 100 == 0:\n",
        "      delta_time = str(timedelta(seconds=time.time() - start_time)).split('.')[0]\n",
        "      print(f\"{delta_time} Analysis number {nloop + 1}\")\n",
        "\n",
        "    # Limit text lengh\n",
        "    if len(complaint_content) > limit_char: complaint_content = complaint_content[:limit_char]+'\\n'\n",
        "\n",
        "    #print(prompt.format(user_complain=complaint_content))  # check prompt\n",
        "\n",
        "    # Text analysis\n",
        "    analysis = llm_analysis(prompt, complaint_content)\n",
        "    df.at[index, 'llm_class'] = analysis\n",
        "\n",
        "  # Save final result\n",
        "  delta_time = str(timedelta(seconds=time.time() - start_time)).split('.')[0]\n",
        "  print(f\"{nloop + 1} cases analyzed. Total execution time: {delta_time}\")\n",
        "\n",
        "  if save == True:\n",
        "    current_datetime = datetime.now().strftime(\"%Y%m%d_%H%M%S\")\n",
        "    file_name = 'analise_reclamacao_' + str(start_row) + '_' + str(end_row) + current_datetime + '.xlsx'\n",
        "    df.to_excel(file_name, index=False)\n",
        "\n",
        "  return df, file_name if save == True else df"
      ],
      "metadata": {
        "id": "Wr9kWm_8lU-j"
      },
      "execution_count": null,
      "outputs": []
    },
    {
      "cell_type": "markdown",
      "source": [
        "Prompt Guide:\n",
        "* https://www.promptingguide.ai/models/mistral-7b\n",
        "* https://huggingface.co/docs/transformers/main/tasks/prompting"
      ],
      "metadata": {
        "id": "xAqjCsmUSkzH"
      }
    },
    {
      "cell_type": "code",
      "source": [
        "# Define tags\n",
        "tags = ['sinal/conexão de rede', 'cobrança indevida', 'consumo saldo/crédito',\n",
        "        'plano/benefício', 'cancelamento linha/plano', 'chip/sim card', 'spam',\n",
        "        'portabilidade', 'recarga/pagamento', 'dificuldade de contato']\n",
        "\n",
        "# Transform tag list in one string\n",
        "tags_string = \", \".join(f\"{tag}\" for tag in tags)\n",
        "\n",
        "tags_string"
      ],
      "metadata": {
        "id": "9-WCnO807zU_",
        "colab": {
          "base_uri": "https://localhost:8080/",
          "height": 54
        },
        "outputId": "2cdbd3a4-d543-4763-de14-9630b5d7cbe4"
      },
      "execution_count": 21,
      "outputs": [
        {
          "output_type": "execute_result",
          "data": {
            "text/plain": [
              "'sinal/conexão de rede, cobrança indevida, consumo saldo/crédito, plano/benefício, cancelamento linha/plano, chip/sim card, spam, portabilidade, recarga/pagamento, dificuldade de contato'"
            ],
            "application/vnd.google.colaboratory.intrinsic+json": {
              "type": "string"
            }
          },
          "metadata": {},
          "execution_count": 21
        }
      ]
    },
    {
      "cell_type": "code",
      "source": [
        "# Multi-turn conversation\n",
        "\n",
        "# Conversation 1 with 1 example\n",
        "conv1_1e = \"\"\"[INST]\n",
        "Reclamação: A cobertura é ruim!\n",
        "Tarefa: Classifique a reclamação.\n",
        "\n",
        "Rótulos:[/INST] sinal/conexão de rede\n",
        "\"\"\"\n",
        "\n",
        "# Conversation 1 with 2 examples\n",
        "conv1_2e = \"\"\"[INST]\n",
        "Reclamação: A cobertura é ruim! Meu chip não funciona!\n",
        "Tarefa: Classifique a reclamação.\n",
        "\n",
        "Rótulos:[/INST] sinal/conexão de rede, chip/sim card\n",
        "\"\"\"\n",
        "\n",
        "# Conversation 2 with 1 example\n",
        "conv2_1e = \"\"\"[INST]\n",
        "Reclamação: Recebo muitas mensagens de propaganda.\n",
        "Tarefa: Classifique a reclamação.\n",
        "\n",
        "Rótulos:[/INST] spam\n",
        "\"\"\"\n",
        "\n",
        "# Conversation 2 with 2 examples\n",
        "conv2_2e = \"\"\"[INST]\n",
        "Reclamação: Recebo muitas mensagens de propaganda. Meu saldo acaba rápido.\n",
        "Tarefa: Classifique a reclamação.\n",
        "\n",
        "Rótulos:[/INST] spam, consumo saldo/crédito\n",
        "\"\"\""
      ],
      "metadata": {
        "id": "w8HkBsK6gW58"
      },
      "execution_count": null,
      "outputs": []
    },
    {
      "cell_type": "code",
      "source": [
        "complain_template = \"\"\"\n",
        "Reclamação: {user_complain}\"\"\"\n",
        "\n",
        "task_template = \"\"\"\n",
        "Tarefa: Classifique a reclamação. Atenção use apenas as categorias abaixo, sem explicar.\n",
        "{tags}\"\"\".format(tags=tags_string)"
      ],
      "metadata": {
        "id": "6wQGSoxCDQl1"
      },
      "execution_count": null,
      "outputs": []
    },
    {
      "cell_type": "code",
      "source": [
        "# Prompt user complain without system prompt (role)\n",
        "prompt_task_after = '[INST]' + complain_template + '\\n' + task_template + '\\n\\nRótulos:[/INST]'\n",
        "prompt_task_before = '[INST]' + task_template + '\\n' + complain_template + '\\n\\nRótulos:[/INST]'"
      ],
      "metadata": {
        "id": "nV9GLEVP8md_"
      },
      "execution_count": null,
      "outputs": []
    },
    {
      "cell_type": "code",
      "source": [
        "# Prompt zero shot\n",
        "p_tsk_aft_0s = prompt_task_after  #To do: Inserir contexto e persona: Você é um analista de telecomunicações especilizado em rotular/etiquetar reclamações\n",
        "p_tsk_bfr_0s = prompt_task_before\n",
        "\n",
        "# Prompt multi-turn conversation, task after complain\n",
        "p_tsk_aft_1s_1t = '<s>' + conv1_1e + '</s>\\n' + prompt_task_after # To do: Alterar o primeiro exemplo com o mesmo texto padrão da prompt_task\n",
        "p_tsk_aft_2s_1_2t = '<s>' + conv1_1e + conv2_2e + '</s>\\n' + prompt_task_after #To do: Inserir <s> entre as sentenças pra ver se melhora\n",
        "p_tsk_aft_1s_2t = '<s>' + conv1_2e + '</s>\\n' + prompt_task_after\n",
        "p_tsk_aft_2s_2t = '<s>' + conv1_2e + conv2_2e + '</s>\\n' + prompt_task_after\n",
        "\n",
        "# Prompt multi-turn conversation, task before complain\n",
        "p_tsk_bfr_1s_1t = '<s>' + conv1_1e + '</s>\\n' + prompt_task_before\n",
        "p_tsk_bfr_2s_1_2t = '<s>' + conv1_1e + conv2_2e + '</s>\\n' + prompt_task_before\n",
        "p_tsk_bfr_1s_2t = '<s>' + conv1_2e + '</s>\\n' + prompt_task_before\n",
        "p_tsk_bfr_2s_2t = '<s>' + conv1_2e + conv2_2e + '</s>\\n' + prompt_task_before\n",
        "\n",
        "prompt_dict = {'p_tsk_aft_0s': p_tsk_aft_0s, 'p_tsk_bfr_0s': p_tsk_bfr_0s,\n",
        "               'p_tsk_aft_1s_1t': p_tsk_aft_1s_1t, 'p_tsk_aft_2s_1_2t': p_tsk_aft_2s_1_2t,\n",
        "               'p_tsk_aft_1s_2t': p_tsk_aft_1s_2t, 'p_tsk_aft_2s_2t': p_tsk_aft_2s_2t,\n",
        "               'p_tsk_bfr_1s_1t': p_tsk_bfr_1s_1t, 'p_tsk_bfr_2s_1_2t': p_tsk_bfr_2s_1_2t,\n",
        "               'p_tsk_bfr_1s_2t': p_tsk_bfr_1s_2t, 'p_tsk_bfr_2s_2t': p_tsk_bfr_2s_2t}"
      ],
      "metadata": {
        "id": "xSVo4EWqgzL-"
      },
      "execution_count": null,
      "outputs": []
    },
    {
      "cell_type": "code",
      "source": [
        "# Print each prompt (check)\n",
        "#for prompt in prompt_dict:\n",
        "  print('\\n', prompt, 10*'-')\n",
        "  print(prompt_dict[prompt])"
      ],
      "metadata": {
        "id": "cUgpc_mdl0Cr"
      },
      "execution_count": null,
      "outputs": []
    },
    {
      "cell_type": "markdown",
      "source": [
        "We're gonna try many prompt examples, as described int table below:\n",
        "\n",
        "|Prompt name|Task|Shot|Tag|\n",
        "|--|--|--|--|\n",
        "|p_tsk_aft_0s|After complaint|zero|-|\n",
        "|p_tsk_bfr_0s|Before complaint|zero|-|\n",
        "|p_tsk_aft_1s_1t|After complaint|one|1|\n",
        "|p_tsk_aft_2s_1_2t|After complaint|two|1 and 2|\n",
        "|p_tsk_aft_1s_2t|After complaint|one|2|\n",
        "|p_tsk_aft_2s_2t|After complaint|two|2|\n",
        "|p_tsk_bfr_1s_1t|Before complaint|one|1|\n",
        "|p_tsk_bfr_2s_1_2t|Before complaint|two|1 and 2|\n",
        "|p_tsk_bfr_1s_2t|Before complaint|one|2|\n",
        "|p_tsk_bfr_2s_2t|Before complaint|two|2|"
      ],
      "metadata": {
        "id": "aOyGO5YEjMZi"
      }
    },
    {
      "cell_type": "code",
      "source": [
        "# Run the example few times to see model consistency\n",
        "example =\"\"\"\n",
        "como sempre, atendimento da claro vago e sem nenhuma solução. estou a uma semana sem serviço na minha linha,\n",
        "tentando falar na central e só fico presa na ura ou não consigo chegar a lugar algum. detalhe que tudo isso\n",
        "precisa ser feito de outro celular já que não tenho sinal!!!!!!!!!!!!!não é a primeira vez que fico sem sinal\n",
        "esse ano pelo chip virtual e que sou impactada em trabalho e já estou nisso a 1 semana. a resposta da central\n",
        "foi: vá até uma loja física. eu tenho um chip virtual, qual o sentido de ir a uma loja física olhar um chip\n",
        "virtual que o supervisor que consegui falar nem sabia do que se tratava???? fora que minha [ultima ida a loja\n",
        "fisica fui cobrada por um chip dependente indevido que colocaram na minha conta e que nunca recebi reembolso.segue\n",
        "protocolo:*******070quero saber qual o desconto que terei em fatura nesses dias sem serviço e não tenho\n",
        "disponibilidade para ir a loja física por isso adquiri um chip virtual pela facilidade (que não existe do lado\n",
        "de vocês) nesse processo.a qualidade do serviço é cada dia pior e eu ainda me pergunto pq sou cliente de vocës.\n",
        "\"\"\"[:2000].lower()\n",
        "\n",
        "for prompt in prompt_dict:\n",
        "  print('\\n - ', prompt)\n",
        "  for i in list(range(1, 4)):\n",
        "    analysis = llm_analysis(prompt_dict[prompt], example)\n",
        "    print(analysis)"
      ],
      "metadata": {
        "id": "YZjd_eAWdFVS",
        "colab": {
          "base_uri": "https://localhost:8080/"
        },
        "outputId": "8fe7252c-797e-43da-d2b5-ac44192720f7"
      },
      "execution_count": null,
      "outputs": [
        {
          "output_type": "stream",
          "name": "stdout",
          "text": [
            "\n",
            " -  p_tsk_aft_zero\n",
            " sinal/conexão de rede, cobrança indevida, dificuldade de contato\n",
            " sinal/conexão de rede, cobrança indevida, dificuldade de contato\n",
            " sinal/conexão de rede, cobrança indevida, dificuldade de contato\n",
            "\n",
            " -  p_tsk_bfr_zero\n",
            " sinal/conexão de rede, dificuldade de contato, cobrança indevida, chip/sim card\n",
            " sinal/conexão de rede, dificuldade de contato, cobrança indevida, chip/sim card\n",
            " sinal/conexão de rede, dificuldade de contato, cobrança indevida, chip/sim card\n",
            "\n",
            " -  p_tsk_aft_1c_1e\n",
            " sinal/conexão de rede, cobrança indevida, atendimento pessimo, chip/sim card\n",
            " sinal/conexão de rede, cobrança indevida, atendimento pessimo, chip/sim card\n",
            " sinal/conexão de rede, cobrança indevida, dificuldade de contato, chip/sim card\n",
            "\n",
            " -  p_tsk_aft_2c_1_2e\n",
            " sinal/conexão de rede, cobrança indevida, consumo saldo/crédito, dificuldade de contato, chip/sim card\n",
            " sinal/conexão de rede, cobrança indevida, consumo saldo/crédito, dificuldade de contato, chip/sim card\n",
            " sinal/conexão de rede, cobrança indevida, consumo saldo/crédito, dificuldade de contato, chip/sim card\n",
            "\n",
            " -  p_tsk_aft_1c_2e\n",
            " sinal/conexão de rede, cobrança indevida, chip/sim card, dificuldade de contato\n",
            " sinal/conexão de rede, cobrança indevida, chip/sim card, dificuldade de contato\n",
            " sinal/conexão de rede, cobrança indevida, chip/sim card, dificuldade de contato\n",
            "\n",
            " -  p_tsk_aft_2c_2e\n",
            " sinal/conexão de rede, atendimento, cobrança indevida, chip/sim card, dificuldade de contato\n",
            " sinal/conexão de rede, atendimento, cobrança indevida, chip/sim card, dificuldade de contato\n",
            " sinal/conexão de rede, atendimento, cobrança indevida, chip/sim card, dificuldade de contato\n",
            "\n",
            " -  p_tsk_bfr_1c_1e\n",
            " sinal/conexão de rede, atendimento/assistência técnica, cobrança indevida\n",
            " sinal/conexão de rede, atendimento/assistência técnica, cobrança indevida\n",
            " sinal/conexão de rede, atendimento/assistência técnica, cobrança indevida\n",
            "\n",
            " -  p_tsk_bfr_2c_1_2e\n",
            " sinal/conexão de rede, atendimento péssimo, cobrança indevida, recarga/pagamento, chip/sim card, dificuldade de contato\n",
            " sinal/conexão de rede, atendimento pessoal, cobrança indevida, recarga/pagamento, chip/sim card, dificuldade de contato\n",
            " sinal/conexão de rede, atendimento pessoal, cobrança indevida, recarga/pagamento, chip/sim card, dificuldade de contato\n",
            "\n",
            " -  p_tsk_bfr_1c_2e\n",
            " sinal/conexão de rede, atendimento/assistência técnica, cobrança indevida, chip/sim card\n",
            " sinal/conexão de rede, atendimento/assistência técnica, cobrança indevida, chip/sim card\n",
            " sinal/conexão de rede, atendimento/assistência técnica, cobrança indevida, chip/sim card\n",
            "\n",
            " -  p_tsk_bfr_2c_2e\n",
            " sinal/conexão de rede, atendimento clientes, cobrança indevida, chip/sim card, recarga/pagamento, dificuldade de contato\n",
            " sinal/conexão de rede, atendimento clientes, cobrança indevida, chip/sim card, recarga/pagamento, dificuldade de contato\n",
            " sinal/conexão de rede, atendimento clientes, cobrança indevida, chip/sim card, recarga/pagamento, dificuldade de contato\n"
          ]
        }
      ]
    },
    {
      "cell_type": "markdown",
      "source": [
        "**Note:** As we can be seen below, model tends to use more labels wen we pass multi-turn conversations with 2 exemple labels."
      ],
      "metadata": {
        "id": "kTjb1jNadpv_"
      }
    },
    {
      "cell_type": "markdown",
      "source": [
        "#### Multi-label Evaluation"
      ],
      "metadata": {
        "id": "JauKAKmspRHH"
      }
    },
    {
      "cell_type": "markdown",
      "source": [
        "In this section we will evaluate our prompt. To do that we labaled mannualy the **df_val** dataframe to use as comparision with model output.\n",
        "\n",
        "There are a few metrics to evaluate multi-label classification, in this work we gonna use `classification_report`from `sklearn`, that is a well known package wich give us manny metrics to analyse. If you you want to know more about it, there's a good article made by Aniruddha Karajgi, on https://towardsdatascience.com/evaluating-multi-label-classifiers-a31be83da6ea."
      ],
      "metadata": {
        "id": "p9brvCeTplPg"
      }
    },
    {
      "cell_type": "code",
      "source": [
        "from sklearn.metrics import classification_report"
      ],
      "metadata": {
        "id": "ar_auDgfT9G_"
      },
      "execution_count": 14,
      "outputs": []
    },
    {
      "cell_type": "code",
      "source": [
        "# Creates binary classification columns and sum total classifications\n",
        "def binary_cols(dataframe, column, tags):\n",
        "  for tag in tags:\n",
        "      dataframe[tag] = dataframe[column].apply(lambda x: 1 if tag in x else 0)\n",
        "\n",
        "  dataframe[column + '_sum'] = dataframe[tags].sum(axis=1)"
      ],
      "metadata": {
        "id": "JNtkFEZ06aJl"
      },
      "execution_count": 15,
      "outputs": []
    },
    {
      "cell_type": "markdown",
      "source": [
        "**Note:** Depending on the amount of data, the classification process can take a few hours. Using the quantized model described above and utilizing the free tier infrastructure of Colab, I noticed that Mistral 7B takes about an hour to classify 2.000 cases.\n",
        "\n",
        "Colab tends to disconnect due to inactivity. To prevent this, open your browser's inspector, go to the console tab, paste the code below, and press enter.\n",
        "\n",
        "`function ClickConnect(){\n",
        "    console.log(\"Working\");\n",
        "    document.querySelector(\"colab-connect-button\").click()\n",
        "}\n",
        "setInterval(ClickConnect,60000)`"
      ],
      "metadata": {
        "id": "ZERNC0giOUZJ"
      }
    },
    {
      "cell_type": "code",
      "source": [
        "# Open validation dataset tagged manually\n",
        "df_val_url = 'https://raw.githubusercontent.com/rdemarqui/llm_complaint_management/main/datasets/df_validation.xlsx'\n",
        "df_val_labeled = pd.read_excel(df_val_url)"
      ],
      "metadata": {
        "id": "l8ToURtgqPRI"
      },
      "execution_count": 16,
      "outputs": []
    },
    {
      "cell_type": "code",
      "source": [
        "# Check each prompt performance\n",
        "y_expected = df_val_labeled[tags]\n",
        "score_dict = {}\n",
        "file_name_dict = {}\n",
        "\n",
        "for prompt in prompt_dict:\n",
        "  print(\"\\n- \", prompt)\n",
        "  temp_df, file_name = iterate_over_interval(df=df_val, column=\"description\", prompt=prompt_dict[prompt],\n",
        "                                             limit_char=2000, start_row=0, end_row=df_val.shape[0], save=True)\n",
        "\n",
        "  binary_cols(dataframe=temp_df, column='llm_class', tags=tags)\n",
        "\n",
        "  y_pred = temp_df[tags]\n",
        "\n",
        "  score_dict[prompt] = classification_report(y_expected, y_pred, output_dict=True, target_names=tags)\n",
        "  file_name_dict[prompt] = file_name"
      ],
      "metadata": {
        "id": "bCR1jNbTJTu4",
        "colab": {
          "base_uri": "https://localhost:8080/"
        },
        "outputId": "c42975b5-d177-468d-97a9-feb99374dbff"
      },
      "execution_count": null,
      "outputs": [
        {
          "output_type": "stream",
          "name": "stdout",
          "text": [
            "-  p_tsk_aft_zero\n",
            "0:02:20 Analysis number 100\n",
            "0:04:37 Analysis number 200\n",
            "202 cases analyzed. Total execution time: 0:04:41\n",
            "-  p_tsk_bfr_zero\n",
            "0:02:06 Analysis number 100\n",
            "0:04:52 Analysis number 200\n",
            "202 cases analyzed. Total execution time: 0:04:58\n",
            "-  p_tsk_aft_1c_1e\n",
            "0:03:01 Analysis number 100\n",
            "0:05:28 Analysis number 200\n",
            "202 cases analyzed. Total execution time: 0:05:32\n",
            "-  p_tsk_aft_2c_1_2e\n",
            "0:03:21 Analysis number 100\n",
            "0:06:46 Analysis number 200\n",
            "202 cases analyzed. Total execution time: 0:06:52\n",
            "-  p_tsk_aft_1c_2e\n",
            "0:03:06 Analysis number 100\n",
            "0:06:06 Analysis number 200\n",
            "202 cases analyzed. Total execution time: 0:06:11\n",
            "-  p_tsk_aft_2c_2e\n",
            "0:03:46 Analysis number 100\n",
            "0:08:17 Analysis number 200\n",
            "202 cases analyzed. Total execution time: 0:08:25\n",
            "-  p_tsk_bfr_1c_1e\n",
            "0:02:10 Analysis number 100\n",
            "0:04:07 Analysis number 200\n",
            "202 cases analyzed. Total execution time: 0:04:11\n",
            "-  p_tsk_bfr_2c_1_2e\n",
            "0:03:03 Analysis number 100\n",
            "0:06:11 Analysis number 200\n",
            "202 cases analyzed. Total execution time: 0:06:19\n",
            "-  p_tsk_bfr_1c_2e\n",
            "0:02:19 Analysis number 100\n",
            "0:04:31 Analysis number 200\n",
            "202 cases analyzed. Total execution time: 0:04:36\n",
            "-  p_tsk_bfr_2c_2e\n",
            "0:03:31 Analysis number 100\n",
            "0:06:43 Analysis number 200\n",
            "202 cases analyzed. Total execution time: 0:06:53\n"
          ]
        }
      ]
    },
    {
      "cell_type": "markdown",
      "source": [
        "There's some ways to agregate metricas such as `micro average`, `macro avarage`, `weighted average` and `samples average`. In this study we gonna use `samples avg`, wich was specifically designed for multilabel scenarios. It calculates metrics like precision, recall, and F1-score for each instance individually and averages them, thus effectively evaluating the model's performance on each sample by considering all its labels, making it particularly useful for assessing how well the model predicts the label set for each individual sample."
      ],
      "metadata": {
        "id": "58JTqQxPrBlt"
      }
    },
    {
      "cell_type": "code",
      "source": [
        "# Create score comparison table\n",
        "df_score_comparison = pd.DataFrame()\n",
        "\n",
        "for prompt in prompt_dict:\n",
        "  score_temp = score_dict[prompt]['samples avg']\n",
        "  df_temp = pd.DataFrame(score_temp, index=[prompt])\n",
        "  df_score_comparison = pd.concat([df_score_comparison, df_temp])\n",
        "\n",
        "round(df_score_comparison, 4)"
      ],
      "metadata": {
        "id": "oxLYxxWZv0ME",
        "colab": {
          "base_uri": "https://localhost:8080/",
          "height": 363
        },
        "outputId": "84af5dc9-6952-41b6-dc7f-a2c28efa7525"
      },
      "execution_count": null,
      "outputs": [
        {
          "output_type": "execute_result",
          "data": {
            "text/plain": [
              "                   precision  recall  f1-score  support\n",
              "p_tsk_aft_zero         0.617   0.755     0.638      301\n",
              "p_tsk_bfr_zero         0.546   0.781     0.609      301\n",
              "p_tsk_aft_1c_1e        0.526   0.793     0.597      301\n",
              "p_tsk_aft_2c_1_2e      0.429   0.807     0.530      301\n",
              "p_tsk_aft_1c_2e        0.501   0.862     0.597      301\n",
              "p_tsk_aft_2c_2e        0.440   0.868     0.552      301\n",
              "p_tsk_bfr_1c_1e        0.615   0.689     0.614      301\n",
              "p_tsk_bfr_2c_1_2e      0.463   0.742     0.541      301\n",
              "p_tsk_bfr_1c_2e        0.575   0.786     0.628      301\n",
              "p_tsk_bfr_2c_2e        0.463   0.761     0.546      301"
            ],
            "text/html": [
              "\n",
              "  <div id=\"df-ef87a495-5b46-4782-9098-bb11b4fdb1f3\" class=\"colab-df-container\">\n",
              "    <div>\n",
              "<style scoped>\n",
              "    .dataframe tbody tr th:only-of-type {\n",
              "        vertical-align: middle;\n",
              "    }\n",
              "\n",
              "    .dataframe tbody tr th {\n",
              "        vertical-align: top;\n",
              "    }\n",
              "\n",
              "    .dataframe thead th {\n",
              "        text-align: right;\n",
              "    }\n",
              "</style>\n",
              "<table border=\"1\" class=\"dataframe\">\n",
              "  <thead>\n",
              "    <tr style=\"text-align: right;\">\n",
              "      <th></th>\n",
              "      <th>precision</th>\n",
              "      <th>recall</th>\n",
              "      <th>f1-score</th>\n",
              "      <th>support</th>\n",
              "    </tr>\n",
              "  </thead>\n",
              "  <tbody>\n",
              "    <tr>\n",
              "      <th>p_tsk_aft_zero</th>\n",
              "      <td>0.617</td>\n",
              "      <td>0.755</td>\n",
              "      <td>0.638</td>\n",
              "      <td>301</td>\n",
              "    </tr>\n",
              "    <tr>\n",
              "      <th>p_tsk_bfr_zero</th>\n",
              "      <td>0.546</td>\n",
              "      <td>0.781</td>\n",
              "      <td>0.609</td>\n",
              "      <td>301</td>\n",
              "    </tr>\n",
              "    <tr>\n",
              "      <th>p_tsk_aft_1c_1e</th>\n",
              "      <td>0.526</td>\n",
              "      <td>0.793</td>\n",
              "      <td>0.597</td>\n",
              "      <td>301</td>\n",
              "    </tr>\n",
              "    <tr>\n",
              "      <th>p_tsk_aft_2c_1_2e</th>\n",
              "      <td>0.429</td>\n",
              "      <td>0.807</td>\n",
              "      <td>0.530</td>\n",
              "      <td>301</td>\n",
              "    </tr>\n",
              "    <tr>\n",
              "      <th>p_tsk_aft_1c_2e</th>\n",
              "      <td>0.501</td>\n",
              "      <td>0.862</td>\n",
              "      <td>0.597</td>\n",
              "      <td>301</td>\n",
              "    </tr>\n",
              "    <tr>\n",
              "      <th>p_tsk_aft_2c_2e</th>\n",
              "      <td>0.440</td>\n",
              "      <td>0.868</td>\n",
              "      <td>0.552</td>\n",
              "      <td>301</td>\n",
              "    </tr>\n",
              "    <tr>\n",
              "      <th>p_tsk_bfr_1c_1e</th>\n",
              "      <td>0.615</td>\n",
              "      <td>0.689</td>\n",
              "      <td>0.614</td>\n",
              "      <td>301</td>\n",
              "    </tr>\n",
              "    <tr>\n",
              "      <th>p_tsk_bfr_2c_1_2e</th>\n",
              "      <td>0.463</td>\n",
              "      <td>0.742</td>\n",
              "      <td>0.541</td>\n",
              "      <td>301</td>\n",
              "    </tr>\n",
              "    <tr>\n",
              "      <th>p_tsk_bfr_1c_2e</th>\n",
              "      <td>0.575</td>\n",
              "      <td>0.786</td>\n",
              "      <td>0.628</td>\n",
              "      <td>301</td>\n",
              "    </tr>\n",
              "    <tr>\n",
              "      <th>p_tsk_bfr_2c_2e</th>\n",
              "      <td>0.463</td>\n",
              "      <td>0.761</td>\n",
              "      <td>0.546</td>\n",
              "      <td>301</td>\n",
              "    </tr>\n",
              "  </tbody>\n",
              "</table>\n",
              "</div>\n",
              "    <div class=\"colab-df-buttons\">\n",
              "\n",
              "  <div class=\"colab-df-container\">\n",
              "    <button class=\"colab-df-convert\" onclick=\"convertToInteractive('df-ef87a495-5b46-4782-9098-bb11b4fdb1f3')\"\n",
              "            title=\"Convert this dataframe to an interactive table.\"\n",
              "            style=\"display:none;\">\n",
              "\n",
              "  <svg xmlns=\"http://www.w3.org/2000/svg\" height=\"24px\" viewBox=\"0 -960 960 960\">\n",
              "    <path d=\"M120-120v-720h720v720H120Zm60-500h600v-160H180v160Zm220 220h160v-160H400v160Zm0 220h160v-160H400v160ZM180-400h160v-160H180v160Zm440 0h160v-160H620v160ZM180-180h160v-160H180v160Zm440 0h160v-160H620v160Z\"/>\n",
              "  </svg>\n",
              "    </button>\n",
              "\n",
              "  <style>\n",
              "    .colab-df-container {\n",
              "      display:flex;\n",
              "      gap: 12px;\n",
              "    }\n",
              "\n",
              "    .colab-df-convert {\n",
              "      background-color: #E8F0FE;\n",
              "      border: none;\n",
              "      border-radius: 50%;\n",
              "      cursor: pointer;\n",
              "      display: none;\n",
              "      fill: #1967D2;\n",
              "      height: 32px;\n",
              "      padding: 0 0 0 0;\n",
              "      width: 32px;\n",
              "    }\n",
              "\n",
              "    .colab-df-convert:hover {\n",
              "      background-color: #E2EBFA;\n",
              "      box-shadow: 0px 1px 2px rgba(60, 64, 67, 0.3), 0px 1px 3px 1px rgba(60, 64, 67, 0.15);\n",
              "      fill: #174EA6;\n",
              "    }\n",
              "\n",
              "    .colab-df-buttons div {\n",
              "      margin-bottom: 4px;\n",
              "    }\n",
              "\n",
              "    [theme=dark] .colab-df-convert {\n",
              "      background-color: #3B4455;\n",
              "      fill: #D2E3FC;\n",
              "    }\n",
              "\n",
              "    [theme=dark] .colab-df-convert:hover {\n",
              "      background-color: #434B5C;\n",
              "      box-shadow: 0px 1px 3px 1px rgba(0, 0, 0, 0.15);\n",
              "      filter: drop-shadow(0px 1px 2px rgba(0, 0, 0, 0.3));\n",
              "      fill: #FFFFFF;\n",
              "    }\n",
              "  </style>\n",
              "\n",
              "    <script>\n",
              "      const buttonEl =\n",
              "        document.querySelector('#df-ef87a495-5b46-4782-9098-bb11b4fdb1f3 button.colab-df-convert');\n",
              "      buttonEl.style.display =\n",
              "        google.colab.kernel.accessAllowed ? 'block' : 'none';\n",
              "\n",
              "      async function convertToInteractive(key) {\n",
              "        const element = document.querySelector('#df-ef87a495-5b46-4782-9098-bb11b4fdb1f3');\n",
              "        const dataTable =\n",
              "          await google.colab.kernel.invokeFunction('convertToInteractive',\n",
              "                                                    [key], {});\n",
              "        if (!dataTable) return;\n",
              "\n",
              "        const docLinkHtml = 'Like what you see? Visit the ' +\n",
              "          '<a target=\"_blank\" href=https://colab.research.google.com/notebooks/data_table.ipynb>data table notebook</a>'\n",
              "          + ' to learn more about interactive tables.';\n",
              "        element.innerHTML = '';\n",
              "        dataTable['output_type'] = 'display_data';\n",
              "        await google.colab.output.renderOutput(dataTable, element);\n",
              "        const docLink = document.createElement('div');\n",
              "        docLink.innerHTML = docLinkHtml;\n",
              "        element.appendChild(docLink);\n",
              "      }\n",
              "    </script>\n",
              "  </div>\n",
              "\n",
              "\n",
              "<div id=\"df-63001f74-dbd6-47e8-a896-0f8d37b1e373\">\n",
              "  <button class=\"colab-df-quickchart\" onclick=\"quickchart('df-63001f74-dbd6-47e8-a896-0f8d37b1e373')\"\n",
              "            title=\"Suggest charts\"\n",
              "            style=\"display:none;\">\n",
              "\n",
              "<svg xmlns=\"http://www.w3.org/2000/svg\" height=\"24px\"viewBox=\"0 0 24 24\"\n",
              "     width=\"24px\">\n",
              "    <g>\n",
              "        <path d=\"M19 3H5c-1.1 0-2 .9-2 2v14c0 1.1.9 2 2 2h14c1.1 0 2-.9 2-2V5c0-1.1-.9-2-2-2zM9 17H7v-7h2v7zm4 0h-2V7h2v10zm4 0h-2v-4h2v4z\"/>\n",
              "    </g>\n",
              "</svg>\n",
              "  </button>\n",
              "\n",
              "<style>\n",
              "  .colab-df-quickchart {\n",
              "      --bg-color: #E8F0FE;\n",
              "      --fill-color: #1967D2;\n",
              "      --hover-bg-color: #E2EBFA;\n",
              "      --hover-fill-color: #174EA6;\n",
              "      --disabled-fill-color: #AAA;\n",
              "      --disabled-bg-color: #DDD;\n",
              "  }\n",
              "\n",
              "  [theme=dark] .colab-df-quickchart {\n",
              "      --bg-color: #3B4455;\n",
              "      --fill-color: #D2E3FC;\n",
              "      --hover-bg-color: #434B5C;\n",
              "      --hover-fill-color: #FFFFFF;\n",
              "      --disabled-bg-color: #3B4455;\n",
              "      --disabled-fill-color: #666;\n",
              "  }\n",
              "\n",
              "  .colab-df-quickchart {\n",
              "    background-color: var(--bg-color);\n",
              "    border: none;\n",
              "    border-radius: 50%;\n",
              "    cursor: pointer;\n",
              "    display: none;\n",
              "    fill: var(--fill-color);\n",
              "    height: 32px;\n",
              "    padding: 0;\n",
              "    width: 32px;\n",
              "  }\n",
              "\n",
              "  .colab-df-quickchart:hover {\n",
              "    background-color: var(--hover-bg-color);\n",
              "    box-shadow: 0 1px 2px rgba(60, 64, 67, 0.3), 0 1px 3px 1px rgba(60, 64, 67, 0.15);\n",
              "    fill: var(--button-hover-fill-color);\n",
              "  }\n",
              "\n",
              "  .colab-df-quickchart-complete:disabled,\n",
              "  .colab-df-quickchart-complete:disabled:hover {\n",
              "    background-color: var(--disabled-bg-color);\n",
              "    fill: var(--disabled-fill-color);\n",
              "    box-shadow: none;\n",
              "  }\n",
              "\n",
              "  .colab-df-spinner {\n",
              "    border: 2px solid var(--fill-color);\n",
              "    border-color: transparent;\n",
              "    border-bottom-color: var(--fill-color);\n",
              "    animation:\n",
              "      spin 1s steps(1) infinite;\n",
              "  }\n",
              "\n",
              "  @keyframes spin {\n",
              "    0% {\n",
              "      border-color: transparent;\n",
              "      border-bottom-color: var(--fill-color);\n",
              "      border-left-color: var(--fill-color);\n",
              "    }\n",
              "    20% {\n",
              "      border-color: transparent;\n",
              "      border-left-color: var(--fill-color);\n",
              "      border-top-color: var(--fill-color);\n",
              "    }\n",
              "    30% {\n",
              "      border-color: transparent;\n",
              "      border-left-color: var(--fill-color);\n",
              "      border-top-color: var(--fill-color);\n",
              "      border-right-color: var(--fill-color);\n",
              "    }\n",
              "    40% {\n",
              "      border-color: transparent;\n",
              "      border-right-color: var(--fill-color);\n",
              "      border-top-color: var(--fill-color);\n",
              "    }\n",
              "    60% {\n",
              "      border-color: transparent;\n",
              "      border-right-color: var(--fill-color);\n",
              "    }\n",
              "    80% {\n",
              "      border-color: transparent;\n",
              "      border-right-color: var(--fill-color);\n",
              "      border-bottom-color: var(--fill-color);\n",
              "    }\n",
              "    90% {\n",
              "      border-color: transparent;\n",
              "      border-bottom-color: var(--fill-color);\n",
              "    }\n",
              "  }\n",
              "</style>\n",
              "\n",
              "  <script>\n",
              "    async function quickchart(key) {\n",
              "      const quickchartButtonEl =\n",
              "        document.querySelector('#' + key + ' button');\n",
              "      quickchartButtonEl.disabled = true;  // To prevent multiple clicks.\n",
              "      quickchartButtonEl.classList.add('colab-df-spinner');\n",
              "      try {\n",
              "        const charts = await google.colab.kernel.invokeFunction(\n",
              "            'suggestCharts', [key], {});\n",
              "      } catch (error) {\n",
              "        console.error('Error during call to suggestCharts:', error);\n",
              "      }\n",
              "      quickchartButtonEl.classList.remove('colab-df-spinner');\n",
              "      quickchartButtonEl.classList.add('colab-df-quickchart-complete');\n",
              "    }\n",
              "    (() => {\n",
              "      let quickchartButtonEl =\n",
              "        document.querySelector('#df-63001f74-dbd6-47e8-a896-0f8d37b1e373 button');\n",
              "      quickchartButtonEl.style.display =\n",
              "        google.colab.kernel.accessAllowed ? 'block' : 'none';\n",
              "    })();\n",
              "  </script>\n",
              "</div>\n",
              "\n",
              "    </div>\n",
              "  </div>\n"
            ]
          },
          "metadata": {},
          "execution_count": 34
        }
      ]
    },
    {
      "cell_type": "markdown",
      "source": [
        "Remembering that:\n",
        "\n",
        "* **Precision:** Proportion of positive identifications that was actually correct. A low precision means **too many False Positives (FP)**.\n",
        "\n",
        " $\\frac{\\text{True Positive}}{\\text{Total Predicted Positive}} = \\frac{\\text{True Positive (TP)}}{\\text{True Positive (TP)} + \\text{False Positive (FP)}}$\n",
        "\n",
        "* **Recall:** Proportion of actual positives that was identified correctly. A low recall means **too many False Negatives (FN)**.\n",
        "\n",
        " $\\frac{\\text{True Positive}}{\\text{Total Actual Positive}} = \\frac{\\text{True Positive (TP)}}{\\text{True Positive (TP)} + \\text{False Negative (FN)}}$\n",
        "\n",
        "* **F1 Score:** Is the harmonic mean of the precision and recall, bringing a good balance between both.\n",
        "\n",
        " ${\\text{F1}} = 2* \\frac{\\text{Precision * Recall}}{\\text{Precision + Recall}}$\n",
        "\n",
        "In this study we will use the prompt that achived the max F1 score, that represents a good balance between precision and recall."
      ],
      "metadata": {
        "id": "KBREo3Ex-QTW"
      }
    },
    {
      "cell_type": "code",
      "source": [
        "max_score_prompt = df_score_comparison['f1-score'].idxmax()\n",
        "print(f\"The max score obtained was achived by '{max_score_prompt}' prompt.\")"
      ],
      "metadata": {
        "id": "WXmGFR_OmOlW",
        "colab": {
          "base_uri": "https://localhost:8080/"
        },
        "outputId": "fcce9085-4d7f-46d6-dccb-760368dc7452"
      },
      "execution_count": null,
      "outputs": [
        {
          "output_type": "stream",
          "name": "stdout",
          "text": [
            "The max score obtained was achived by 'p_tsk_aft_zero' prompt.\n"
          ]
        }
      ]
    },
    {
      "cell_type": "code",
      "source": [
        "# Check detailed score from choosen prompt\n",
        "round(pd.DataFrame(score_dict[max_score_prompt]).transpose(), 4)"
      ],
      "metadata": {
        "id": "r_dxrDY6_EZ1",
        "colab": {
          "base_uri": "https://localhost:8080/",
          "height": 488
        },
        "outputId": "fe4d7bbb-d6cc-4d54-a5b6-c4c5866eb91a"
      },
      "execution_count": null,
      "outputs": [
        {
          "output_type": "execute_result",
          "data": {
            "text/plain": [
              "                          precision    recall  f1-score  support\n",
              "sinal/conexão de rede      0.892857  0.735294  0.806452     34.0\n",
              "cobrança indevida          0.500000  0.822222  0.621849     45.0\n",
              "consumo saldo/crédito      0.500000  0.687500  0.578947     16.0\n",
              "plano/benefício            0.413043  0.475000  0.441860     40.0\n",
              "cancelamento linha/plano   0.491525  0.690476  0.574257     42.0\n",
              "chip/sim card              0.954545  0.677419  0.792453     31.0\n",
              "spam                       0.750000  0.900000  0.818182     10.0\n",
              "portabilidade              0.606061  0.909091  0.727273     22.0\n",
              "recarga/pagamento          0.527273  0.878788  0.659091     33.0\n",
              "dificuldade de contato     0.352941  0.642857  0.455696     28.0\n",
              "micro avg                  0.542289  0.724252  0.620199    301.0\n",
              "macro avg                  0.598825  0.741865  0.647606    301.0\n",
              "weighted avg               0.583819  0.724252  0.630287    301.0\n",
              "samples avg                0.617409  0.755446  0.637777    301.0"
            ],
            "text/html": [
              "\n",
              "  <div id=\"df-368e45eb-ffe6-4339-b305-4c8e619a4937\" class=\"colab-df-container\">\n",
              "    <div>\n",
              "<style scoped>\n",
              "    .dataframe tbody tr th:only-of-type {\n",
              "        vertical-align: middle;\n",
              "    }\n",
              "\n",
              "    .dataframe tbody tr th {\n",
              "        vertical-align: top;\n",
              "    }\n",
              "\n",
              "    .dataframe thead th {\n",
              "        text-align: right;\n",
              "    }\n",
              "</style>\n",
              "<table border=\"1\" class=\"dataframe\">\n",
              "  <thead>\n",
              "    <tr style=\"text-align: right;\">\n",
              "      <th></th>\n",
              "      <th>precision</th>\n",
              "      <th>recall</th>\n",
              "      <th>f1-score</th>\n",
              "      <th>support</th>\n",
              "    </tr>\n",
              "  </thead>\n",
              "  <tbody>\n",
              "    <tr>\n",
              "      <th>sinal/conexão de rede</th>\n",
              "      <td>0.892857</td>\n",
              "      <td>0.735294</td>\n",
              "      <td>0.806452</td>\n",
              "      <td>34.0</td>\n",
              "    </tr>\n",
              "    <tr>\n",
              "      <th>cobrança indevida</th>\n",
              "      <td>0.500000</td>\n",
              "      <td>0.822222</td>\n",
              "      <td>0.621849</td>\n",
              "      <td>45.0</td>\n",
              "    </tr>\n",
              "    <tr>\n",
              "      <th>consumo saldo/crédito</th>\n",
              "      <td>0.500000</td>\n",
              "      <td>0.687500</td>\n",
              "      <td>0.578947</td>\n",
              "      <td>16.0</td>\n",
              "    </tr>\n",
              "    <tr>\n",
              "      <th>plano/benefício</th>\n",
              "      <td>0.413043</td>\n",
              "      <td>0.475000</td>\n",
              "      <td>0.441860</td>\n",
              "      <td>40.0</td>\n",
              "    </tr>\n",
              "    <tr>\n",
              "      <th>cancelamento linha/plano</th>\n",
              "      <td>0.491525</td>\n",
              "      <td>0.690476</td>\n",
              "      <td>0.574257</td>\n",
              "      <td>42.0</td>\n",
              "    </tr>\n",
              "    <tr>\n",
              "      <th>chip/sim card</th>\n",
              "      <td>0.954545</td>\n",
              "      <td>0.677419</td>\n",
              "      <td>0.792453</td>\n",
              "      <td>31.0</td>\n",
              "    </tr>\n",
              "    <tr>\n",
              "      <th>spam</th>\n",
              "      <td>0.750000</td>\n",
              "      <td>0.900000</td>\n",
              "      <td>0.818182</td>\n",
              "      <td>10.0</td>\n",
              "    </tr>\n",
              "    <tr>\n",
              "      <th>portabilidade</th>\n",
              "      <td>0.606061</td>\n",
              "      <td>0.909091</td>\n",
              "      <td>0.727273</td>\n",
              "      <td>22.0</td>\n",
              "    </tr>\n",
              "    <tr>\n",
              "      <th>recarga/pagamento</th>\n",
              "      <td>0.527273</td>\n",
              "      <td>0.878788</td>\n",
              "      <td>0.659091</td>\n",
              "      <td>33.0</td>\n",
              "    </tr>\n",
              "    <tr>\n",
              "      <th>dificuldade de contato</th>\n",
              "      <td>0.352941</td>\n",
              "      <td>0.642857</td>\n",
              "      <td>0.455696</td>\n",
              "      <td>28.0</td>\n",
              "    </tr>\n",
              "    <tr>\n",
              "      <th>micro avg</th>\n",
              "      <td>0.542289</td>\n",
              "      <td>0.724252</td>\n",
              "      <td>0.620199</td>\n",
              "      <td>301.0</td>\n",
              "    </tr>\n",
              "    <tr>\n",
              "      <th>macro avg</th>\n",
              "      <td>0.598825</td>\n",
              "      <td>0.741865</td>\n",
              "      <td>0.647606</td>\n",
              "      <td>301.0</td>\n",
              "    </tr>\n",
              "    <tr>\n",
              "      <th>weighted avg</th>\n",
              "      <td>0.583819</td>\n",
              "      <td>0.724252</td>\n",
              "      <td>0.630287</td>\n",
              "      <td>301.0</td>\n",
              "    </tr>\n",
              "    <tr>\n",
              "      <th>samples avg</th>\n",
              "      <td>0.617409</td>\n",
              "      <td>0.755446</td>\n",
              "      <td>0.637777</td>\n",
              "      <td>301.0</td>\n",
              "    </tr>\n",
              "  </tbody>\n",
              "</table>\n",
              "</div>\n",
              "    <div class=\"colab-df-buttons\">\n",
              "\n",
              "  <div class=\"colab-df-container\">\n",
              "    <button class=\"colab-df-convert\" onclick=\"convertToInteractive('df-368e45eb-ffe6-4339-b305-4c8e619a4937')\"\n",
              "            title=\"Convert this dataframe to an interactive table.\"\n",
              "            style=\"display:none;\">\n",
              "\n",
              "  <svg xmlns=\"http://www.w3.org/2000/svg\" height=\"24px\" viewBox=\"0 -960 960 960\">\n",
              "    <path d=\"M120-120v-720h720v720H120Zm60-500h600v-160H180v160Zm220 220h160v-160H400v160Zm0 220h160v-160H400v160ZM180-400h160v-160H180v160Zm440 0h160v-160H620v160ZM180-180h160v-160H180v160Zm440 0h160v-160H620v160Z\"/>\n",
              "  </svg>\n",
              "    </button>\n",
              "\n",
              "  <style>\n",
              "    .colab-df-container {\n",
              "      display:flex;\n",
              "      gap: 12px;\n",
              "    }\n",
              "\n",
              "    .colab-df-convert {\n",
              "      background-color: #E8F0FE;\n",
              "      border: none;\n",
              "      border-radius: 50%;\n",
              "      cursor: pointer;\n",
              "      display: none;\n",
              "      fill: #1967D2;\n",
              "      height: 32px;\n",
              "      padding: 0 0 0 0;\n",
              "      width: 32px;\n",
              "    }\n",
              "\n",
              "    .colab-df-convert:hover {\n",
              "      background-color: #E2EBFA;\n",
              "      box-shadow: 0px 1px 2px rgba(60, 64, 67, 0.3), 0px 1px 3px 1px rgba(60, 64, 67, 0.15);\n",
              "      fill: #174EA6;\n",
              "    }\n",
              "\n",
              "    .colab-df-buttons div {\n",
              "      margin-bottom: 4px;\n",
              "    }\n",
              "\n",
              "    [theme=dark] .colab-df-convert {\n",
              "      background-color: #3B4455;\n",
              "      fill: #D2E3FC;\n",
              "    }\n",
              "\n",
              "    [theme=dark] .colab-df-convert:hover {\n",
              "      background-color: #434B5C;\n",
              "      box-shadow: 0px 1px 3px 1px rgba(0, 0, 0, 0.15);\n",
              "      filter: drop-shadow(0px 1px 2px rgba(0, 0, 0, 0.3));\n",
              "      fill: #FFFFFF;\n",
              "    }\n",
              "  </style>\n",
              "\n",
              "    <script>\n",
              "      const buttonEl =\n",
              "        document.querySelector('#df-368e45eb-ffe6-4339-b305-4c8e619a4937 button.colab-df-convert');\n",
              "      buttonEl.style.display =\n",
              "        google.colab.kernel.accessAllowed ? 'block' : 'none';\n",
              "\n",
              "      async function convertToInteractive(key) {\n",
              "        const element = document.querySelector('#df-368e45eb-ffe6-4339-b305-4c8e619a4937');\n",
              "        const dataTable =\n",
              "          await google.colab.kernel.invokeFunction('convertToInteractive',\n",
              "                                                    [key], {});\n",
              "        if (!dataTable) return;\n",
              "\n",
              "        const docLinkHtml = 'Like what you see? Visit the ' +\n",
              "          '<a target=\"_blank\" href=https://colab.research.google.com/notebooks/data_table.ipynb>data table notebook</a>'\n",
              "          + ' to learn more about interactive tables.';\n",
              "        element.innerHTML = '';\n",
              "        dataTable['output_type'] = 'display_data';\n",
              "        await google.colab.output.renderOutput(dataTable, element);\n",
              "        const docLink = document.createElement('div');\n",
              "        docLink.innerHTML = docLinkHtml;\n",
              "        element.appendChild(docLink);\n",
              "      }\n",
              "    </script>\n",
              "  </div>\n",
              "\n",
              "\n",
              "<div id=\"df-c962ed63-c83e-41a1-9138-7f30255010f1\">\n",
              "  <button class=\"colab-df-quickchart\" onclick=\"quickchart('df-c962ed63-c83e-41a1-9138-7f30255010f1')\"\n",
              "            title=\"Suggest charts\"\n",
              "            style=\"display:none;\">\n",
              "\n",
              "<svg xmlns=\"http://www.w3.org/2000/svg\" height=\"24px\"viewBox=\"0 0 24 24\"\n",
              "     width=\"24px\">\n",
              "    <g>\n",
              "        <path d=\"M19 3H5c-1.1 0-2 .9-2 2v14c0 1.1.9 2 2 2h14c1.1 0 2-.9 2-2V5c0-1.1-.9-2-2-2zM9 17H7v-7h2v7zm4 0h-2V7h2v10zm4 0h-2v-4h2v4z\"/>\n",
              "    </g>\n",
              "</svg>\n",
              "  </button>\n",
              "\n",
              "<style>\n",
              "  .colab-df-quickchart {\n",
              "      --bg-color: #E8F0FE;\n",
              "      --fill-color: #1967D2;\n",
              "      --hover-bg-color: #E2EBFA;\n",
              "      --hover-fill-color: #174EA6;\n",
              "      --disabled-fill-color: #AAA;\n",
              "      --disabled-bg-color: #DDD;\n",
              "  }\n",
              "\n",
              "  [theme=dark] .colab-df-quickchart {\n",
              "      --bg-color: #3B4455;\n",
              "      --fill-color: #D2E3FC;\n",
              "      --hover-bg-color: #434B5C;\n",
              "      --hover-fill-color: #FFFFFF;\n",
              "      --disabled-bg-color: #3B4455;\n",
              "      --disabled-fill-color: #666;\n",
              "  }\n",
              "\n",
              "  .colab-df-quickchart {\n",
              "    background-color: var(--bg-color);\n",
              "    border: none;\n",
              "    border-radius: 50%;\n",
              "    cursor: pointer;\n",
              "    display: none;\n",
              "    fill: var(--fill-color);\n",
              "    height: 32px;\n",
              "    padding: 0;\n",
              "    width: 32px;\n",
              "  }\n",
              "\n",
              "  .colab-df-quickchart:hover {\n",
              "    background-color: var(--hover-bg-color);\n",
              "    box-shadow: 0 1px 2px rgba(60, 64, 67, 0.3), 0 1px 3px 1px rgba(60, 64, 67, 0.15);\n",
              "    fill: var(--button-hover-fill-color);\n",
              "  }\n",
              "\n",
              "  .colab-df-quickchart-complete:disabled,\n",
              "  .colab-df-quickchart-complete:disabled:hover {\n",
              "    background-color: var(--disabled-bg-color);\n",
              "    fill: var(--disabled-fill-color);\n",
              "    box-shadow: none;\n",
              "  }\n",
              "\n",
              "  .colab-df-spinner {\n",
              "    border: 2px solid var(--fill-color);\n",
              "    border-color: transparent;\n",
              "    border-bottom-color: var(--fill-color);\n",
              "    animation:\n",
              "      spin 1s steps(1) infinite;\n",
              "  }\n",
              "\n",
              "  @keyframes spin {\n",
              "    0% {\n",
              "      border-color: transparent;\n",
              "      border-bottom-color: var(--fill-color);\n",
              "      border-left-color: var(--fill-color);\n",
              "    }\n",
              "    20% {\n",
              "      border-color: transparent;\n",
              "      border-left-color: var(--fill-color);\n",
              "      border-top-color: var(--fill-color);\n",
              "    }\n",
              "    30% {\n",
              "      border-color: transparent;\n",
              "      border-left-color: var(--fill-color);\n",
              "      border-top-color: var(--fill-color);\n",
              "      border-right-color: var(--fill-color);\n",
              "    }\n",
              "    40% {\n",
              "      border-color: transparent;\n",
              "      border-right-color: var(--fill-color);\n",
              "      border-top-color: var(--fill-color);\n",
              "    }\n",
              "    60% {\n",
              "      border-color: transparent;\n",
              "      border-right-color: var(--fill-color);\n",
              "    }\n",
              "    80% {\n",
              "      border-color: transparent;\n",
              "      border-right-color: var(--fill-color);\n",
              "      border-bottom-color: var(--fill-color);\n",
              "    }\n",
              "    90% {\n",
              "      border-color: transparent;\n",
              "      border-bottom-color: var(--fill-color);\n",
              "    }\n",
              "  }\n",
              "</style>\n",
              "\n",
              "  <script>\n",
              "    async function quickchart(key) {\n",
              "      const quickchartButtonEl =\n",
              "        document.querySelector('#' + key + ' button');\n",
              "      quickchartButtonEl.disabled = true;  // To prevent multiple clicks.\n",
              "      quickchartButtonEl.classList.add('colab-df-spinner');\n",
              "      try {\n",
              "        const charts = await google.colab.kernel.invokeFunction(\n",
              "            'suggestCharts', [key], {});\n",
              "      } catch (error) {\n",
              "        console.error('Error during call to suggestCharts:', error);\n",
              "      }\n",
              "      quickchartButtonEl.classList.remove('colab-df-spinner');\n",
              "      quickchartButtonEl.classList.add('colab-df-quickchart-complete');\n",
              "    }\n",
              "    (() => {\n",
              "      let quickchartButtonEl =\n",
              "        document.querySelector('#df-c962ed63-c83e-41a1-9138-7f30255010f1 button');\n",
              "      quickchartButtonEl.style.display =\n",
              "        google.colab.kernel.accessAllowed ? 'block' : 'none';\n",
              "    })();\n",
              "  </script>\n",
              "</div>\n",
              "\n",
              "    </div>\n",
              "  </div>\n"
            ]
          },
          "metadata": {},
          "execution_count": 36
        }
      ]
    },
    {
      "cell_type": "code",
      "source": [
        "# Check score categorized by word count decile\n",
        "df_best_score = df_val_labeled\n",
        "\n",
        "# Create statistics\n",
        "df_val_labeled['word_count'] = df_val_labeled['description'].str.split().str.len()\n",
        "df_val_labeled['decile'] = pd.qcut(df_val_labeled['word_count'], 10, labels=False)\n",
        "df_val_labeled['max_per_decile'] = df_val_labeled.groupby('decile')['word_count'].transform('max')\n",
        "\n",
        "# Iterate over deciles\n",
        "df_score_decile = pd.DataFrame()\n",
        "score_dec_dict = {}\n",
        "decile_cat = sorted(df_val_labeled['max_per_decile'].unique())\n",
        "for i_decile in decile_cat:\n",
        "  y_exp_dec = df_val_labeled[df_val_labeled['max_per_decile']==i_decile][tags]\n",
        "  y_pred_dec = df_best_score.loc[y_exp_dec.index, tags]\n",
        "  score_dec_dict[i_decile] = classification_report(y_exp_dec, y_pred_dec, output_dict=True, target_names=tags)\n",
        "\n",
        "  score_temp_dec = score_dec_dict[i_decile]['samples avg']\n",
        "  df_temp = pd.DataFrame(score_temp_dec, index=[i_decile])\n",
        "  df_score_decile = pd.concat([df_score_decile, df_temp])\n",
        "\n",
        "round(df_score_decile, 4)"
      ],
      "metadata": {
        "id": "QUD_E-erQs5f",
        "outputId": "f9e4f735-7fd1-411c-8136-42e7663062b8",
        "colab": {
          "base_uri": "https://localhost:8080/",
          "height": 363
        }
      },
      "execution_count": 71,
      "outputs": [
        {
          "output_type": "execute_result",
          "data": {
            "text/plain": [
              "     precision  recall  f1-score  support\n",
              "33         1.0     1.0       1.0       26\n",
              "46         1.0     1.0       1.0       31\n",
              "53         1.0     1.0       1.0       25\n",
              "65         1.0     1.0       1.0       28\n",
              "88         1.0     1.0       1.0       24\n",
              "102        1.0     1.0       1.0       33\n",
              "127        1.0     1.0       1.0       31\n",
              "161        1.0     1.0       1.0       32\n",
              "195        1.0     1.0       1.0       34\n",
              "437        1.0     1.0       1.0       37"
            ],
            "text/html": [
              "\n",
              "  <div id=\"df-cf0f5ef8-000c-4b5a-a612-8ed449ee887a\" class=\"colab-df-container\">\n",
              "    <div>\n",
              "<style scoped>\n",
              "    .dataframe tbody tr th:only-of-type {\n",
              "        vertical-align: middle;\n",
              "    }\n",
              "\n",
              "    .dataframe tbody tr th {\n",
              "        vertical-align: top;\n",
              "    }\n",
              "\n",
              "    .dataframe thead th {\n",
              "        text-align: right;\n",
              "    }\n",
              "</style>\n",
              "<table border=\"1\" class=\"dataframe\">\n",
              "  <thead>\n",
              "    <tr style=\"text-align: right;\">\n",
              "      <th></th>\n",
              "      <th>precision</th>\n",
              "      <th>recall</th>\n",
              "      <th>f1-score</th>\n",
              "      <th>support</th>\n",
              "    </tr>\n",
              "  </thead>\n",
              "  <tbody>\n",
              "    <tr>\n",
              "      <th>33</th>\n",
              "      <td>1.0</td>\n",
              "      <td>1.0</td>\n",
              "      <td>1.0</td>\n",
              "      <td>26</td>\n",
              "    </tr>\n",
              "    <tr>\n",
              "      <th>46</th>\n",
              "      <td>1.0</td>\n",
              "      <td>1.0</td>\n",
              "      <td>1.0</td>\n",
              "      <td>31</td>\n",
              "    </tr>\n",
              "    <tr>\n",
              "      <th>53</th>\n",
              "      <td>1.0</td>\n",
              "      <td>1.0</td>\n",
              "      <td>1.0</td>\n",
              "      <td>25</td>\n",
              "    </tr>\n",
              "    <tr>\n",
              "      <th>65</th>\n",
              "      <td>1.0</td>\n",
              "      <td>1.0</td>\n",
              "      <td>1.0</td>\n",
              "      <td>28</td>\n",
              "    </tr>\n",
              "    <tr>\n",
              "      <th>88</th>\n",
              "      <td>1.0</td>\n",
              "      <td>1.0</td>\n",
              "      <td>1.0</td>\n",
              "      <td>24</td>\n",
              "    </tr>\n",
              "    <tr>\n",
              "      <th>102</th>\n",
              "      <td>1.0</td>\n",
              "      <td>1.0</td>\n",
              "      <td>1.0</td>\n",
              "      <td>33</td>\n",
              "    </tr>\n",
              "    <tr>\n",
              "      <th>127</th>\n",
              "      <td>1.0</td>\n",
              "      <td>1.0</td>\n",
              "      <td>1.0</td>\n",
              "      <td>31</td>\n",
              "    </tr>\n",
              "    <tr>\n",
              "      <th>161</th>\n",
              "      <td>1.0</td>\n",
              "      <td>1.0</td>\n",
              "      <td>1.0</td>\n",
              "      <td>32</td>\n",
              "    </tr>\n",
              "    <tr>\n",
              "      <th>195</th>\n",
              "      <td>1.0</td>\n",
              "      <td>1.0</td>\n",
              "      <td>1.0</td>\n",
              "      <td>34</td>\n",
              "    </tr>\n",
              "    <tr>\n",
              "      <th>437</th>\n",
              "      <td>1.0</td>\n",
              "      <td>1.0</td>\n",
              "      <td>1.0</td>\n",
              "      <td>37</td>\n",
              "    </tr>\n",
              "  </tbody>\n",
              "</table>\n",
              "</div>\n",
              "    <div class=\"colab-df-buttons\">\n",
              "\n",
              "  <div class=\"colab-df-container\">\n",
              "    <button class=\"colab-df-convert\" onclick=\"convertToInteractive('df-cf0f5ef8-000c-4b5a-a612-8ed449ee887a')\"\n",
              "            title=\"Convert this dataframe to an interactive table.\"\n",
              "            style=\"display:none;\">\n",
              "\n",
              "  <svg xmlns=\"http://www.w3.org/2000/svg\" height=\"24px\" viewBox=\"0 -960 960 960\">\n",
              "    <path d=\"M120-120v-720h720v720H120Zm60-500h600v-160H180v160Zm220 220h160v-160H400v160Zm0 220h160v-160H400v160ZM180-400h160v-160H180v160Zm440 0h160v-160H620v160ZM180-180h160v-160H180v160Zm440 0h160v-160H620v160Z\"/>\n",
              "  </svg>\n",
              "    </button>\n",
              "\n",
              "  <style>\n",
              "    .colab-df-container {\n",
              "      display:flex;\n",
              "      gap: 12px;\n",
              "    }\n",
              "\n",
              "    .colab-df-convert {\n",
              "      background-color: #E8F0FE;\n",
              "      border: none;\n",
              "      border-radius: 50%;\n",
              "      cursor: pointer;\n",
              "      display: none;\n",
              "      fill: #1967D2;\n",
              "      height: 32px;\n",
              "      padding: 0 0 0 0;\n",
              "      width: 32px;\n",
              "    }\n",
              "\n",
              "    .colab-df-convert:hover {\n",
              "      background-color: #E2EBFA;\n",
              "      box-shadow: 0px 1px 2px rgba(60, 64, 67, 0.3), 0px 1px 3px 1px rgba(60, 64, 67, 0.15);\n",
              "      fill: #174EA6;\n",
              "    }\n",
              "\n",
              "    .colab-df-buttons div {\n",
              "      margin-bottom: 4px;\n",
              "    }\n",
              "\n",
              "    [theme=dark] .colab-df-convert {\n",
              "      background-color: #3B4455;\n",
              "      fill: #D2E3FC;\n",
              "    }\n",
              "\n",
              "    [theme=dark] .colab-df-convert:hover {\n",
              "      background-color: #434B5C;\n",
              "      box-shadow: 0px 1px 3px 1px rgba(0, 0, 0, 0.15);\n",
              "      filter: drop-shadow(0px 1px 2px rgba(0, 0, 0, 0.3));\n",
              "      fill: #FFFFFF;\n",
              "    }\n",
              "  </style>\n",
              "\n",
              "    <script>\n",
              "      const buttonEl =\n",
              "        document.querySelector('#df-cf0f5ef8-000c-4b5a-a612-8ed449ee887a button.colab-df-convert');\n",
              "      buttonEl.style.display =\n",
              "        google.colab.kernel.accessAllowed ? 'block' : 'none';\n",
              "\n",
              "      async function convertToInteractive(key) {\n",
              "        const element = document.querySelector('#df-cf0f5ef8-000c-4b5a-a612-8ed449ee887a');\n",
              "        const dataTable =\n",
              "          await google.colab.kernel.invokeFunction('convertToInteractive',\n",
              "                                                    [key], {});\n",
              "        if (!dataTable) return;\n",
              "\n",
              "        const docLinkHtml = 'Like what you see? Visit the ' +\n",
              "          '<a target=\"_blank\" href=https://colab.research.google.com/notebooks/data_table.ipynb>data table notebook</a>'\n",
              "          + ' to learn more about interactive tables.';\n",
              "        element.innerHTML = '';\n",
              "        dataTable['output_type'] = 'display_data';\n",
              "        await google.colab.output.renderOutput(dataTable, element);\n",
              "        const docLink = document.createElement('div');\n",
              "        docLink.innerHTML = docLinkHtml;\n",
              "        element.appendChild(docLink);\n",
              "      }\n",
              "    </script>\n",
              "  </div>\n",
              "\n",
              "\n",
              "<div id=\"df-4608f1f0-7484-45f4-a261-9b545304c00d\">\n",
              "  <button class=\"colab-df-quickchart\" onclick=\"quickchart('df-4608f1f0-7484-45f4-a261-9b545304c00d')\"\n",
              "            title=\"Suggest charts\"\n",
              "            style=\"display:none;\">\n",
              "\n",
              "<svg xmlns=\"http://www.w3.org/2000/svg\" height=\"24px\"viewBox=\"0 0 24 24\"\n",
              "     width=\"24px\">\n",
              "    <g>\n",
              "        <path d=\"M19 3H5c-1.1 0-2 .9-2 2v14c0 1.1.9 2 2 2h14c1.1 0 2-.9 2-2V5c0-1.1-.9-2-2-2zM9 17H7v-7h2v7zm4 0h-2V7h2v10zm4 0h-2v-4h2v4z\"/>\n",
              "    </g>\n",
              "</svg>\n",
              "  </button>\n",
              "\n",
              "<style>\n",
              "  .colab-df-quickchart {\n",
              "      --bg-color: #E8F0FE;\n",
              "      --fill-color: #1967D2;\n",
              "      --hover-bg-color: #E2EBFA;\n",
              "      --hover-fill-color: #174EA6;\n",
              "      --disabled-fill-color: #AAA;\n",
              "      --disabled-bg-color: #DDD;\n",
              "  }\n",
              "\n",
              "  [theme=dark] .colab-df-quickchart {\n",
              "      --bg-color: #3B4455;\n",
              "      --fill-color: #D2E3FC;\n",
              "      --hover-bg-color: #434B5C;\n",
              "      --hover-fill-color: #FFFFFF;\n",
              "      --disabled-bg-color: #3B4455;\n",
              "      --disabled-fill-color: #666;\n",
              "  }\n",
              "\n",
              "  .colab-df-quickchart {\n",
              "    background-color: var(--bg-color);\n",
              "    border: none;\n",
              "    border-radius: 50%;\n",
              "    cursor: pointer;\n",
              "    display: none;\n",
              "    fill: var(--fill-color);\n",
              "    height: 32px;\n",
              "    padding: 0;\n",
              "    width: 32px;\n",
              "  }\n",
              "\n",
              "  .colab-df-quickchart:hover {\n",
              "    background-color: var(--hover-bg-color);\n",
              "    box-shadow: 0 1px 2px rgba(60, 64, 67, 0.3), 0 1px 3px 1px rgba(60, 64, 67, 0.15);\n",
              "    fill: var(--button-hover-fill-color);\n",
              "  }\n",
              "\n",
              "  .colab-df-quickchart-complete:disabled,\n",
              "  .colab-df-quickchart-complete:disabled:hover {\n",
              "    background-color: var(--disabled-bg-color);\n",
              "    fill: var(--disabled-fill-color);\n",
              "    box-shadow: none;\n",
              "  }\n",
              "\n",
              "  .colab-df-spinner {\n",
              "    border: 2px solid var(--fill-color);\n",
              "    border-color: transparent;\n",
              "    border-bottom-color: var(--fill-color);\n",
              "    animation:\n",
              "      spin 1s steps(1) infinite;\n",
              "  }\n",
              "\n",
              "  @keyframes spin {\n",
              "    0% {\n",
              "      border-color: transparent;\n",
              "      border-bottom-color: var(--fill-color);\n",
              "      border-left-color: var(--fill-color);\n",
              "    }\n",
              "    20% {\n",
              "      border-color: transparent;\n",
              "      border-left-color: var(--fill-color);\n",
              "      border-top-color: var(--fill-color);\n",
              "    }\n",
              "    30% {\n",
              "      border-color: transparent;\n",
              "      border-left-color: var(--fill-color);\n",
              "      border-top-color: var(--fill-color);\n",
              "      border-right-color: var(--fill-color);\n",
              "    }\n",
              "    40% {\n",
              "      border-color: transparent;\n",
              "      border-right-color: var(--fill-color);\n",
              "      border-top-color: var(--fill-color);\n",
              "    }\n",
              "    60% {\n",
              "      border-color: transparent;\n",
              "      border-right-color: var(--fill-color);\n",
              "    }\n",
              "    80% {\n",
              "      border-color: transparent;\n",
              "      border-right-color: var(--fill-color);\n",
              "      border-bottom-color: var(--fill-color);\n",
              "    }\n",
              "    90% {\n",
              "      border-color: transparent;\n",
              "      border-bottom-color: var(--fill-color);\n",
              "    }\n",
              "  }\n",
              "</style>\n",
              "\n",
              "  <script>\n",
              "    async function quickchart(key) {\n",
              "      const quickchartButtonEl =\n",
              "        document.querySelector('#' + key + ' button');\n",
              "      quickchartButtonEl.disabled = true;  // To prevent multiple clicks.\n",
              "      quickchartButtonEl.classList.add('colab-df-spinner');\n",
              "      try {\n",
              "        const charts = await google.colab.kernel.invokeFunction(\n",
              "            'suggestCharts', [key], {});\n",
              "      } catch (error) {\n",
              "        console.error('Error during call to suggestCharts:', error);\n",
              "      }\n",
              "      quickchartButtonEl.classList.remove('colab-df-spinner');\n",
              "      quickchartButtonEl.classList.add('colab-df-quickchart-complete');\n",
              "    }\n",
              "    (() => {\n",
              "      let quickchartButtonEl =\n",
              "        document.querySelector('#df-4608f1f0-7484-45f4-a261-9b545304c00d button');\n",
              "      quickchartButtonEl.style.display =\n",
              "        google.colab.kernel.accessAllowed ? 'block' : 'none';\n",
              "    })();\n",
              "  </script>\n",
              "</div>\n",
              "\n",
              "    </div>\n",
              "  </div>\n"
            ]
          },
          "metadata": {},
          "execution_count": 71
        }
      ]
    },
    {
      "cell_type": "code",
      "source": [
        "# Criar um código que verifique as classificações que geraram texto fora do estipulado (hallucination)\n",
        "# chatgpt_preds[~chatgpt_preds.resp_pred.isin([\"person\", \"company\"])][[\"clean_name\", \"label\", \"resp_pred\"]].head(10)"
      ],
      "metadata": {
        "id": "rVpe2dJKRKRm"
      },
      "execution_count": null,
      "outputs": []
    },
    {
      "cell_type": "markdown",
      "source": [
        "### Classification"
      ],
      "metadata": {
        "id": "09uTIRku-kRi"
      }
    },
    {
      "cell_type": "markdown",
      "source": [
        "After choosing the best prompt in our validation dataset, we gonna apply it on test dataset with 2.000 samples.\n",
        "\n",
        "**Note:** As can be seen in the analysis above, the complaints have a median of 86 words and a text length with a median of 500 characters. Few texts exceed 2000 characters, for this reason, we will limit the text size to be passed to the model to this value on `limit_char` parameter."
      ],
      "metadata": {
        "id": "JKF6BRMcptsc"
      }
    },
    {
      "cell_type": "code",
      "source": [
        "# Run text classification\n",
        "iterate_over_interval(df=df, column=\"description\", prompt=prompt_dict[max_score_prompt],\n",
        "                      limit_char=2000, start_row=0, end_row=df.shape[0], save=True)"
      ],
      "metadata": {
        "id": "LqfD3bzLl01G",
        "colab": {
          "base_uri": "https://localhost:8080/"
        },
        "outputId": "feaf88c0-aa7b-4198-d6a0-733db88ca4f4"
      },
      "execution_count": null,
      "outputs": [
        {
          "output_type": "stream",
          "name": "stdout",
          "text": [
            "0:02:03 Analysis number 100\n",
            "0:04:08 Analysis number 200\n",
            "0:06:09 Analysis number 300\n",
            "0:08:11 Analysis number 400\n",
            "0:10:18 Analysis number 500\n",
            "0:12:20 Analysis number 600\n",
            "0:14:24 Analysis number 700\n",
            "0:16:27 Analysis number 800\n",
            "0:18:47 Analysis number 900\n"
          ]
        }
      ]
    },
    {
      "cell_type": "markdown",
      "source": [
        "## Results"
      ],
      "metadata": {
        "id": "nhuJNcTl-sXZ"
      }
    },
    {
      "cell_type": "code",
      "source": [
        "# Create binary classification columns\n",
        "binary_cols(df, 'llm_class')"
      ],
      "metadata": {
        "id": "lszAyhCcmR_p"
      },
      "execution_count": null,
      "outputs": []
    },
    {
      "cell_type": "code",
      "source": [
        "# Check the quantity os texts that weren't classified using at least one of tags\n",
        "unknow_tags = (df['llm_class_sum'] == 0).sum()\n",
        "print(f\"There are {unknow_tags} texts classified without using at least one of correct tags (hallucination).\")"
      ],
      "metadata": {
        "id": "Qwf4cEYi2ZV_"
      },
      "execution_count": null,
      "outputs": []
    },
    {
      "cell_type": "code",
      "source": [
        "# Get class quantity\n",
        "df_class = df[tags]\n",
        "class_qty = df_class.sum()\n",
        "\n",
        "chart_class = class_qty.sort_values(ascending=False)\n",
        "sns.barplot(x=chart_class.values, y=chart_class.index, orient='h', palette='Blues_r')\n",
        "plt.title('Class quantity');"
      ],
      "metadata": {
        "id": "kw7sj0SqklwY"
      },
      "execution_count": null,
      "outputs": []
    },
    {
      "cell_type": "code",
      "source": [
        "# Get frequency labels per category\n",
        "freq_matrix = round((df.groupby('problem')[tags].sum().T / df['problem'].value_counts().sort_index()), 2).T\n",
        "sns.heatmap(freq_matrix, annot=True, cmap='Blues')\n",
        "plt.title('Frequency Matrix of Tagged Problems');"
      ],
      "metadata": {
        "id": "l61F2lX_463l"
      },
      "execution_count": null,
      "outputs": []
    },
    {
      "cell_type": "markdown",
      "source": [
        "---"
      ],
      "metadata": {
        "id": "fUKGKT7JoNDS"
      }
    }
  ],
  "metadata": {
    "language_info": {
      "name": "python"
    },
    "orig_nbformat": 4,
    "colab": {
      "provenance": [],
      "toc_visible": true,
      "include_colab_link": true
    },
    "kernelspec": {
      "name": "python3",
      "display_name": "Python 3"
    }
  },
  "nbformat": 4,
  "nbformat_minor": 0
}