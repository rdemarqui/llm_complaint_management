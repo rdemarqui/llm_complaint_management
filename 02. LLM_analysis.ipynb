{
  "cells": [
    {
      "cell_type": "markdown",
      "metadata": {
        "id": "view-in-github",
        "colab_type": "text"
      },
      "source": [
        "<a href=\"https://colab.research.google.com/github/rdemarqui/llm_complaint_management/blob/main/02.%20LLM_analysis.ipynb\" target=\"_parent\"><img src=\"https://colab.research.google.com/assets/colab-badge.svg\" alt=\"Open In Colab\"/></a>"
      ]
    },
    {
      "cell_type": "markdown",
      "source": [
        "# LLM at Work: Decoding Customer Feedback"
      ],
      "metadata": {
        "id": "JdXiJzMm7ewB"
      }
    },
    {
      "cell_type": "markdown",
      "source": [
        "This study aims to explore these technological advancements, specifically using the advanced LLM tool Mistral 7B, to analyze a vast collection of complaints gathered from the website [reclameaqui.com.br](reclameaqui.com.br). Through this analysis, we intend to demonstrate the potential and effectiveness of LLMs in interpreting and handling large-scale user feedback.\n",
        "\n",
        "For more information, please visit my github page: https://github.com/rdemarqui/llm_complaint_management"
      ],
      "metadata": {
        "id": "1Ex4zf24D1-m"
      }
    },
    {
      "cell_type": "markdown",
      "source": [
        "## Complaint Dataset"
      ],
      "metadata": {
        "id": "e_s1QiOU98Rc"
      }
    },
    {
      "cell_type": "markdown",
      "source": [
        "### Load"
      ],
      "metadata": {
        "id": "kZWO80q3-PsC"
      }
    },
    {
      "cell_type": "code",
      "source": [
        "from IPython.display import clear_output\n",
        "import pandas as pd\n",
        "import matplotlib.pyplot as plt"
      ],
      "metadata": {
        "id": "tSvJsvLbHoQp"
      },
      "execution_count": 1,
      "outputs": []
    },
    {
      "cell_type": "code",
      "source": [
        "# Loading data\n",
        "data_url = 'https://raw.githubusercontent.com/rdemarqui/llm_complaint_management/main/datasets/full_dataset_claro.xlsx'\n",
        "df = pd.read_excel(data_url, usecols=['problem', 'description'])\n",
        "print(df.shape)"
      ],
      "metadata": {
        "id": "cduSRhNh4VB5",
        "outputId": "49562368-e934-4731-b8b1-cb925bd85437",
        "colab": {
          "base_uri": "https://localhost:8080/"
        }
      },
      "execution_count": 2,
      "outputs": [
        {
          "output_type": "stream",
          "name": "stdout",
          "text": [
            "(7000, 2)\n"
          ]
        }
      ]
    },
    {
      "cell_type": "markdown",
      "source": [
        "### Clean"
      ],
      "metadata": {
        "id": "pAx7QfsGBLfN"
      }
    },
    {
      "cell_type": "code",
      "source": [
        "# Remove extra space and uncase all words\n",
        "df['description'] = df['description'].str.replace(r'\\s{2,}', ' ', regex=True)\n",
        "df['description'] = df['description'].str.lower()\n",
        "df.head()"
      ],
      "metadata": {
        "id": "UmvxMuJuBOy7",
        "outputId": "981f5038-ff91-4430-a1b9-00715190ff25",
        "colab": {
          "base_uri": "https://localhost:8080/",
          "height": 206
        }
      },
      "execution_count": 3,
      "outputs": [
        {
          "output_type": "execute_result",
          "data": {
            "text/plain": [
              "             problem                                        description\n",
              "0  Cobrança indevida  recebi um e-mail spam com uma fatura no valor ...\n",
              "1  Cobrança indevida  compra não autoriza na meu cartão, chip de núm...\n",
              "2  Cobrança indevida  no dia 11 de outubro realizei uma recarga pelo...\n",
              "3  Cobrança indevida  segue o número de protocolo do atendimento rea...\n",
              "4  Cobrança indevida  fiz hoje dia 12/10/2023 uma recarga de celular..."
            ],
            "text/html": [
              "\n",
              "  <div id=\"df-1d5e5811-e224-46d6-8f38-a2149b77c7a6\" class=\"colab-df-container\">\n",
              "    <div>\n",
              "<style scoped>\n",
              "    .dataframe tbody tr th:only-of-type {\n",
              "        vertical-align: middle;\n",
              "    }\n",
              "\n",
              "    .dataframe tbody tr th {\n",
              "        vertical-align: top;\n",
              "    }\n",
              "\n",
              "    .dataframe thead th {\n",
              "        text-align: right;\n",
              "    }\n",
              "</style>\n",
              "<table border=\"1\" class=\"dataframe\">\n",
              "  <thead>\n",
              "    <tr style=\"text-align: right;\">\n",
              "      <th></th>\n",
              "      <th>problem</th>\n",
              "      <th>description</th>\n",
              "    </tr>\n",
              "  </thead>\n",
              "  <tbody>\n",
              "    <tr>\n",
              "      <th>0</th>\n",
              "      <td>Cobrança indevida</td>\n",
              "      <td>recebi um e-mail spam com uma fatura no valor ...</td>\n",
              "    </tr>\n",
              "    <tr>\n",
              "      <th>1</th>\n",
              "      <td>Cobrança indevida</td>\n",
              "      <td>compra não autoriza na meu cartão, chip de núm...</td>\n",
              "    </tr>\n",
              "    <tr>\n",
              "      <th>2</th>\n",
              "      <td>Cobrança indevida</td>\n",
              "      <td>no dia 11 de outubro realizei uma recarga pelo...</td>\n",
              "    </tr>\n",
              "    <tr>\n",
              "      <th>3</th>\n",
              "      <td>Cobrança indevida</td>\n",
              "      <td>segue o número de protocolo do atendimento rea...</td>\n",
              "    </tr>\n",
              "    <tr>\n",
              "      <th>4</th>\n",
              "      <td>Cobrança indevida</td>\n",
              "      <td>fiz hoje dia 12/10/2023 uma recarga de celular...</td>\n",
              "    </tr>\n",
              "  </tbody>\n",
              "</table>\n",
              "</div>\n",
              "    <div class=\"colab-df-buttons\">\n",
              "\n",
              "  <div class=\"colab-df-container\">\n",
              "    <button class=\"colab-df-convert\" onclick=\"convertToInteractive('df-1d5e5811-e224-46d6-8f38-a2149b77c7a6')\"\n",
              "            title=\"Convert this dataframe to an interactive table.\"\n",
              "            style=\"display:none;\">\n",
              "\n",
              "  <svg xmlns=\"http://www.w3.org/2000/svg\" height=\"24px\" viewBox=\"0 -960 960 960\">\n",
              "    <path d=\"M120-120v-720h720v720H120Zm60-500h600v-160H180v160Zm220 220h160v-160H400v160Zm0 220h160v-160H400v160ZM180-400h160v-160H180v160Zm440 0h160v-160H620v160ZM180-180h160v-160H180v160Zm440 0h160v-160H620v160Z\"/>\n",
              "  </svg>\n",
              "    </button>\n",
              "\n",
              "  <style>\n",
              "    .colab-df-container {\n",
              "      display:flex;\n",
              "      gap: 12px;\n",
              "    }\n",
              "\n",
              "    .colab-df-convert {\n",
              "      background-color: #E8F0FE;\n",
              "      border: none;\n",
              "      border-radius: 50%;\n",
              "      cursor: pointer;\n",
              "      display: none;\n",
              "      fill: #1967D2;\n",
              "      height: 32px;\n",
              "      padding: 0 0 0 0;\n",
              "      width: 32px;\n",
              "    }\n",
              "\n",
              "    .colab-df-convert:hover {\n",
              "      background-color: #E2EBFA;\n",
              "      box-shadow: 0px 1px 2px rgba(60, 64, 67, 0.3), 0px 1px 3px 1px rgba(60, 64, 67, 0.15);\n",
              "      fill: #174EA6;\n",
              "    }\n",
              "\n",
              "    .colab-df-buttons div {\n",
              "      margin-bottom: 4px;\n",
              "    }\n",
              "\n",
              "    [theme=dark] .colab-df-convert {\n",
              "      background-color: #3B4455;\n",
              "      fill: #D2E3FC;\n",
              "    }\n",
              "\n",
              "    [theme=dark] .colab-df-convert:hover {\n",
              "      background-color: #434B5C;\n",
              "      box-shadow: 0px 1px 3px 1px rgba(0, 0, 0, 0.15);\n",
              "      filter: drop-shadow(0px 1px 2px rgba(0, 0, 0, 0.3));\n",
              "      fill: #FFFFFF;\n",
              "    }\n",
              "  </style>\n",
              "\n",
              "    <script>\n",
              "      const buttonEl =\n",
              "        document.querySelector('#df-1d5e5811-e224-46d6-8f38-a2149b77c7a6 button.colab-df-convert');\n",
              "      buttonEl.style.display =\n",
              "        google.colab.kernel.accessAllowed ? 'block' : 'none';\n",
              "\n",
              "      async function convertToInteractive(key) {\n",
              "        const element = document.querySelector('#df-1d5e5811-e224-46d6-8f38-a2149b77c7a6');\n",
              "        const dataTable =\n",
              "          await google.colab.kernel.invokeFunction('convertToInteractive',\n",
              "                                                    [key], {});\n",
              "        if (!dataTable) return;\n",
              "\n",
              "        const docLinkHtml = 'Like what you see? Visit the ' +\n",
              "          '<a target=\"_blank\" href=https://colab.research.google.com/notebooks/data_table.ipynb>data table notebook</a>'\n",
              "          + ' to learn more about interactive tables.';\n",
              "        element.innerHTML = '';\n",
              "        dataTable['output_type'] = 'display_data';\n",
              "        await google.colab.output.renderOutput(dataTable, element);\n",
              "        const docLink = document.createElement('div');\n",
              "        docLink.innerHTML = docLinkHtml;\n",
              "        element.appendChild(docLink);\n",
              "      }\n",
              "    </script>\n",
              "  </div>\n",
              "\n",
              "\n",
              "<div id=\"df-af7690d6-c568-41e8-99bc-491ae57d1d6e\">\n",
              "  <button class=\"colab-df-quickchart\" onclick=\"quickchart('df-af7690d6-c568-41e8-99bc-491ae57d1d6e')\"\n",
              "            title=\"Suggest charts\"\n",
              "            style=\"display:none;\">\n",
              "\n",
              "<svg xmlns=\"http://www.w3.org/2000/svg\" height=\"24px\"viewBox=\"0 0 24 24\"\n",
              "     width=\"24px\">\n",
              "    <g>\n",
              "        <path d=\"M19 3H5c-1.1 0-2 .9-2 2v14c0 1.1.9 2 2 2h14c1.1 0 2-.9 2-2V5c0-1.1-.9-2-2-2zM9 17H7v-7h2v7zm4 0h-2V7h2v10zm4 0h-2v-4h2v4z\"/>\n",
              "    </g>\n",
              "</svg>\n",
              "  </button>\n",
              "\n",
              "<style>\n",
              "  .colab-df-quickchart {\n",
              "      --bg-color: #E8F0FE;\n",
              "      --fill-color: #1967D2;\n",
              "      --hover-bg-color: #E2EBFA;\n",
              "      --hover-fill-color: #174EA6;\n",
              "      --disabled-fill-color: #AAA;\n",
              "      --disabled-bg-color: #DDD;\n",
              "  }\n",
              "\n",
              "  [theme=dark] .colab-df-quickchart {\n",
              "      --bg-color: #3B4455;\n",
              "      --fill-color: #D2E3FC;\n",
              "      --hover-bg-color: #434B5C;\n",
              "      --hover-fill-color: #FFFFFF;\n",
              "      --disabled-bg-color: #3B4455;\n",
              "      --disabled-fill-color: #666;\n",
              "  }\n",
              "\n",
              "  .colab-df-quickchart {\n",
              "    background-color: var(--bg-color);\n",
              "    border: none;\n",
              "    border-radius: 50%;\n",
              "    cursor: pointer;\n",
              "    display: none;\n",
              "    fill: var(--fill-color);\n",
              "    height: 32px;\n",
              "    padding: 0;\n",
              "    width: 32px;\n",
              "  }\n",
              "\n",
              "  .colab-df-quickchart:hover {\n",
              "    background-color: var(--hover-bg-color);\n",
              "    box-shadow: 0 1px 2px rgba(60, 64, 67, 0.3), 0 1px 3px 1px rgba(60, 64, 67, 0.15);\n",
              "    fill: var(--button-hover-fill-color);\n",
              "  }\n",
              "\n",
              "  .colab-df-quickchart-complete:disabled,\n",
              "  .colab-df-quickchart-complete:disabled:hover {\n",
              "    background-color: var(--disabled-bg-color);\n",
              "    fill: var(--disabled-fill-color);\n",
              "    box-shadow: none;\n",
              "  }\n",
              "\n",
              "  .colab-df-spinner {\n",
              "    border: 2px solid var(--fill-color);\n",
              "    border-color: transparent;\n",
              "    border-bottom-color: var(--fill-color);\n",
              "    animation:\n",
              "      spin 1s steps(1) infinite;\n",
              "  }\n",
              "\n",
              "  @keyframes spin {\n",
              "    0% {\n",
              "      border-color: transparent;\n",
              "      border-bottom-color: var(--fill-color);\n",
              "      border-left-color: var(--fill-color);\n",
              "    }\n",
              "    20% {\n",
              "      border-color: transparent;\n",
              "      border-left-color: var(--fill-color);\n",
              "      border-top-color: var(--fill-color);\n",
              "    }\n",
              "    30% {\n",
              "      border-color: transparent;\n",
              "      border-left-color: var(--fill-color);\n",
              "      border-top-color: var(--fill-color);\n",
              "      border-right-color: var(--fill-color);\n",
              "    }\n",
              "    40% {\n",
              "      border-color: transparent;\n",
              "      border-right-color: var(--fill-color);\n",
              "      border-top-color: var(--fill-color);\n",
              "    }\n",
              "    60% {\n",
              "      border-color: transparent;\n",
              "      border-right-color: var(--fill-color);\n",
              "    }\n",
              "    80% {\n",
              "      border-color: transparent;\n",
              "      border-right-color: var(--fill-color);\n",
              "      border-bottom-color: var(--fill-color);\n",
              "    }\n",
              "    90% {\n",
              "      border-color: transparent;\n",
              "      border-bottom-color: var(--fill-color);\n",
              "    }\n",
              "  }\n",
              "</style>\n",
              "\n",
              "  <script>\n",
              "    async function quickchart(key) {\n",
              "      const quickchartButtonEl =\n",
              "        document.querySelector('#' + key + ' button');\n",
              "      quickchartButtonEl.disabled = true;  // To prevent multiple clicks.\n",
              "      quickchartButtonEl.classList.add('colab-df-spinner');\n",
              "      try {\n",
              "        const charts = await google.colab.kernel.invokeFunction(\n",
              "            'suggestCharts', [key], {});\n",
              "      } catch (error) {\n",
              "        console.error('Error during call to suggestCharts:', error);\n",
              "      }\n",
              "      quickchartButtonEl.classList.remove('colab-df-spinner');\n",
              "      quickchartButtonEl.classList.add('colab-df-quickchart-complete');\n",
              "    }\n",
              "    (() => {\n",
              "      let quickchartButtonEl =\n",
              "        document.querySelector('#df-af7690d6-c568-41e8-99bc-491ae57d1d6e button');\n",
              "      quickchartButtonEl.style.display =\n",
              "        google.colab.kernel.accessAllowed ? 'block' : 'none';\n",
              "    })();\n",
              "  </script>\n",
              "</div>\n",
              "\n",
              "    </div>\n",
              "  </div>\n"
            ]
          },
          "metadata": {},
          "execution_count": 3
        }
      ]
    },
    {
      "cell_type": "markdown",
      "source": [
        "### Analysis"
      ],
      "metadata": {
        "id": "RlSuXm0N-APD"
      }
    },
    {
      "cell_type": "code",
      "source": [
        "# Show each problem category\n",
        "df['problem'].value_counts()"
      ],
      "metadata": {
        "id": "trUhFZEarsl5",
        "outputId": "6fd2948f-445c-48c4-c15f-4d4078c67d9e",
        "colab": {
          "base_uri": "https://localhost:8080/"
        }
      },
      "execution_count": 17,
      "outputs": [
        {
          "output_type": "execute_result",
          "data": {
            "text/plain": [
              "Cobrança indevida                          500\n",
              "Planos e tarifas                           500\n",
              "Cancelamento                               500\n",
              "Portabilidade                              500\n",
              "Corte indevido da linha                    500\n",
              "Mudança de plano                           500\n",
              "Mau atendimento do prestador de serviço    500\n",
              "Consumo de crédito                         500\n",
              "Problemas com o chip                       500\n",
              "Promoções                                  500\n",
              "Qualidade da internet                      500\n",
              "Problema com recarga                       500\n",
              "Demora na execução                         500\n",
              "Instabilidade do sinal                     500\n",
              "Name: problem, dtype: int64"
            ]
          },
          "metadata": {},
          "execution_count": 17
        }
      ]
    },
    {
      "cell_type": "code",
      "source": [
        "# Count word distribution per complaint\n",
        "df['word_count'] = df['description'].str.split().str.len()\n",
        "\n",
        "plt.figure(figsize=(5, 3))\n",
        "plt.hist(df['word_count'], bins=20, edgecolor='black')\n",
        "plt.title('Word distribution')\n",
        "plt.xlabel('Word count')\n",
        "plt.ylabel('Frequency')\n",
        "plt.grid(True)\n",
        "plt.show()"
      ],
      "metadata": {
        "id": "5fCGxNFnCPD2",
        "outputId": "336e2ebb-8c58-4404-c4c4-ada20027cd2c",
        "colab": {
          "base_uri": "https://localhost:8080/",
          "height": 333
        }
      },
      "execution_count": 12,
      "outputs": [
        {
          "output_type": "display_data",
          "data": {
            "text/plain": [
              "<Figure size 500x300 with 1 Axes>"
            ],
            "image/png": "[encoded data removed]"
          },
          "metadata": {}
        }
      ]
    },
    {
      "cell_type": "code",
      "source": [
        "# Show statistics of words\n",
        "df['word_count'].describe()"
      ],
      "metadata": {
        "id": "G0gvCGaxsuBp",
        "outputId": "00fa97dd-e4ae-4364-ef39-4166a952d53d",
        "colab": {
          "base_uri": "https://localhost:8080/"
        }
      },
      "execution_count": 15,
      "outputs": [
        {
          "output_type": "execute_result",
          "data": {
            "text/plain": [
              "count    6998.000000\n",
              "mean      114.720349\n",
              "std        93.241045\n",
              "min         2.000000\n",
              "25%        54.000000\n",
              "50%        89.000000\n",
              "75%       146.000000\n",
              "max      1021.000000\n",
              "Name: word_count, dtype: float64"
            ]
          },
          "metadata": {},
          "execution_count": 15
        }
      ]
    },
    {
      "cell_type": "markdown",
      "source": [
        "## Text Classification"
      ],
      "metadata": {
        "id": "0pWtuhOjN6UU"
      }
    },
    {
      "cell_type": "markdown",
      "source": [
        "### Loading Model"
      ],
      "metadata": {
        "id": "ezJirXNkaeVC"
      }
    },
    {
      "cell_type": "markdown",
      "source": [
        "There are several 7B models available as open source, such as Mistral, Falcon, Zephyr, and Openchat. In this study, we will use Mistral, but feel free to test with other models, paying attention only to the instruction structure."
      ],
      "metadata": {
        "id": "5d_Rtp_pCVpv"
      }
    },
    {
      "cell_type": "code",
      "source": [
        "import time\n",
        "from datetime import timedelta\n",
        "from google.colab import files\n",
        "from IPython.display import clear_output"
      ],
      "metadata": {
        "id": "Bi0-tycumPr4"
      },
      "execution_count": null,
      "outputs": []
    },
    {
      "cell_type": "code",
      "source": [
        "# Latest HF transformers version for Mistral-like models\n",
        "!pip install git+https://github.com/huggingface/transformers.git\n",
        "\n",
        "# GPTQ Dependencies\n",
        "!pip install optimum #transformers\n",
        "!pip3 install auto-gptq --extra-index-url https://huggingface.github.io/autogptq-index/whl/cu118/  # Use cu117 if on CUDA 11.7\n",
        "\n",
        "clear_output()"
      ],
      "metadata": {
        "id": "NLHr_hhG0DyG"
      },
      "execution_count": null,
      "outputs": []
    },
    {
      "cell_type": "code",
      "source": [
        "from transformers import AutoModelForCausalLM, AutoTokenizer, pipeline"
      ],
      "metadata": {
        "id": "gJCc0MNL0D1A"
      },
      "execution_count": null,
      "outputs": []
    },
    {
      "cell_type": "code",
      "source": [
        "# Mistral revisions\n",
        "# main, gptq-4bit-32g-actorder_True\n",
        "# gptq-8bit--1g-actorder_True\n",
        "# gptq-8bit-128g-actorder_True\n",
        "# gptq-8bit-32g-actorder_True,\n",
        "# gptq-4bit-64g-actorder_True"
      ],
      "metadata": {
        "id": "qF5rTVAyNtxZ"
      },
      "execution_count": null,
      "outputs": []
    },
    {
      "cell_type": "code",
      "source": [
        "# Load LLM and Tokenizer\n",
        "model_id = \"TheBloke/Mistral-7B-Instruct-v0.2-GPTQ\"\n",
        "tokenizer = AutoTokenizer.from_pretrained(model_id, use_fast=True)\n",
        "\n",
        "model = AutoModelForCausalLM.from_pretrained(\n",
        "    model_id,\n",
        "    device_map=\"auto\",\n",
        "    trust_remote_code=False,\n",
        "    revision=\"main\"\n",
        "    #revision=\"gptq-4bit-32g-actorder_True\"\n",
        ")\n",
        "clear_output()"
      ],
      "metadata": {
        "id": "4HxNvdf90D4I"
      },
      "execution_count": null,
      "outputs": []
    },
    {
      "cell_type": "code",
      "source": [
        "# Create a pipeline\n",
        "generator = pipeline(model=model,\n",
        "                tokenizer=tokenizer,\n",
        "                task='text-generation',\n",
        "                max_new_tokens=50,\n",
        "                temperature=0.1,\n",
        "                do_sample=True\n",
        "                )\n",
        "clear_output()"
      ],
      "metadata": {
        "id": "aW5V7xEs3Vne"
      },
      "execution_count": null,
      "outputs": []
    },
    {
      "cell_type": "markdown",
      "source": [
        "### Prompt Engineering"
      ],
      "metadata": {
        "id": "LE5bdD4xai9x"
      }
    },
    {
      "cell_type": "markdown",
      "source": [
        "Prompt Guide:\n",
        "* https://www.promptingguide.ai/models/mistral-7b"
      ],
      "metadata": {
        "id": "xAqjCsmUSkzH"
      }
    },
    {
      "cell_type": "code",
      "source": [
        "# This is the footprint of your prompt. This will be replicated in all prompts\n",
        "footprint_prompt = \"\"\"\n",
        "[INST]\n",
        "Classifique a reclamação baseado em uma ou mais categorias abaixo:\n",
        "sinal/conexão de rede; cobrança indevida; consumo saldo/crédito; plano/benefício; furto/roubo; cancelamento; recuperar número/linha; chip/sim card; spam; portabilidade.\n",
        "\n",
        "Atenção use somente as categorias, não explique!\n",
        "\n",
        "Reclamação: {user_complain}\n",
        "[/INST]\"\"\""
      ],
      "metadata": {
        "id": "bZbLzNYlURgA"
      },
      "execution_count": null,
      "outputs": []
    },
    {
      "cell_type": "code",
      "source": [
        "# Example prompt\n",
        "compl = \"O meu celular está sempre sem barrinha de rede. Não pega em nunhum lugar!\"\n",
        "reason = \" sinal/conexão de rede\"\n",
        "example_prompt = \"<s>\" + footprint_prompt.format(user_complain=compl) + reason + \"</s>\""
      ],
      "metadata": {
        "id": "AHQyS8HrU-9a"
      },
      "execution_count": null,
      "outputs": []
    },
    {
      "cell_type": "code",
      "source": [
        "#prompt = footprint_prompt # zero shot\n",
        "prompt = example_prompt + footprint_prompt # one shot\n",
        "print(prompt)"
      ],
      "metadata": {
        "id": "i9X2kR5-SnMz",
        "colab": {
          "base_uri": "https://localhost:8080/"
        },
        "outputId": "1a6105b4-8d39-44bb-a224-7e6b71934965"
      },
      "execution_count": null,
      "outputs": [
        {
          "output_type": "stream",
          "name": "stdout",
          "text": [
            "<s>\n",
            "[INST]\n",
            "Classifique a reclamação baseado em uma ou mais categorias abaixo:\n",
            "sinal/conexão de rede; cobrança indevida; consumo saldo/crédito; plano/benefício; furto/roubo; cancelamento; recuperar número/linha; chip/sim card; spam; portabilidade.\n",
            "\n",
            "Atenção use somente as categorias, não explique!\n",
            "\n",
            "Reclamação: O meu celular está sempre sem barrinha de rede. Não pega em nunhum lugar!\n",
            "[/INST] sinal/conexão de rede</s>\n",
            "[INST]\n",
            "Classifique a reclamação baseado em uma ou mais categorias abaixo:\n",
            "sinal/conexão de rede; cobrança indevida; consumo saldo/crédito; plano/benefício; furto/roubo; cancelamento; recuperar número/linha; chip/sim card; spam; portabilidade.\n",
            "\n",
            "Atenção use somente as categorias, não explique!\n",
            "\n",
            "Reclamação: {user_complain}\n",
            "[/INST]\n"
          ]
        }
      ]
    },
    {
      "cell_type": "code",
      "source": [
        "def llm_analysis(complain):\n",
        "  response = generator(prompt.format(user_complain=complain))\n",
        "  llm_classification = response[0]['generated_text'].split('[/INST]')[-1][1:].replace('.', '')\n",
        "\n",
        "  return llm_classification"
      ],
      "metadata": {
        "id": "rLWWtjhppGl0"
      },
      "execution_count": null,
      "outputs": []
    },
    {
      "cell_type": "code",
      "source": [
        "# Example\n",
        "complain =\"\"\"\n",
        "Paguei a fatura na data correta e estou sendo indevidamente cobrado novamente pela mesma como se não tivesse pago e o que é pior cortaram meu sinal.\n",
        "\"\"\".lower()+'\\n'\n",
        "\n",
        "llm_analysis(complain)"
      ],
      "metadata": {
        "id": "YZjd_eAWdFVS"
      },
      "execution_count": null,
      "outputs": []
    },
    {
      "cell_type": "markdown",
      "source": [
        "### Classification"
      ],
      "metadata": {
        "id": "09uTIRku-kRi"
      }
    },
    {
      "cell_type": "code",
      "source": [
        "# Play an audio beep when the anaysis is complete\n",
        "from google.colab import output"
      ],
      "metadata": {
        "id": "LgTjiul5DgHu"
      },
      "execution_count": null,
      "outputs": []
    },
    {
      "cell_type": "markdown",
      "source": [
        "https://medium.com/@shivamrawat_756/how-to-prevent-google-colab-from-disconnecting-717b88a128c0\n",
        "\n",
        "F12 para abrir o inspetor, vá até a aba console, cole o código abaixo e pressione enter.\n",
        "\n",
        "`function ClickConnect(){\n",
        "    console.log(\"Working\");\n",
        "    document.querySelector(\"colab-connect-button\").click()\n",
        "}\n",
        "setInterval(ClickConnect,60000)`"
      ],
      "metadata": {
        "id": "ZERNC0giOUZJ"
      }
    },
    {
      "cell_type": "code",
      "source": [
        "def iterate_over_interval(df, column, limit_char, start_row, end_row, save_interval):\n",
        "  if start_row < 0 or end_row >= len(df):\n",
        "    raise ValueError(f\"Intervalo de linhas inválido. Limite do dataset: {len(df)-1}\")\n",
        "\n",
        "  line_count = 0\n",
        "\n",
        "  for index in range(start_row, end_row + 1):\n",
        "    complaint_content = str(df.loc[index, column]).lower()\n",
        "\n",
        "    # Limit text lengh\n",
        "    if len(complaint_content) > limit_char: complaint_content = complaint_content[:limit_char]+'\\n'\n",
        "\n",
        "    analysis = llm_analysis(complaint_content)\n",
        "    df.at[index, 'classificação'] = analysis\n",
        "\n",
        "    line_count += 1\n",
        "\n",
        "    # Save partial analisys\n",
        "    if line_count % save_interval == 0:\n",
        "      file_save = 'analise_reclamacao_' + str(start_row) + '_' + str(end_row) + '_' + str(index) + '.xlsx'\n",
        "      print(f\"Analise numero {line_count}. Salvando arquivo: {file_save}\")\n",
        "      df_analisys = df[['Protocolo', 'classificação']]\n",
        "      df_analisys.to_excel(file_save, index=False)\n",
        "      #files.download(file_save)\n",
        "      output.eval_js('new Audio(\"https://raw.githubusercontent.com/rdemarqui/studies/master/Metal-Gear-Solid-Alert-_Sound-Effect_.ogg\").play()')\n",
        "\n",
        "  # Save final result\n",
        "  file_save = 'analise_reclamacao_' + str(start_row) + '_' + str(end_row) + '_' + str(index) + '.xlsx'\n",
        "  print(f\"Analise numero {line_count}. Salvando arquivo: {file_save}\")\n",
        "  df_analisys = df[['Protocolo', 'classificação']]\n",
        "  df_analisys.to_excel(file_save, index=False)\n",
        "  output.eval_js('new Audio(\"https://raw.githubusercontent.com/rdemarqui/studies/master/Metal-Gear-Solid-Alert-_Sound-Effect_.ogg\").play()')"
      ],
      "metadata": {
        "id": "Wr9kWm_8lU-j"
      },
      "execution_count": null,
      "outputs": []
    },
    {
      "cell_type": "code",
      "source": [
        "start_time = time.time()\n",
        "\n",
        "iterate_over_interval(df=df, column=\"Conteúdo Reclamação\",\n",
        "                      limit_char=1700,\n",
        "                      start_row=457, end_row=3230,\n",
        "                      save_interval=500)\n",
        "\n",
        "end_time = time.time()\n",
        "delta_time = str(timedelta(seconds=end_time - start_time))\n",
        "print(f\"Execution: {delta_time}\")"
      ],
      "metadata": {
        "id": "LqfD3bzLl01G",
        "outputId": "b52d4c9f-3733-4fbb-aa8a-c2587d8d619a",
        "colab": {
          "base_uri": "https://localhost:8080/",
          "height": 146
        }
      },
      "execution_count": null,
      "outputs": [
        {
          "output_type": "stream",
          "name": "stdout",
          "text": [
            "Analise numero 500. Salvando arquivo: analise_reclamacao_457_3230_956.xlsx\n",
            "Analise numero 1000. Salvando arquivo: analise_reclamacao_457_3230_1456.xlsx\n",
            "Analise numero 1500. Salvando arquivo: analise_reclamacao_457_3230_1956.xlsx\n",
            "Analise numero 2000. Salvando arquivo: analise_reclamacao_457_3230_2456.xlsx\n",
            "Analise numero 2500. Salvando arquivo: analise_reclamacao_457_3230_2956.xlsx\n",
            "Analise numero 2774. Salvando arquivo: analise_reclamacao_457_3230_3230.xlsx\n",
            "Execution: 1:26:46.831932\n"
          ]
        }
      ]
    },
    {
      "cell_type": "markdown",
      "source": [
        "## Results"
      ],
      "metadata": {
        "id": "nhuJNcTl-sXZ"
      }
    },
    {
      "cell_type": "code",
      "source": [
        "df"
      ],
      "metadata": {
        "id": "Xi70Q3EDm77k"
      },
      "execution_count": null,
      "outputs": []
    },
    {
      "cell_type": "markdown",
      "source": [
        "---"
      ],
      "metadata": {
        "id": "fUKGKT7JoNDS"
      }
    }
  ],
  "metadata": {
    "language_info": {
      "name": "python"
    },
    "orig_nbformat": 4,
    "colab": {
      "provenance": [],
      "toc_visible": true,
      "include_colab_link": true
    },
    "kernelspec": {
      "name": "python3",
      "display_name": "Python 3"
    }
  },
  "nbformat": 4,
  "nbformat_minor": 0
}