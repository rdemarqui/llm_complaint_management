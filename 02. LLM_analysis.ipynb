{
  "cells": [
    {
      "cell_type": "markdown",
      "metadata": {
        "id": "view-in-github",
        "colab_type": "text"
      },
      "source": [
        "<a href=\"https://colab.research.google.com/github/rdemarqui/llm_complaint_management/blob/main/02.%20LLM_analysis.ipynb\" target=\"_parent\"><img src=\"https://colab.research.google.com/assets/colab-badge.svg\" alt=\"Open In Colab\"/></a>"
      ]
    },
    {
      "cell_type": "markdown",
      "source": [
        "# LLM at Work: Decoding Customer Feedback"
      ],
      "metadata": {
        "id": "JdXiJzMm7ewB"
      }
    },
    {
      "cell_type": "markdown",
      "source": [
        "This study aims to explore these technological advancements, specifically using the advanced LLM tool Mistral 7B, to analyze a vast collection of complaints gathered from the website [reclameaqui.com.br](reclameaqui.com.br). Through this analysis, we intend to demonstrate the potential and effectiveness of LLMs in interpreting and handling large-scale user feedback.\n",
        "\n",
        "For more information, please visit my github page: https://github.com/rdemarqui/llm_complaint_management"
      ],
      "metadata": {
        "id": "1Ex4zf24D1-m"
      }
    },
    {
      "cell_type": "markdown",
      "source": [
        "## Complaint Dataset"
      ],
      "metadata": {
        "id": "e_s1QiOU98Rc"
      }
    },
    {
      "cell_type": "markdown",
      "source": [
        "### Load"
      ],
      "metadata": {
        "id": "kZWO80q3-PsC"
      }
    },
    {
      "cell_type": "code",
      "source": [
        "import pandas as pd\n",
        "from sklearn.model_selection import train_test_split\n",
        "import seaborn as sns\n",
        "import warnings\n",
        "warnings.filterwarnings(\"ignore\", category=UserWarning)"
      ],
      "metadata": {
        "id": "tSvJsvLbHoQp"
      },
      "execution_count": 1,
      "outputs": []
    },
    {
      "cell_type": "code",
      "source": [
        "# Loading data\n",
        "data_url = 'https://raw.githubusercontent.com/rdemarqui/llm_complaint_management/main/datasets/full_dataset_claro.xlsx'\n",
        "data = pd.read_excel(data_url, usecols=['problem', 'description'])\n",
        "print(data.shape)"
      ],
      "metadata": {
        "id": "cduSRhNh4VB5",
        "outputId": "c2f75c8c-39a0-48ca-b128-93a35ae06500",
        "colab": {
          "base_uri": "https://localhost:8080/"
        }
      },
      "execution_count": 35,
      "outputs": [
        {
          "output_type": "stream",
          "name": "stdout",
          "text": [
            "(7000, 2)\n"
          ]
        }
      ]
    },
    {
      "cell_type": "markdown",
      "source": [
        "### Clean"
      ],
      "metadata": {
        "id": "pAx7QfsGBLfN"
      }
    },
    {
      "cell_type": "code",
      "source": [
        "# Remove extra space and uncase all words\n",
        "data['description'] = data['description'].astype(str)\n",
        "data['description'] = data['description'].str.replace(r'\\s{2,}', ' ', regex=True)\n",
        "data['description'] = data['description'].str.lower()"
      ],
      "metadata": {
        "id": "UmvxMuJuBOy7"
      },
      "execution_count": 36,
      "outputs": []
    },
    {
      "cell_type": "code",
      "source": [
        "# Modify mask made by reclame aqui\n",
        "def remove_mask(text):\n",
        "  return text.replace(\"[editado pelo reclame aqui]\", \"[mask]\")\n",
        "\n",
        "data['description'] = data['description'].apply(remove_mask)"
      ],
      "metadata": {
        "id": "mSHPHLv0JdLR"
      },
      "execution_count": 37,
      "outputs": []
    },
    {
      "cell_type": "markdown",
      "source": [
        "### Stratify"
      ],
      "metadata": {
        "id": "m7LKh33Oe5eu"
      }
    },
    {
      "cell_type": "markdown",
      "source": [
        "As this work is intended for study purposes, we will only work with a fraction of the data. With the infrastructure provided by the Colab free tier, I noticed that on average, Mistral 7B analyzes about 2,000 complaints per hour. Therefore, we will use this number of cases in our analysis. To do this, we will perform a stratified sample."
      ],
      "metadata": {
        "id": "qPR19OFje_TM"
      }
    },
    {
      "cell_type": "code",
      "source": [
        "# Get stratified data\n",
        "df, _ = train_test_split(data, train_size=2002, stratify=data['problem'], random_state=42)\n",
        "df.reset_index(inplace=True, drop=True)\n",
        "df.shape"
      ],
      "metadata": {
        "id": "KMLxpZ5hl4tu",
        "outputId": "c11fce58-9b6b-45f7-f463-248ff4968afd",
        "colab": {
          "base_uri": "https://localhost:8080/"
        }
      },
      "execution_count": 38,
      "outputs": [
        {
          "output_type": "execute_result",
          "data": {
            "text/plain": [
              "(2002, 2)"
            ]
          },
          "metadata": {},
          "execution_count": 38
        }
      ]
    },
    {
      "cell_type": "code",
      "source": [
        "df.head()"
      ],
      "metadata": {
        "id": "kximFpZZpSed",
        "outputId": "fd1bb8cf-0c38-450e-bfc8-c5e301c1fb44",
        "colab": {
          "base_uri": "https://localhost:8080/",
          "height": 206
        }
      },
      "execution_count": 39,
      "outputs": [
        {
          "output_type": "execute_result",
          "data": {
            "text/plain": [
              "                   problem                                        description\n",
              "0     Problemas com o chip  boa noite!!!fiz uma portabilidade da vivo para...\n",
              "1     Problemas com o chip  perdi meu celular e ao tentar solicitar um nov...\n",
              "2  Corte indevido da linha  é a segunda reclamação que estou fazendo e a c...\n",
              "3             Cancelamento  solicitei portabilidade da vivo para a claro p...\n",
              "4     Problemas com o chip  contratei este prezao celular, paguei 20,00 re..."
            ],
            "text/html": [
              "\n",
              "  <div id=\"df-dbc22611-840f-4b6d-8495-41b9a27be3d4\" class=\"colab-df-container\">\n",
              "    <div>\n",
              "<style scoped>\n",
              "    .dataframe tbody tr th:only-of-type {\n",
              "        vertical-align: middle;\n",
              "    }\n",
              "\n",
              "    .dataframe tbody tr th {\n",
              "        vertical-align: top;\n",
              "    }\n",
              "\n",
              "    .dataframe thead th {\n",
              "        text-align: right;\n",
              "    }\n",
              "</style>\n",
              "<table border=\"1\" class=\"dataframe\">\n",
              "  <thead>\n",
              "    <tr style=\"text-align: right;\">\n",
              "      <th></th>\n",
              "      <th>problem</th>\n",
              "      <th>description</th>\n",
              "    </tr>\n",
              "  </thead>\n",
              "  <tbody>\n",
              "    <tr>\n",
              "      <th>0</th>\n",
              "      <td>Problemas com o chip</td>\n",
              "      <td>boa noite!!!fiz uma portabilidade da vivo para...</td>\n",
              "    </tr>\n",
              "    <tr>\n",
              "      <th>1</th>\n",
              "      <td>Problemas com o chip</td>\n",
              "      <td>perdi meu celular e ao tentar solicitar um nov...</td>\n",
              "    </tr>\n",
              "    <tr>\n",
              "      <th>2</th>\n",
              "      <td>Corte indevido da linha</td>\n",
              "      <td>é a segunda reclamação que estou fazendo e a c...</td>\n",
              "    </tr>\n",
              "    <tr>\n",
              "      <th>3</th>\n",
              "      <td>Cancelamento</td>\n",
              "      <td>solicitei portabilidade da vivo para a claro p...</td>\n",
              "    </tr>\n",
              "    <tr>\n",
              "      <th>4</th>\n",
              "      <td>Problemas com o chip</td>\n",
              "      <td>contratei este prezao celular, paguei 20,00 re...</td>\n",
              "    </tr>\n",
              "  </tbody>\n",
              "</table>\n",
              "</div>\n",
              "    <div class=\"colab-df-buttons\">\n",
              "\n",
              "  <div class=\"colab-df-container\">\n",
              "    <button class=\"colab-df-convert\" onclick=\"convertToInteractive('df-dbc22611-840f-4b6d-8495-41b9a27be3d4')\"\n",
              "            title=\"Convert this dataframe to an interactive table.\"\n",
              "            style=\"display:none;\">\n",
              "\n",
              "  <svg xmlns=\"http://www.w3.org/2000/svg\" height=\"24px\" viewBox=\"0 -960 960 960\">\n",
              "    <path d=\"M120-120v-720h720v720H120Zm60-500h600v-160H180v160Zm220 220h160v-160H400v160Zm0 220h160v-160H400v160ZM180-400h160v-160H180v160Zm440 0h160v-160H620v160ZM180-180h160v-160H180v160Zm440 0h160v-160H620v160Z\"/>\n",
              "  </svg>\n",
              "    </button>\n",
              "\n",
              "  <style>\n",
              "    .colab-df-container {\n",
              "      display:flex;\n",
              "      gap: 12px;\n",
              "    }\n",
              "\n",
              "    .colab-df-convert {\n",
              "      background-color: #E8F0FE;\n",
              "      border: none;\n",
              "      border-radius: 50%;\n",
              "      cursor: pointer;\n",
              "      display: none;\n",
              "      fill: #1967D2;\n",
              "      height: 32px;\n",
              "      padding: 0 0 0 0;\n",
              "      width: 32px;\n",
              "    }\n",
              "\n",
              "    .colab-df-convert:hover {\n",
              "      background-color: #E2EBFA;\n",
              "      box-shadow: 0px 1px 2px rgba(60, 64, 67, 0.3), 0px 1px 3px 1px rgba(60, 64, 67, 0.15);\n",
              "      fill: #174EA6;\n",
              "    }\n",
              "\n",
              "    .colab-df-buttons div {\n",
              "      margin-bottom: 4px;\n",
              "    }\n",
              "\n",
              "    [theme=dark] .colab-df-convert {\n",
              "      background-color: #3B4455;\n",
              "      fill: #D2E3FC;\n",
              "    }\n",
              "\n",
              "    [theme=dark] .colab-df-convert:hover {\n",
              "      background-color: #434B5C;\n",
              "      box-shadow: 0px 1px 3px 1px rgba(0, 0, 0, 0.15);\n",
              "      filter: drop-shadow(0px 1px 2px rgba(0, 0, 0, 0.3));\n",
              "      fill: #FFFFFF;\n",
              "    }\n",
              "  </style>\n",
              "\n",
              "    <script>\n",
              "      const buttonEl =\n",
              "        document.querySelector('#df-dbc22611-840f-4b6d-8495-41b9a27be3d4 button.colab-df-convert');\n",
              "      buttonEl.style.display =\n",
              "        google.colab.kernel.accessAllowed ? 'block' : 'none';\n",
              "\n",
              "      async function convertToInteractive(key) {\n",
              "        const element = document.querySelector('#df-dbc22611-840f-4b6d-8495-41b9a27be3d4');\n",
              "        const dataTable =\n",
              "          await google.colab.kernel.invokeFunction('convertToInteractive',\n",
              "                                                    [key], {});\n",
              "        if (!dataTable) return;\n",
              "\n",
              "        const docLinkHtml = 'Like what you see? Visit the ' +\n",
              "          '<a target=\"_blank\" href=https://colab.research.google.com/notebooks/data_table.ipynb>data table notebook</a>'\n",
              "          + ' to learn more about interactive tables.';\n",
              "        element.innerHTML = '';\n",
              "        dataTable['output_type'] = 'display_data';\n",
              "        await google.colab.output.renderOutput(dataTable, element);\n",
              "        const docLink = document.createElement('div');\n",
              "        docLink.innerHTML = docLinkHtml;\n",
              "        element.appendChild(docLink);\n",
              "      }\n",
              "    </script>\n",
              "  </div>\n",
              "\n",
              "\n",
              "<div id=\"df-a886284a-0a66-4a2a-9805-a487c87344e8\">\n",
              "  <button class=\"colab-df-quickchart\" onclick=\"quickchart('df-a886284a-0a66-4a2a-9805-a487c87344e8')\"\n",
              "            title=\"Suggest charts\"\n",
              "            style=\"display:none;\">\n",
              "\n",
              "<svg xmlns=\"http://www.w3.org/2000/svg\" height=\"24px\"viewBox=\"0 0 24 24\"\n",
              "     width=\"24px\">\n",
              "    <g>\n",
              "        <path d=\"M19 3H5c-1.1 0-2 .9-2 2v14c0 1.1.9 2 2 2h14c1.1 0 2-.9 2-2V5c0-1.1-.9-2-2-2zM9 17H7v-7h2v7zm4 0h-2V7h2v10zm4 0h-2v-4h2v4z\"/>\n",
              "    </g>\n",
              "</svg>\n",
              "  </button>\n",
              "\n",
              "<style>\n",
              "  .colab-df-quickchart {\n",
              "      --bg-color: #E8F0FE;\n",
              "      --fill-color: #1967D2;\n",
              "      --hover-bg-color: #E2EBFA;\n",
              "      --hover-fill-color: #174EA6;\n",
              "      --disabled-fill-color: #AAA;\n",
              "      --disabled-bg-color: #DDD;\n",
              "  }\n",
              "\n",
              "  [theme=dark] .colab-df-quickchart {\n",
              "      --bg-color: #3B4455;\n",
              "      --fill-color: #D2E3FC;\n",
              "      --hover-bg-color: #434B5C;\n",
              "      --hover-fill-color: #FFFFFF;\n",
              "      --disabled-bg-color: #3B4455;\n",
              "      --disabled-fill-color: #666;\n",
              "  }\n",
              "\n",
              "  .colab-df-quickchart {\n",
              "    background-color: var(--bg-color);\n",
              "    border: none;\n",
              "    border-radius: 50%;\n",
              "    cursor: pointer;\n",
              "    display: none;\n",
              "    fill: var(--fill-color);\n",
              "    height: 32px;\n",
              "    padding: 0;\n",
              "    width: 32px;\n",
              "  }\n",
              "\n",
              "  .colab-df-quickchart:hover {\n",
              "    background-color: var(--hover-bg-color);\n",
              "    box-shadow: 0 1px 2px rgba(60, 64, 67, 0.3), 0 1px 3px 1px rgba(60, 64, 67, 0.15);\n",
              "    fill: var(--button-hover-fill-color);\n",
              "  }\n",
              "\n",
              "  .colab-df-quickchart-complete:disabled,\n",
              "  .colab-df-quickchart-complete:disabled:hover {\n",
              "    background-color: var(--disabled-bg-color);\n",
              "    fill: var(--disabled-fill-color);\n",
              "    box-shadow: none;\n",
              "  }\n",
              "\n",
              "  .colab-df-spinner {\n",
              "    border: 2px solid var(--fill-color);\n",
              "    border-color: transparent;\n",
              "    border-bottom-color: var(--fill-color);\n",
              "    animation:\n",
              "      spin 1s steps(1) infinite;\n",
              "  }\n",
              "\n",
              "  @keyframes spin {\n",
              "    0% {\n",
              "      border-color: transparent;\n",
              "      border-bottom-color: var(--fill-color);\n",
              "      border-left-color: var(--fill-color);\n",
              "    }\n",
              "    20% {\n",
              "      border-color: transparent;\n",
              "      border-left-color: var(--fill-color);\n",
              "      border-top-color: var(--fill-color);\n",
              "    }\n",
              "    30% {\n",
              "      border-color: transparent;\n",
              "      border-left-color: var(--fill-color);\n",
              "      border-top-color: var(--fill-color);\n",
              "      border-right-color: var(--fill-color);\n",
              "    }\n",
              "    40% {\n",
              "      border-color: transparent;\n",
              "      border-right-color: var(--fill-color);\n",
              "      border-top-color: var(--fill-color);\n",
              "    }\n",
              "    60% {\n",
              "      border-color: transparent;\n",
              "      border-right-color: var(--fill-color);\n",
              "    }\n",
              "    80% {\n",
              "      border-color: transparent;\n",
              "      border-right-color: var(--fill-color);\n",
              "      border-bottom-color: var(--fill-color);\n",
              "    }\n",
              "    90% {\n",
              "      border-color: transparent;\n",
              "      border-bottom-color: var(--fill-color);\n",
              "    }\n",
              "  }\n",
              "</style>\n",
              "\n",
              "  <script>\n",
              "    async function quickchart(key) {\n",
              "      const quickchartButtonEl =\n",
              "        document.querySelector('#' + key + ' button');\n",
              "      quickchartButtonEl.disabled = true;  // To prevent multiple clicks.\n",
              "      quickchartButtonEl.classList.add('colab-df-spinner');\n",
              "      try {\n",
              "        const charts = await google.colab.kernel.invokeFunction(\n",
              "            'suggestCharts', [key], {});\n",
              "      } catch (error) {\n",
              "        console.error('Error during call to suggestCharts:', error);\n",
              "      }\n",
              "      quickchartButtonEl.classList.remove('colab-df-spinner');\n",
              "      quickchartButtonEl.classList.add('colab-df-quickchart-complete');\n",
              "    }\n",
              "    (() => {\n",
              "      let quickchartButtonEl =\n",
              "        document.querySelector('#df-a886284a-0a66-4a2a-9805-a487c87344e8 button');\n",
              "      quickchartButtonEl.style.display =\n",
              "        google.colab.kernel.accessAllowed ? 'block' : 'none';\n",
              "    })();\n",
              "  </script>\n",
              "</div>\n",
              "\n",
              "    </div>\n",
              "  </div>\n"
            ]
          },
          "metadata": {},
          "execution_count": 39
        }
      ]
    },
    {
      "cell_type": "markdown",
      "source": [
        "### Analysis"
      ],
      "metadata": {
        "id": "RlSuXm0N-APD"
      }
    },
    {
      "cell_type": "code",
      "source": [
        "# Show each problem category\n",
        "df['problem'].value_counts()"
      ],
      "metadata": {
        "colab": {
          "base_uri": "https://localhost:8080/"
        },
        "id": "trUhFZEarsl5",
        "outputId": "a80f6480-8657-406b-954f-4b124c365b31"
      },
      "execution_count": 40,
      "outputs": [
        {
          "output_type": "execute_result",
          "data": {
            "text/plain": [
              "Problemas com o chip                       143\n",
              "Corte indevido da linha                    143\n",
              "Cancelamento                               143\n",
              "Problema com recarga                       143\n",
              "Planos e tarifas                           143\n",
              "Mudança de plano                           143\n",
              "Promoções                                  143\n",
              "Qualidade da internet                      143\n",
              "Consumo de crédito                         143\n",
              "Instabilidade do sinal                     143\n",
              "Demora na execução                         143\n",
              "Cobrança indevida                          143\n",
              "Portabilidade                              143\n",
              "Mau atendimento do prestador de serviço    143\n",
              "Name: problem, dtype: int64"
            ]
          },
          "metadata": {},
          "execution_count": 40
        }
      ]
    },
    {
      "cell_type": "code",
      "source": [
        "# Show statistics of words\n",
        "df['word_count'] = df['description'].str.split().str.len()\n",
        "df['text_len'] = df['description'].str.len()\n",
        "df['word_count'].describe()"
      ],
      "metadata": {
        "colab": {
          "base_uri": "https://localhost:8080/"
        },
        "id": "G0gvCGaxsuBp",
        "outputId": "d0890aeb-f0a2-4063-ec6b-2702c5c16972"
      },
      "execution_count": 41,
      "outputs": [
        {
          "output_type": "execute_result",
          "data": {
            "text/plain": [
              "count    2002.00000\n",
              "mean      110.19031\n",
              "std        85.71323\n",
              "min         1.00000\n",
              "25%        53.00000\n",
              "50%        86.00000\n",
              "75%       143.00000\n",
              "max       747.00000\n",
              "Name: word_count, dtype: float64"
            ]
          },
          "metadata": {},
          "execution_count": 41
        }
      ]
    },
    {
      "cell_type": "code",
      "source": [
        "# Check correlation between word count and text lenght\n",
        "sns.jointplot(data=df, x=\"text_len\", y=\"word_count\", height=5);"
      ],
      "metadata": {
        "colab": {
          "base_uri": "https://localhost:8080/",
          "height": 506
        },
        "id": "MkntXCdLAprF",
        "outputId": "6a5f8f07-0b89-487d-8feb-38df80a4c034"
      },
      "execution_count": 42,
      "outputs": [
        {
          "output_type": "display_data",
          "data": {
            "text/plain": [
              "<Figure size 500x500 with 3 Axes>"
            ],
            "image/png": "[encoded data removed]"
          },
          "metadata": {}
        }
      ]
    },
    {
      "cell_type": "code",
      "source": [
        "# Check word median per category\n",
        "df.groupby('problem')['word_count'].median()"
      ],
      "metadata": {
        "colab": {
          "base_uri": "https://localhost:8080/"
        },
        "id": "GoZe2yuG9B4u",
        "outputId": "b119c53d-eede-44b4-c525-d84846b374c6"
      },
      "execution_count": 43,
      "outputs": [
        {
          "output_type": "execute_result",
          "data": {
            "text/plain": [
              "problem\n",
              "Cancelamento                                95.0\n",
              "Cobrança indevida                          113.0\n",
              "Consumo de crédito                          83.0\n",
              "Corte indevido da linha                    106.0\n",
              "Demora na execução                          82.0\n",
              "Instabilidade do sinal                      67.0\n",
              "Mau atendimento do prestador de serviço     92.0\n",
              "Mudança de plano                            96.0\n",
              "Planos e tarifas                            98.0\n",
              "Portabilidade                               99.0\n",
              "Problema com recarga                        73.0\n",
              "Problemas com o chip                        90.0\n",
              "Promoções                                   63.0\n",
              "Qualidade da internet                       74.0\n",
              "Name: word_count, dtype: float64"
            ]
          },
          "metadata": {},
          "execution_count": 43
        }
      ]
    },
    {
      "cell_type": "markdown",
      "source": [
        "## Text Classification"
      ],
      "metadata": {
        "id": "0pWtuhOjN6UU"
      }
    },
    {
      "cell_type": "markdown",
      "source": [
        "### Loading Model"
      ],
      "metadata": {
        "id": "ezJirXNkaeVC"
      }
    },
    {
      "cell_type": "markdown",
      "source": [
        "There are several 7B models available as open source, such as Mistral, Falcon, Zephyr, and Openchat. In this study we will use Mistral, but other models can also be tested, just paying attention to adapting the instruction structure."
      ],
      "metadata": {
        "id": "5d_Rtp_pCVpv"
      }
    },
    {
      "cell_type": "code",
      "source": [
        "import time\n",
        "from datetime import timedelta\n",
        "from google.colab import files\n",
        "from IPython.display import clear_output"
      ],
      "metadata": {
        "id": "Bi0-tycumPr4"
      },
      "execution_count": 12,
      "outputs": []
    },
    {
      "cell_type": "code",
      "source": [
        "# Latest HF transformers version for Mistral-like models\n",
        "!pip install git+https://github.com/huggingface/transformers.git\n",
        "\n",
        "# GPTQ Dependencies\n",
        "!pip install optimum\n",
        "!pip3 install auto-gptq --extra-index-url https://huggingface.github.io/autogptq-index/whl/cu118/  # Use cu117 if on CUDA 11.7\n",
        "\n",
        "clear_output()"
      ],
      "metadata": {
        "id": "NLHr_hhG0DyG"
      },
      "execution_count": 13,
      "outputs": []
    },
    {
      "cell_type": "code",
      "source": [
        "from transformers import AutoModelForCausalLM, AutoTokenizer, pipeline"
      ],
      "metadata": {
        "id": "gJCc0MNL0D1A"
      },
      "execution_count": 14,
      "outputs": []
    },
    {
      "cell_type": "markdown",
      "source": [
        "We will use the pre-trained Mistral 7B model, quantized by the user TheBloke and available at https://huggingface.co/TheBloke/Mistral-7B-Instruct-v0.2-GPTQ.\n",
        "\n",
        "For more information on quantization, there is an excellent article written by Maxime Labonne:\n",
        "* https://towardsdatascience.com/introduction-to-weight-quantization-2494701b9c0c"
      ],
      "metadata": {
        "id": "LNrC6Je7DLJ_"
      }
    },
    {
      "cell_type": "code",
      "source": [
        "# Load LLM and Tokenizer\n",
        "model_id = \"TheBloke/Mistral-7B-Instruct-v0.2-GPTQ\"\n",
        "tokenizer = AutoTokenizer.from_pretrained(model_id, use_fast=True)\n",
        "\n",
        "model = AutoModelForCausalLM.from_pretrained(\n",
        "    model_id,\n",
        "    device_map=\"auto\",\n",
        "    trust_remote_code=False,\n",
        "    revision=\"main\"\n",
        ")\n",
        "clear_output()"
      ],
      "metadata": {
        "id": "4HxNvdf90D4I"
      },
      "execution_count": 15,
      "outputs": []
    },
    {
      "cell_type": "code",
      "source": [
        "# Create a pipeline\n",
        "generator = pipeline(model=model,\n",
        "                tokenizer=tokenizer,\n",
        "                task='text-generation',\n",
        "                max_new_tokens=50,\n",
        "                temperature=0.20,\n",
        "                do_sample=True\n",
        "                )\n",
        "clear_output()"
      ],
      "metadata": {
        "id": "aW5V7xEs3Vne"
      },
      "execution_count": 16,
      "outputs": []
    },
    {
      "cell_type": "markdown",
      "source": [
        "### Prompt Engineering"
      ],
      "metadata": {
        "id": "LE5bdD4xai9x"
      }
    },
    {
      "cell_type": "markdown",
      "source": [
        "Prompt Guide:\n",
        "* https://www.promptingguide.ai/models/mistral-7b"
      ],
      "metadata": {
        "id": "xAqjCsmUSkzH"
      }
    },
    {
      "cell_type": "code",
      "source": [
        "few_shot = \"\"\"\n",
        "<s>\n",
        "[INST]\n",
        "Reclamação: A cobertura é ruim e minha fatura está incorreta!\n",
        "Tarefa: Classifique a reclamação acima.\n",
        "[/INST] sinal/conexão de rede; cobrança indevida\n",
        "[INST]\n",
        "Reclamação: Recebo muitas mensagens de propaganda.\n",
        "Tarefa: Classifique a reclamação acima.\n",
        "[/INST] spam\n",
        "</s>\n",
        "\"\"\""
      ],
      "metadata": {
        "id": "qCAt9vT7q_zf"
      },
      "execution_count": null,
      "outputs": []
    },
    {
      "cell_type": "code",
      "source": [
        "# This is the footprint of your prompt. This will be replicated in all prompts\n",
        "prompt_footprint = \"\"\"[INST]\n",
        "Reclamação: {user_complain}\n",
        "Tarefa: Classifique a reclamação acima baseado em uma ou mais categorias abaixo.\n",
        "sinal/conexão de rede; cobrança indevida; consumo saldo/crédito; plano/benefício; cancelar linha/plano; recuperar número/linha; chip/sim card; spam; portabilidade; recarga/pagamento; atendimento ineficiente\n",
        "\n",
        "Atenção use apenas as categorias, não explique!\n",
        "[/INST]\"\"\""
      ],
      "metadata": {
        "id": "bZbLzNYlURgA"
      },
      "execution_count": 83,
      "outputs": []
    },
    {
      "cell_type": "code",
      "source": [
        "# Build the prompt\n",
        "prompt = few_shot + prompt_footprint\n",
        "print(prompt)"
      ],
      "metadata": {
        "id": "i9X2kR5-SnMz",
        "colab": {
          "base_uri": "https://localhost:8080/"
        },
        "outputId": "b37a014c-5123-4aab-9584-6b6cd44c7e51"
      },
      "execution_count": 84,
      "outputs": [
        {
          "output_type": "stream",
          "name": "stdout",
          "text": [
            "\n",
            "<s>\n",
            "[INST]\n",
            "Reclamação: A cobertura é ruim. Minha fatura está incorreta!\n",
            "Tarefa: Classifique a reclamação acima.\n",
            "[/INST] sinal/conexão de rede; cobrança indevida\n",
            "[INST]\n",
            "Reclamação: Não consigo falar com a atendente.\n",
            "Tarefa: Classifique a reclamação acima.\n",
            "[/INST] atendimento ineficiente\n",
            "</s>\n",
            "[INST]\n",
            "Reclamação: {user_complain}\n",
            "Tarefa: Classifique a reclamação acima baseado em uma ou mais categorias abaixo.\n",
            "sinal/conexão de rede; cobrança indevida; consumo saldo/crédito; plano/benefício; cancelar linha/plano; recuperar número/linha; chip/sim card; spam; portabilidade; recarga/pagamento; atendimento ineficiente\n",
            "\n",
            "Atenção use apenas as categorias, não explique!\n",
            "[/INST]\n"
          ]
        }
      ]
    },
    {
      "cell_type": "code",
      "source": [
        "def llm_analysis(complain):\n",
        "  response = generator(prompt.format(user_complain=complain))\n",
        "  llm_classification = response[0]['generated_text'].split('[/INST]')[-1][1:].replace('.', '').split('\\n')[0]\n",
        "\n",
        "  return llm_classification"
      ],
      "metadata": {
        "id": "rLWWtjhppGl0"
      },
      "execution_count": 85,
      "outputs": []
    },
    {
      "cell_type": "code",
      "source": [
        "# Example\n",
        "example =\"\"\"\n",
        "em novembro de 2022 recebi uma propaganda com oferta da claro, anunciando um plano para celular conforme mostrado no print anexado. segundo o anúncio, caso eu colocasse o pagamento em débito automático, o plano que era no valor de r$49,90 ficaria por r$34,90.eu assinei o plano e coloquei em débito automático na minha conta do banco do brasil. no mês de dezembro/2022 o valor cobrado no débito automático foi de r$35,70. em janeiro e fevereiro/2023 o valor cobrado subiu para r$44,90.gostaria que a claro cumprisse com o que foi anunciado, cobrando r$34,90 e ressarcisse os valores que foram cobrados a mais nos 2 meses citados. seguem os comprovantes do anúncio, da confirmação da contratação e de um dos meses que o valor foi cobrado indevidamente, pois aqui no site não consigo anexar mais do que 3 arquivos. porém tenho o print do mês de fevereiro também.\n",
        "\"\"\".lower()\n",
        "\n",
        "analysis = llm_analysis(example)\n",
        "print(analysis)"
      ],
      "metadata": {
        "id": "YZjd_eAWdFVS",
        "colab": {
          "base_uri": "https://localhost:8080/"
        },
        "outputId": "545f1847-8c20-4ac0-87cd-f3ff376f1660"
      },
      "execution_count": 86,
      "outputs": [
        {
          "output_type": "stream",
          "name": "stdout",
          "text": [
            "cobrança indevida; plano/benefício; atendimento ineficiente\n"
          ]
        }
      ]
    },
    {
      "cell_type": "markdown",
      "source": [
        "### Classification"
      ],
      "metadata": {
        "id": "09uTIRku-kRi"
      }
    },
    {
      "cell_type": "markdown",
      "source": [
        "**Note:** Depending on the amount of data, the classification process can take a few hours. Using the model described above and utilizing the free tier infrastructure of Colab, I noticed that Mistral takes about an hour to classify 2,000 cases.\n",
        "\n",
        "Colab tends to disconnect due to inactivity. To prevent this, open your browser's inspector, go to the console tab, paste the code below, and press enter.\n",
        "\n",
        "`function ClickConnect(){\n",
        "    console.log(\"Working\");\n",
        "    document.querySelector(\"colab-connect-button\").click()\n",
        "}\n",
        "setInterval(ClickConnect,60000)`"
      ],
      "metadata": {
        "id": "ZERNC0giOUZJ"
      }
    },
    {
      "cell_type": "code",
      "source": [
        "def iterate_over_interval(df, column, limit_char, start_row, end_row):\n",
        "  for index in range(start_row, end_row + 1):\n",
        "    complaint_content = str(df.loc[index, column]).lower()\n",
        "\n",
        "    # Limit text lengh\n",
        "    if len(complaint_content) > limit_char: complaint_content = complaint_content[:limit_char]+'\\n'\n",
        "\n",
        "    #print(prompt.format(user_complain=complaint_content))  # check prompt\n",
        "\n",
        "    # Text analysis\n",
        "    analysis = llm_analysis(complaint_content)\n",
        "    df.at[index, 'llm_class'] = analysis\n",
        "\n",
        "  # Save final result\n",
        "  file_save = 'analise_reclamacao_' + str(start_row) + '_' + str(end_row) + '.xlsx'\n",
        "  df.to_excel(file_save, index=False)"
      ],
      "metadata": {
        "id": "Wr9kWm_8lU-j"
      },
      "execution_count": 88,
      "outputs": []
    },
    {
      "cell_type": "markdown",
      "source": [
        "**Note:** As can be seen in the analysis above, the complaints have a median of 86 words and a text length with a median of 500 characters. Few texts exceed 2000 characters, for this reason, we will limit the text size to be passed to the model to this value."
      ],
      "metadata": {
        "id": "JKF6BRMcptsc"
      }
    },
    {
      "cell_type": "code",
      "source": [
        "start_time = time.time()\n",
        "\n",
        "iterate_over_interval(df=df, column=\"description\",\n",
        "                      limit_char=2000,\n",
        "                      start_row=0, end_row=100)\n",
        "\n",
        "end_time = time.time()\n",
        "delta_time = str(timedelta(seconds=end_time - start_time))\n",
        "print(f\"Execution: {delta_time}\")"
      ],
      "metadata": {
        "id": "LqfD3bzLl01G"
      },
      "execution_count": null,
      "outputs": []
    },
    {
      "cell_type": "markdown",
      "source": [
        "## Results"
      ],
      "metadata": {
        "id": "nhuJNcTl-sXZ"
      }
    },
    {
      "cell_type": "code",
      "source": [
        "df"
      ],
      "metadata": {
        "id": "YWwR24NAv7ut",
        "outputId": "a2fd853f-f96d-4fab-a26d-7b6d529f35a0",
        "colab": {
          "base_uri": "https://localhost:8080/",
          "height": 423
        }
      },
      "execution_count": 81,
      "outputs": [
        {
          "output_type": "execute_result",
          "data": {
            "text/plain": [
              "                      problem  \\\n",
              "0        Problemas com o chip   \n",
              "1        Problemas com o chip   \n",
              "2     Corte indevido da linha   \n",
              "3                Cancelamento   \n",
              "4        Problemas com o chip   \n",
              "...                       ...   \n",
              "1997     Problemas com o chip   \n",
              "1998         Mudança de plano   \n",
              "1999             Cancelamento   \n",
              "2000    Qualidade da internet   \n",
              "2001  Corte indevido da linha   \n",
              "\n",
              "                                            description  word_count  text_len  \\\n",
              "0     boa noite!!!fiz uma portabilidade da vivo para...         203      1155   \n",
              "1     perdi meu celular e ao tentar solicitar um nov...          66       367   \n",
              "2     é a segunda reclamação que estou fazendo e a c...          32       185   \n",
              "3     solicitei portabilidade da vivo para a claro p...         136       752   \n",
              "4     contratei este prezao celular, paguei 20,00 re...          13        80   \n",
              "...                                                 ...         ...       ...   \n",
              "1997  comprei um chip da claro no dia 13/07/22, a ve...         108       631   \n",
              "1998  em dezembro de 2022 a claro me ligou e me ofer...         173       961   \n",
              "1999  no dia 27/05/23 a claro me ofereceu um upgrade...         368      2210   \n",
              "2000  perdi meu celular, comprei novo chip fiz a tro...         118       616   \n",
              "2001  ontem dia 15/08 houve a queda de energia em bo...         401      2341   \n",
              "\n",
              "                                              llm_class  \n",
              "0     chip/sim card; cobrança indevida; atendimento ...  \n",
              "1         cancelar linha/plano; atendimento ineficiente  \n",
              "2        sinal/conexão de rede; atendimento ineficiente  \n",
              "3     sinal/conexão de rede; cobrança indevida; plan...  \n",
              "4     chip/sim card; cancelar linha/plano; cobrança ...  \n",
              "...                                                 ...  \n",
              "1997                                                NaN  \n",
              "1998                                                NaN  \n",
              "1999                                                NaN  \n",
              "2000                                                NaN  \n",
              "2001                                                NaN  \n",
              "\n",
              "[2002 rows x 5 columns]"
            ],
            "text/html": [
              "\n",
              "  <div id=\"df-64300e4a-17ed-4a31-ab50-b5a6149da0eb\" class=\"colab-df-container\">\n",
              "    <div>\n",
              "<style scoped>\n",
              "    .dataframe tbody tr th:only-of-type {\n",
              "        vertical-align: middle;\n",
              "    }\n",
              "\n",
              "    .dataframe tbody tr th {\n",
              "        vertical-align: top;\n",
              "    }\n",
              "\n",
              "    .dataframe thead th {\n",
              "        text-align: right;\n",
              "    }\n",
              "</style>\n",
              "<table border=\"1\" class=\"dataframe\">\n",
              "  <thead>\n",
              "    <tr style=\"text-align: right;\">\n",
              "      <th></th>\n",
              "      <th>problem</th>\n",
              "      <th>description</th>\n",
              "      <th>word_count</th>\n",
              "      <th>text_len</th>\n",
              "      <th>llm_class</th>\n",
              "    </tr>\n",
              "  </thead>\n",
              "  <tbody>\n",
              "    <tr>\n",
              "      <th>0</th>\n",
              "      <td>Problemas com o chip</td>\n",
              "      <td>boa noite!!!fiz uma portabilidade da vivo para...</td>\n",
              "      <td>203</td>\n",
              "      <td>1155</td>\n",
              "      <td>chip/sim card; cobrança indevida; atendimento ...</td>\n",
              "    </tr>\n",
              "    <tr>\n",
              "      <th>1</th>\n",
              "      <td>Problemas com o chip</td>\n",
              "      <td>perdi meu celular e ao tentar solicitar um nov...</td>\n",
              "      <td>66</td>\n",
              "      <td>367</td>\n",
              "      <td>cancelar linha/plano; atendimento ineficiente</td>\n",
              "    </tr>\n",
              "    <tr>\n",
              "      <th>2</th>\n",
              "      <td>Corte indevido da linha</td>\n",
              "      <td>é a segunda reclamação que estou fazendo e a c...</td>\n",
              "      <td>32</td>\n",
              "      <td>185</td>\n",
              "      <td>sinal/conexão de rede; atendimento ineficiente</td>\n",
              "    </tr>\n",
              "    <tr>\n",
              "      <th>3</th>\n",
              "      <td>Cancelamento</td>\n",
              "      <td>solicitei portabilidade da vivo para a claro p...</td>\n",
              "      <td>136</td>\n",
              "      <td>752</td>\n",
              "      <td>sinal/conexão de rede; cobrança indevida; plan...</td>\n",
              "    </tr>\n",
              "    <tr>\n",
              "      <th>4</th>\n",
              "      <td>Problemas com o chip</td>\n",
              "      <td>contratei este prezao celular, paguei 20,00 re...</td>\n",
              "      <td>13</td>\n",
              "      <td>80</td>\n",
              "      <td>chip/sim card; cancelar linha/plano; cobrança ...</td>\n",
              "    </tr>\n",
              "    <tr>\n",
              "      <th>...</th>\n",
              "      <td>...</td>\n",
              "      <td>...</td>\n",
              "      <td>...</td>\n",
              "      <td>...</td>\n",
              "      <td>...</td>\n",
              "    </tr>\n",
              "    <tr>\n",
              "      <th>1997</th>\n",
              "      <td>Problemas com o chip</td>\n",
              "      <td>comprei um chip da claro no dia 13/07/22, a ve...</td>\n",
              "      <td>108</td>\n",
              "      <td>631</td>\n",
              "      <td>NaN</td>\n",
              "    </tr>\n",
              "    <tr>\n",
              "      <th>1998</th>\n",
              "      <td>Mudança de plano</td>\n",
              "      <td>em dezembro de 2022 a claro me ligou e me ofer...</td>\n",
              "      <td>173</td>\n",
              "      <td>961</td>\n",
              "      <td>NaN</td>\n",
              "    </tr>\n",
              "    <tr>\n",
              "      <th>1999</th>\n",
              "      <td>Cancelamento</td>\n",
              "      <td>no dia 27/05/23 a claro me ofereceu um upgrade...</td>\n",
              "      <td>368</td>\n",
              "      <td>2210</td>\n",
              "      <td>NaN</td>\n",
              "    </tr>\n",
              "    <tr>\n",
              "      <th>2000</th>\n",
              "      <td>Qualidade da internet</td>\n",
              "      <td>perdi meu celular, comprei novo chip fiz a tro...</td>\n",
              "      <td>118</td>\n",
              "      <td>616</td>\n",
              "      <td>NaN</td>\n",
              "    </tr>\n",
              "    <tr>\n",
              "      <th>2001</th>\n",
              "      <td>Corte indevido da linha</td>\n",
              "      <td>ontem dia 15/08 houve a queda de energia em bo...</td>\n",
              "      <td>401</td>\n",
              "      <td>2341</td>\n",
              "      <td>NaN</td>\n",
              "    </tr>\n",
              "  </tbody>\n",
              "</table>\n",
              "<p>2002 rows × 5 columns</p>\n",
              "</div>\n",
              "    <div class=\"colab-df-buttons\">\n",
              "\n",
              "  <div class=\"colab-df-container\">\n",
              "    <button class=\"colab-df-convert\" onclick=\"convertToInteractive('df-64300e4a-17ed-4a31-ab50-b5a6149da0eb')\"\n",
              "            title=\"Convert this dataframe to an interactive table.\"\n",
              "            style=\"display:none;\">\n",
              "\n",
              "  <svg xmlns=\"http://www.w3.org/2000/svg\" height=\"24px\" viewBox=\"0 -960 960 960\">\n",
              "    <path d=\"M120-120v-720h720v720H120Zm60-500h600v-160H180v160Zm220 220h160v-160H400v160Zm0 220h160v-160H400v160ZM180-400h160v-160H180v160Zm440 0h160v-160H620v160ZM180-180h160v-160H180v160Zm440 0h160v-160H620v160Z\"/>\n",
              "  </svg>\n",
              "    </button>\n",
              "\n",
              "  <style>\n",
              "    .colab-df-container {\n",
              "      display:flex;\n",
              "      gap: 12px;\n",
              "    }\n",
              "\n",
              "    .colab-df-convert {\n",
              "      background-color: #E8F0FE;\n",
              "      border: none;\n",
              "      border-radius: 50%;\n",
              "      cursor: pointer;\n",
              "      display: none;\n",
              "      fill: #1967D2;\n",
              "      height: 32px;\n",
              "      padding: 0 0 0 0;\n",
              "      width: 32px;\n",
              "    }\n",
              "\n",
              "    .colab-df-convert:hover {\n",
              "      background-color: #E2EBFA;\n",
              "      box-shadow: 0px 1px 2px rgba(60, 64, 67, 0.3), 0px 1px 3px 1px rgba(60, 64, 67, 0.15);\n",
              "      fill: #174EA6;\n",
              "    }\n",
              "\n",
              "    .colab-df-buttons div {\n",
              "      margin-bottom: 4px;\n",
              "    }\n",
              "\n",
              "    [theme=dark] .colab-df-convert {\n",
              "      background-color: #3B4455;\n",
              "      fill: #D2E3FC;\n",
              "    }\n",
              "\n",
              "    [theme=dark] .colab-df-convert:hover {\n",
              "      background-color: #434B5C;\n",
              "      box-shadow: 0px 1px 3px 1px rgba(0, 0, 0, 0.15);\n",
              "      filter: drop-shadow(0px 1px 2px rgba(0, 0, 0, 0.3));\n",
              "      fill: #FFFFFF;\n",
              "    }\n",
              "  </style>\n",
              "\n",
              "    <script>\n",
              "      const buttonEl =\n",
              "        document.querySelector('#df-64300e4a-17ed-4a31-ab50-b5a6149da0eb button.colab-df-convert');\n",
              "      buttonEl.style.display =\n",
              "        google.colab.kernel.accessAllowed ? 'block' : 'none';\n",
              "\n",
              "      async function convertToInteractive(key) {\n",
              "        const element = document.querySelector('#df-64300e4a-17ed-4a31-ab50-b5a6149da0eb');\n",
              "        const dataTable =\n",
              "          await google.colab.kernel.invokeFunction('convertToInteractive',\n",
              "                                                    [key], {});\n",
              "        if (!dataTable) return;\n",
              "\n",
              "        const docLinkHtml = 'Like what you see? Visit the ' +\n",
              "          '<a target=\"_blank\" href=https://colab.research.google.com/notebooks/data_table.ipynb>data table notebook</a>'\n",
              "          + ' to learn more about interactive tables.';\n",
              "        element.innerHTML = '';\n",
              "        dataTable['output_type'] = 'display_data';\n",
              "        await google.colab.output.renderOutput(dataTable, element);\n",
              "        const docLink = document.createElement('div');\n",
              "        docLink.innerHTML = docLinkHtml;\n",
              "        element.appendChild(docLink);\n",
              "      }\n",
              "    </script>\n",
              "  </div>\n",
              "\n",
              "\n",
              "<div id=\"df-237962e6-4d24-4013-bf76-bd94974be415\">\n",
              "  <button class=\"colab-df-quickchart\" onclick=\"quickchart('df-237962e6-4d24-4013-bf76-bd94974be415')\"\n",
              "            title=\"Suggest charts\"\n",
              "            style=\"display:none;\">\n",
              "\n",
              "<svg xmlns=\"http://www.w3.org/2000/svg\" height=\"24px\"viewBox=\"0 0 24 24\"\n",
              "     width=\"24px\">\n",
              "    <g>\n",
              "        <path d=\"M19 3H5c-1.1 0-2 .9-2 2v14c0 1.1.9 2 2 2h14c1.1 0 2-.9 2-2V5c0-1.1-.9-2-2-2zM9 17H7v-7h2v7zm4 0h-2V7h2v10zm4 0h-2v-4h2v4z\"/>\n",
              "    </g>\n",
              "</svg>\n",
              "  </button>\n",
              "\n",
              "<style>\n",
              "  .colab-df-quickchart {\n",
              "      --bg-color: #E8F0FE;\n",
              "      --fill-color: #1967D2;\n",
              "      --hover-bg-color: #E2EBFA;\n",
              "      --hover-fill-color: #174EA6;\n",
              "      --disabled-fill-color: #AAA;\n",
              "      --disabled-bg-color: #DDD;\n",
              "  }\n",
              "\n",
              "  [theme=dark] .colab-df-quickchart {\n",
              "      --bg-color: #3B4455;\n",
              "      --fill-color: #D2E3FC;\n",
              "      --hover-bg-color: #434B5C;\n",
              "      --hover-fill-color: #FFFFFF;\n",
              "      --disabled-bg-color: #3B4455;\n",
              "      --disabled-fill-color: #666;\n",
              "  }\n",
              "\n",
              "  .colab-df-quickchart {\n",
              "    background-color: var(--bg-color);\n",
              "    border: none;\n",
              "    border-radius: 50%;\n",
              "    cursor: pointer;\n",
              "    display: none;\n",
              "    fill: var(--fill-color);\n",
              "    height: 32px;\n",
              "    padding: 0;\n",
              "    width: 32px;\n",
              "  }\n",
              "\n",
              "  .colab-df-quickchart:hover {\n",
              "    background-color: var(--hover-bg-color);\n",
              "    box-shadow: 0 1px 2px rgba(60, 64, 67, 0.3), 0 1px 3px 1px rgba(60, 64, 67, 0.15);\n",
              "    fill: var(--button-hover-fill-color);\n",
              "  }\n",
              "\n",
              "  .colab-df-quickchart-complete:disabled,\n",
              "  .colab-df-quickchart-complete:disabled:hover {\n",
              "    background-color: var(--disabled-bg-color);\n",
              "    fill: var(--disabled-fill-color);\n",
              "    box-shadow: none;\n",
              "  }\n",
              "\n",
              "  .colab-df-spinner {\n",
              "    border: 2px solid var(--fill-color);\n",
              "    border-color: transparent;\n",
              "    border-bottom-color: var(--fill-color);\n",
              "    animation:\n",
              "      spin 1s steps(1) infinite;\n",
              "  }\n",
              "\n",
              "  @keyframes spin {\n",
              "    0% {\n",
              "      border-color: transparent;\n",
              "      border-bottom-color: var(--fill-color);\n",
              "      border-left-color: var(--fill-color);\n",
              "    }\n",
              "    20% {\n",
              "      border-color: transparent;\n",
              "      border-left-color: var(--fill-color);\n",
              "      border-top-color: var(--fill-color);\n",
              "    }\n",
              "    30% {\n",
              "      border-color: transparent;\n",
              "      border-left-color: var(--fill-color);\n",
              "      border-top-color: var(--fill-color);\n",
              "      border-right-color: var(--fill-color);\n",
              "    }\n",
              "    40% {\n",
              "      border-color: transparent;\n",
              "      border-right-color: var(--fill-color);\n",
              "      border-top-color: var(--fill-color);\n",
              "    }\n",
              "    60% {\n",
              "      border-color: transparent;\n",
              "      border-right-color: var(--fill-color);\n",
              "    }\n",
              "    80% {\n",
              "      border-color: transparent;\n",
              "      border-right-color: var(--fill-color);\n",
              "      border-bottom-color: var(--fill-color);\n",
              "    }\n",
              "    90% {\n",
              "      border-color: transparent;\n",
              "      border-bottom-color: var(--fill-color);\n",
              "    }\n",
              "  }\n",
              "</style>\n",
              "\n",
              "  <script>\n",
              "    async function quickchart(key) {\n",
              "      const quickchartButtonEl =\n",
              "        document.querySelector('#' + key + ' button');\n",
              "      quickchartButtonEl.disabled = true;  // To prevent multiple clicks.\n",
              "      quickchartButtonEl.classList.add('colab-df-spinner');\n",
              "      try {\n",
              "        const charts = await google.colab.kernel.invokeFunction(\n",
              "            'suggestCharts', [key], {});\n",
              "      } catch (error) {\n",
              "        console.error('Error during call to suggestCharts:', error);\n",
              "      }\n",
              "      quickchartButtonEl.classList.remove('colab-df-spinner');\n",
              "      quickchartButtonEl.classList.add('colab-df-quickchart-complete');\n",
              "    }\n",
              "    (() => {\n",
              "      let quickchartButtonEl =\n",
              "        document.querySelector('#df-237962e6-4d24-4013-bf76-bd94974be415 button');\n",
              "      quickchartButtonEl.style.display =\n",
              "        google.colab.kernel.accessAllowed ? 'block' : 'none';\n",
              "    })();\n",
              "  </script>\n",
              "</div>\n",
              "\n",
              "  <div id=\"id_78110f19-390f-43d1-b1ad-d15c6e09b3e9\">\n",
              "    <style>\n",
              "      .colab-df-generate {\n",
              "        background-color: #E8F0FE;\n",
              "        border: none;\n",
              "        border-radius: 50%;\n",
              "        cursor: pointer;\n",
              "        display: none;\n",
              "        fill: #1967D2;\n",
              "        height: 32px;\n",
              "        padding: 0 0 0 0;\n",
              "        width: 32px;\n",
              "      }\n",
              "\n",
              "      .colab-df-generate:hover {\n",
              "        background-color: #E2EBFA;\n",
              "        box-shadow: 0px 1px 2px rgba(60, 64, 67, 0.3), 0px 1px 3px 1px rgba(60, 64, 67, 0.15);\n",
              "        fill: #174EA6;\n",
              "      }\n",
              "\n",
              "      [theme=dark] .colab-df-generate {\n",
              "        background-color: #3B4455;\n",
              "        fill: #D2E3FC;\n",
              "      }\n",
              "\n",
              "      [theme=dark] .colab-df-generate:hover {\n",
              "        background-color: #434B5C;\n",
              "        box-shadow: 0px 1px 3px 1px rgba(0, 0, 0, 0.15);\n",
              "        filter: drop-shadow(0px 1px 2px rgba(0, 0, 0, 0.3));\n",
              "        fill: #FFFFFF;\n",
              "      }\n",
              "    </style>\n",
              "    <button class=\"colab-df-generate\" onclick=\"generateWithVariable('df')\"\n",
              "            title=\"Generate code using this dataframe.\"\n",
              "            style=\"display:none;\">\n",
              "\n",
              "  <svg xmlns=\"http://www.w3.org/2000/svg\" height=\"24px\"viewBox=\"0 0 24 24\"\n",
              "       width=\"24px\">\n",
              "    <path d=\"M7,19H8.4L18.45,9,17,7.55,7,17.6ZM5,21V16.75L18.45,3.32a2,2,0,0,1,2.83,0l1.4,1.43a1.91,1.91,0,0,1,.58,1.4,1.91,1.91,0,0,1-.58,1.4L9.25,21ZM18.45,9,17,7.55Zm-12,3A5.31,5.31,0,0,0,4.9,8.1,5.31,5.31,0,0,0,1,6.5,5.31,5.31,0,0,0,4.9,4.9,5.31,5.31,0,0,0,6.5,1,5.31,5.31,0,0,0,8.1,4.9,5.31,5.31,0,0,0,12,6.5,5.46,5.46,0,0,0,6.5,12Z\"/>\n",
              "  </svg>\n",
              "    </button>\n",
              "    <script>\n",
              "      (() => {\n",
              "      const buttonEl =\n",
              "        document.querySelector('#id_78110f19-390f-43d1-b1ad-d15c6e09b3e9 button.colab-df-generate');\n",
              "      buttonEl.style.display =\n",
              "        google.colab.kernel.accessAllowed ? 'block' : 'none';\n",
              "\n",
              "      buttonEl.onclick = () => {\n",
              "        google.colab.notebook.generateWithVariable('df');\n",
              "      }\n",
              "      })();\n",
              "    </script>\n",
              "  </div>\n",
              "\n",
              "    </div>\n",
              "  </div>\n"
            ]
          },
          "metadata": {},
          "execution_count": 81
        }
      ]
    },
    {
      "cell_type": "markdown",
      "source": [
        "---"
      ],
      "metadata": {
        "id": "fUKGKT7JoNDS"
      }
    }
  ],
  "metadata": {
    "language_info": {
      "name": "python"
    },
    "orig_nbformat": 4,
    "colab": {
      "provenance": [],
      "gpuType": "T4",
      "include_colab_link": true
    },
    "kernelspec": {
      "name": "python3",
      "display_name": "Python 3"
    },
    "accelerator": "GPU"
  },
  "nbformat": 4,
  "nbformat_minor": 0
}